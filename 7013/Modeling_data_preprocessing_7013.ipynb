{
 "cells": [
  {
   "cell_type": "code",
   "execution_count": 66,
   "metadata": {},
   "outputs": [],
   "source": [
    "import random\n",
    "import pandas as pd\n",
    "import geopandas as gpd\n",
    "from shapely.geometry import Point, LineString\n",
    "import numpy as np\n",
    "import warnings\n",
    "from tqdm import tqdm_notebook as tqdm\n",
    "import requests\n",
    "import json\n",
    "import API\n",
    "import matplotlib.pyplot as plt\n",
    "import GoogleDistanceMatrix\n",
    "import GoogleVRP\n",
    "import routing\n",
    "pd.set_option('display.max_columns',None)\n",
    "pd.set_option('display.max_rows',None)\n",
    "warnings.filterwarnings('ignore')"
   ]
  },
  {
   "cell_type": "code",
   "execution_count": 67,
   "metadata": {},
   "outputs": [],
   "source": [
    "order = pd.read_excel('../1. Sales Data/DMS Data (Jun-Sep2020)/DMS order_Jun-Sep2020 (Only store with DMS available).xlsx')\n",
    "order = order.loc[order['Instant Order']==True]\n",
    "store = pd.read_csv('Data/StoreLocation.csv')"
   ]
  },
  {
   "cell_type": "code",
   "execution_count": 68,
   "metadata": {},
   "outputs": [],
   "source": [
    "order['orderTime'] = pd.to_datetime(order['下單時間'])\n",
    "order['arrivalTime'] = pd.to_datetime(order['訂單送達時間'])\n",
    "order['departureTime'] = pd.to_datetime(order['取餐出發時間'])\n",
    "\n",
    "order['waitingTime'] = order['arrivalTime'] - order['orderTime']\n",
    "order['tripDurationReal'] = pd.to_datetime(order['訂單送達時間']) - pd.to_datetime(order['departureTime'])\n",
    "order['tripDurationReal'] = order['tripDurationReal'].dt.seconds"
   ]
  },
  {
   "cell_type": "code",
   "execution_count": 69,
   "metadata": {},
   "outputs": [
    {
     "data": {
      "text/plain": [
       "Timestamp('2020-06-29 00:00:00')"
      ]
     },
     "execution_count": 69,
     "metadata": {},
     "output_type": "execute_result"
    }
   ],
   "source": [
    "pd.to_datetime('2020-06-29')"
   ]
  },
  {
   "cell_type": "code",
   "execution_count": 70,
   "metadata": {},
   "outputs": [],
   "source": [
    "order = order.loc[(order['orderTime']>=pd.to_datetime('2020-06-29'))&(order['orderTime']<=pd.to_datetime('2020-07-05'))]"
   ]
  },
  {
   "cell_type": "code",
   "execution_count": 71,
   "metadata": {},
   "outputs": [],
   "source": [
    "order = order.loc[order['門店名稱'].isin(['PH64', 'PH57', 'PHD629', 'PHD606'])]"
   ]
  },
  {
   "cell_type": "code",
   "execution_count": 72,
   "metadata": {},
   "outputs": [
    {
     "data": {
      "text/plain": [
       "(1329, 19)"
      ]
     },
     "execution_count": 72,
     "metadata": {},
     "output_type": "execute_result"
    }
   ],
   "source": [
    "order.shape"
   ]
  },
  {
   "cell_type": "code",
   "execution_count": 73,
   "metadata": {},
   "outputs": [],
   "source": [
    "def get_lat_lon(x):\n",
    "    location = x['配送地址']\n",
    "    url = 'https://maps.googleapis.com/maps/api/geocode/json?address=香港'+location+'&key='+API.key\n",
    "    data = requests.get(url)\n",
    "    text = json.loads(data.text)\n",
    "    if text['results'] == []:\n",
    "        return('missing')\n",
    "    lat = str(text['results'][0]['geometry']['location']['lat'])\n",
    "    lng = str(text['results'][0]['geometry']['location']['lng'])\n",
    "    return(lat+','+lng)"
   ]
  },
  {
   "cell_type": "code",
   "execution_count": 74,
   "metadata": {},
   "outputs": [],
   "source": [
    "order['DeliveryLatLon'] = order.apply(get_lat_lon,axis=1)"
   ]
  },
  {
   "cell_type": "code",
   "execution_count": 75,
   "metadata": {},
   "outputs": [],
   "source": [
    "\n",
    "def tripDurationFromGoogle(x):\n",
    "    # distance matrix API\n",
    "    StoreLatLon,DeliveryLatLon = x['StoreLatLon'],x['DeliveryLatLon']\n",
    "    url = 'https://maps.googleapis.com/maps/api/distancematrix/json?units=imperial&origins='+StoreLatLon+\\\n",
    "    '&destinations='+DeliveryLatLon+'&key='+API.key\n",
    "    data = requests.get(url)\n",
    "    text = json.loads(data.text)\n",
    "    if text['rows'] != []:\n",
    "        if 'duration' in text['rows'][0]['elements'][0]:\n",
    "            \n",
    "            duration = text['rows'][0]['elements'][0]['duration']['value']\n",
    "            return duration\n",
    "    else:\n",
    "        return 'missing'"
   ]
  },
  {
   "cell_type": "code",
   "execution_count": 76,
   "metadata": {},
   "outputs": [],
   "source": [
    "order = order.sort_values(by=['取餐出發時間','Rider'])\n",
    "order['last取餐出發時間'] = order['取餐出發時間'].shift(1)\n",
    "order['lastRider'] = order['Rider'].shift(1)\n",
    "order['pre取餐出發時間'] = order['取餐出發時間'].shift(-1)\n",
    "order['preRider'] = order['Rider'].shift(-1)"
   ]
  },
  {
   "cell_type": "code",
   "execution_count": 77,
   "metadata": {},
   "outputs": [],
   "source": [
    "order['shared'] = 0\n",
    "order.loc[((order['last取餐出發時間']==order['取餐出發時間'])&(order['lastRider']==order['Rider']))|\n",
    "                   ((order['pre取餐出發時間']==order['取餐出發時間'])&(order['preRider']==order['Rider'])),'shared'] = 1"
   ]
  },
  {
   "cell_type": "code",
   "execution_count": 78,
   "metadata": {},
   "outputs": [],
   "source": [
    "order = order[['日期', '門店名稱', '配送地址', '下單時間', '指派成功時間', '騎手接單時間', '到店取餐時間', '取餐出發時間',\n",
    "       '訂單送達時間', '預送達時間', 'Banner', 'Instant Order', '收貨地址坐標', 'Rider',\n",
    "       'orderTime', 'arrivalTime', 'waitingTime',\n",
    "       'last取餐出發時間', 'lastRider', 'departureTime', 'tripDurationReal',\n",
    "       'DeliveryLatLon','shared']]"
   ]
  },
  {
   "cell_type": "code",
   "execution_count": 79,
   "metadata": {},
   "outputs": [],
   "source": [
    "order = order.merge(store, how='left',left_on='門店名稱', right_on='storeCode')\n",
    "order['StoreLatLon'] = order['lat'].astype(str)+','+order['lon'].astype(str)"
   ]
  },
  {
   "cell_type": "code",
   "execution_count": 80,
   "metadata": {},
   "outputs": [],
   "source": [
    "order['tripDurationFromGoogle'] = order.apply(lambda x:tripDurationFromGoogle(x),axis=1)"
   ]
  },
  {
   "cell_type": "code",
   "execution_count": 81,
   "metadata": {},
   "outputs": [],
   "source": [
    "order['tripDurationFromGoogle'].fillna('missing',inplace=True)\n",
    "order = order.loc[order['tripDurationFromGoogle']!='missing']\n",
    "order['tripDurationFromGoogle'] = order['tripDurationFromGoogle'].astype(int)"
   ]
  },
  {
   "cell_type": "code",
   "execution_count": 82,
   "metadata": {},
   "outputs": [
    {
     "data": {
      "text/plain": [
       "7.563275193798449"
      ]
     },
     "execution_count": 82,
     "metadata": {},
     "output_type": "execute_result"
    }
   ],
   "source": [
    "order.loc[order['shared']==0]['tripDurationFromGoogle'].mean()/60"
   ]
  },
  {
   "cell_type": "code",
   "execution_count": 83,
   "metadata": {},
   "outputs": [
    {
     "data": {
      "text/plain": [
       "20.135364583333335"
      ]
     },
     "execution_count": 83,
     "metadata": {},
     "output_type": "execute_result"
    }
   ],
   "source": [
    "order.loc[order['shared']==0]['tripDurationReal'].mean()/60"
   ]
  },
  {
   "cell_type": "code",
   "execution_count": 84,
   "metadata": {},
   "outputs": [
    {
     "data": {
      "text/plain": [
       "2.135738592635864"
      ]
     },
     "execution_count": 84,
     "metadata": {},
     "output_type": "execute_result"
    }
   ],
   "source": [
    "timeParameter = (order.loc[order['shared']==0]['tripDurationReal']/ order.loc[order['shared']==0]['tripDurationFromGoogle']).median()\n",
    "order['timeParameter'] = timeParameter\n",
    "timeParameter"
   ]
  },
  {
   "cell_type": "code",
   "execution_count": 85,
   "metadata": {},
   "outputs": [],
   "source": [
    "order['foodPreparationTime'] = pd.to_datetime(order['取餐出發時間']) - pd.to_datetime(order['下單時間'])"
   ]
  },
  {
   "cell_type": "code",
   "execution_count": 86,
   "metadata": {},
   "outputs": [
    {
     "data": {
      "text/plain": [
       "Timedelta('0 days 00:28:43.434375')"
      ]
     },
     "execution_count": 86,
     "metadata": {},
     "output_type": "execute_result"
    }
   ],
   "source": [
    "order.loc[order['shared']==0]['foodPreparationTime'].mean()"
   ]
  },
  {
   "cell_type": "code",
   "execution_count": 87,
   "metadata": {},
   "outputs": [
    {
     "data": {
      "text/plain": [
       "Timedelta('0 days 00:33:41.250788')"
      ]
     },
     "execution_count": 87,
     "metadata": {},
     "output_type": "execute_result"
    }
   ],
   "source": [
    "order.loc[order['shared']==1]['foodPreparationTime'].mean()"
   ]
  },
  {
   "cell_type": "code",
   "execution_count": 88,
   "metadata": {},
   "outputs": [],
   "source": [
    "order = order.loc[order['tripDurationReal']>order['tripDurationFromGoogle']]"
   ]
  },
  {
   "cell_type": "code",
   "execution_count": 89,
   "metadata": {},
   "outputs": [],
   "source": [
    "order.to_csv('Data/ProcessedJun29.csv',index=False)"
   ]
  },
  {
   "cell_type": "code",
   "execution_count": null,
   "metadata": {},
   "outputs": [],
   "source": []
  }
 ],
 "metadata": {
  "kernelspec": {
   "display_name": "Python 3",
   "language": "python",
   "name": "python3"
  },
  "language_info": {
   "codemirror_mode": {
    "name": "ipython",
    "version": 3
   },
   "file_extension": ".py",
   "mimetype": "text/x-python",
   "name": "python",
   "nbconvert_exporter": "python",
   "pygments_lexer": "ipython3",
   "version": "3.7.6"
  }
 },
 "nbformat": 4,
 "nbformat_minor": 4
}
