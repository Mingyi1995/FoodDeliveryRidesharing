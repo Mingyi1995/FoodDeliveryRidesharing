{
 "cells": [
  {
   "cell_type": "code",
   "execution_count": 148,
   "metadata": {},
   "outputs": [],
   "source": [
    "import gurobipy as gp\n",
    "from gurobipy import GRB\n",
    "import pandas as pd\n",
    "import geopandas as gpd\n",
    "from shapely.geometry import Point, LineString\n",
    "import numpy as np\n",
    "import warnings\n",
    "from tqdm import tqdm_notebook as tqdm\n",
    "import requests\n",
    "import json\n",
    "import API\n",
    "import matplotlib.pyplot as plt\n",
    "pd.set_option('display.max_columns',None)\n",
    "warnings.filterwarnings('ignore')"
   ]
  },
  {
   "cell_type": "code",
   "execution_count": 131,
   "metadata": {},
   "outputs": [],
   "source": [
    "order = pd.read_csv('../codebase/DeliveryRecord.csv')"
   ]
  },
  {
   "cell_type": "code",
   "execution_count": 132,
   "metadata": {},
   "outputs": [
    {
     "data": {
      "text/plain": [
       "Index(['日期', '門店名稱', '配送地址', '下單時間', '指派成功時間', '騎手接單時間', '到店取餐時間', '取餐出發時間',\n",
       "       '訂單送達時間', '預送達時間', 'Banner', 'Instant Order', '收貨地址坐標', 'Rider',\n",
       "       'EstimateArrivalGap', 'TripTime', 'TicketWaitingTime',\n",
       "       'FoodPreparationTime', 'TotalWaitingTime', 'orderHour', 'storeCode',\n",
       "       'lat', 'lon'],\n",
       "      dtype='object')"
      ]
     },
     "execution_count": 132,
     "metadata": {},
     "output_type": "execute_result"
    }
   ],
   "source": [
    "order.columns"
   ]
  },
  {
   "cell_type": "code",
   "execution_count": 133,
   "metadata": {},
   "outputs": [],
   "source": [
    "order['orderTime'] = pd.to_datetime(order['下單時間'])\n",
    "order['orderMonth'] = pd.to_datetime(order['下單時間']).dt.month\n",
    "order['orderDate'] = pd.to_datetime(order['下單時間']).dt.day\n",
    "order['departureTime'] = pd.to_datetime(order['取餐出發時間'])\n",
    "# order['Origin'] = order.apply(lambda x: Point(float(x['lon']),float(x['lat'])), axis=1)\n",
    "# order['Destination'] = order['收貨地址坐標'].apply(lambda x: Point(float(x.split(',')[1]),float(x.split(',')[0])))\n",
    "order['extraTime'] = (pd.to_datetime(order['預送達時間']) - pd.to_datetime(order['訂單送達時間'])) / np.timedelta64(1, 'm')\n",
    "order = order.sort_values(by=['orderTime'])\n",
    "order['DLat'] = order['收貨地址坐標'].apply(lambda x: x.split(',')[0])\n",
    "order['DLon'] = order['收貨地址坐標'].apply(lambda x: x.split(',')[1])\n",
    "order = order.rename(columns={'lat':'OLat','lon':'OLon'})"
   ]
  },
  {
   "cell_type": "code",
   "execution_count": 134,
   "metadata": {},
   "outputs": [],
   "source": [
    "order = order.loc[(order['orderMonth']==6)&(order['orderDate']<=3)]"
   ]
  },
  {
   "cell_type": "code",
   "execution_count": 135,
   "metadata": {},
   "outputs": [
    {
     "data": {
      "text/plain": [
       "Index(['日期', '門店名稱', '配送地址', '下單時間', '指派成功時間', '騎手接單時間', '到店取餐時間', '取餐出發時間',\n",
       "       '訂單送達時間', '預送達時間', 'Banner', 'Instant Order', '收貨地址坐標', 'Rider',\n",
       "       'EstimateArrivalGap', 'TripTime', 'TicketWaitingTime',\n",
       "       'FoodPreparationTime', 'TotalWaitingTime', 'orderHour', 'storeCode',\n",
       "       'OLat', 'OLon', 'orderTime', 'orderMonth', 'orderDate', 'departureTime',\n",
       "       'extraTime', 'DLat', 'DLon'],\n",
       "      dtype='object')"
      ]
     },
     "execution_count": 135,
     "metadata": {},
     "output_type": "execute_result"
    }
   ],
   "source": [
    "order.columns"
   ]
  },
  {
   "cell_type": "code",
   "execution_count": 137,
   "metadata": {},
   "outputs": [
    {
     "data": {
      "text/plain": [
       "(1737, 30)"
      ]
     },
     "execution_count": 137,
     "metadata": {},
     "output_type": "execute_result"
    }
   ],
   "source": [
    "order.shape"
   ]
  },
  {
   "cell_type": "code",
   "execution_count": 138,
   "metadata": {},
   "outputs": [],
   "source": [
    "key = API.key"
   ]
  },
  {
   "cell_type": "code",
   "execution_count": 142,
   "metadata": {},
   "outputs": [],
   "source": [
    "distanceList = []\n",
    "endLat = []\n",
    "endLon = []"
   ]
  },
  {
   "cell_type": "code",
   "execution_count": 143,
   "metadata": {},
   "outputs": [
    {
     "data": {
      "application/vnd.jupyter.widget-view+json": {
       "model_id": "22566d54cdaf4d6d9c424a0723be210b",
       "version_major": 2,
       "version_minor": 0
      },
      "text/plain": [
       "HBox(children=(FloatProgress(value=0.0, max=1737.0), HTML(value='')))"
      ]
     },
     "metadata": {},
     "output_type": "display_data"
    },
    {
     "name": "stdout",
     "output_type": "stream",
     "text": [
      "\n"
     ]
    }
   ],
   "source": [
    "\n",
    "for i in tqdm(range(len(order))):\n",
    "    OLat,OLon,destination = order.iloc[i]['OLat'],order.iloc[i]['OLon'],order.iloc[i]['配送地址']\n",
    "    url = 'https://maps.googleapis.com/maps/api/directions/json?origin='+str(OLat)+','+\\\n",
    "        str(OLon)+'&destination='+destination+'&mode=walking&key='+key\n",
    "    data = requests.get(url)\n",
    "    text = json.loads(data.text)\n",
    "    if text['routes'] == []:\n",
    "        distance = 'missing'\n",
    "        lat = 'missing'\n",
    "        lon = 'missing'\n",
    "    else:\n",
    "        distance = text['routes'][0]['legs'][0]['distance']['text']\n",
    "        lat = text['routes'][0]['legs'][0]['end_location']['lat']\n",
    "        lon = text['routes'][0]['legs'][0]['end_location']['lng']\n",
    "    distanceList += [distance]\n",
    "    endLat += [lat]\n",
    "    endLon += [lon]\n",
    "#     break"
   ]
  },
  {
   "cell_type": "code",
   "execution_count": 145,
   "metadata": {},
   "outputs": [],
   "source": [
    "order['distance'] = distanceList"
   ]
  },
  {
   "cell_type": "code",
   "execution_count": 146,
   "metadata": {},
   "outputs": [],
   "source": [
    "order.to_csv('orderDistance0601-0603.csv',index=False)"
   ]
  },
  {
   "cell_type": "code",
   "execution_count": 150,
   "metadata": {},
   "outputs": [],
   "source": [
    "order = order.loc[order['distance']!='missing']\n",
    "order['distance'] = order['distance'].apply(lambda x:float(x.split(' ')[0]))"
   ]
  },
  {
   "cell_type": "code",
   "execution_count": 153,
   "metadata": {},
   "outputs": [
    {
     "data": {
      "text/plain": [
       "Text(0, 0.5, 'count')"
      ]
     },
     "execution_count": 153,
     "metadata": {},
     "output_type": "execute_result"
    },
    {
     "data": {
      "image/png": "[encoded data removed]",
      "text/plain": [
       "<Figure size 432x288 with 1 Axes>"
      ]
     },
     "metadata": {
      "needs_background": "light"
     },
     "output_type": "display_data"
    }
   ],
   "source": [
    "order = order.loc[(order['distance']<20)&(order['distance']>0)]\n",
    "\n",
    "plt.hist(order['distance'],bins=100)\n",
    "plt.xlabel('km')\n",
    "plt.ylabel('count')"
   ]
  },
  {
   "cell_type": "code",
   "execution_count": 167,
   "metadata": {},
   "outputs": [
    {
     "data": {
      "text/plain": [
       "Index(['日期', '門店名稱', '配送地址', '下單時間', '指派成功時間', '騎手接單時間', '到店取餐時間', '取餐出發時間',\n",
       "       '訂單送達時間', '預送達時間', 'Banner', 'Instant Order', '收貨地址坐標', 'Rider',\n",
       "       'EstimateArrivalGap', 'TripTime', 'TicketWaitingTime',\n",
       "       'FoodPreparationTime', 'TotalWaitingTime', 'orderHour', 'storeCode',\n",
       "       'OLat', 'OLon', 'orderTime', 'orderMonth', 'orderDate', 'departureTime',\n",
       "       'extraTime', 'DLat', 'DLon', 'distance', 'walkingDuration',\n",
       "       'walkingEST'],\n",
       "      dtype='object')"
      ]
     },
     "execution_count": 167,
     "metadata": {},
     "output_type": "execute_result"
    }
   ],
   "source": [
    "order = order[['orderDate','orderMonth','orderTime']]"
   ]
  },
  {
   "cell_type": "code",
   "execution_count": 166,
   "metadata": {},
   "outputs": [],
   "source": [
    "#walking speed 5km/hour\n",
    "order['walkingDuration'] = order['distance']/5*60\n",
    "order['walkingEST'] = order['departureTime']+pd.to_timedelta(order['walkingDuration'], unit='minutes')"
   ]
  },
  {
   "cell_type": "code",
   "execution_count": 168,
   "metadata": {},
   "outputs": [],
   "source": [
    "order['gapWalkEstimate'] = (pd.to_datetime(order['預送達時間']) - pd.to_datetime(order['walkingEST'])) / np.timedelta64(1, 'm')"
   ]
  },
  {
   "cell_type": "code",
   "execution_count": 169,
   "metadata": {},
   "outputs": [
    {
     "data": {
      "text/plain": [
       "count    1712.000000\n",
       "mean        0.884540\n",
       "std        32.694998\n",
       "min      -142.200000\n",
       "25%        -3.112500\n",
       "50%         7.816667\n",
       "75%        16.566667\n",
       "max        92.483333\n",
       "Name: gapWalkEstimate, dtype: float64"
      ]
     },
     "execution_count": 169,
     "metadata": {},
     "output_type": "execute_result"
    }
   ],
   "source": [
    "order['gapWalkEstimate'].describe()"
   ]
  },
  {
   "cell_type": "code",
   "execution_count": 181,
   "metadata": {},
   "outputs": [],
   "source": [
    "#e-bike speed 25km/hour\n",
    "order['EBikeDuration'] = order['distance']/25*60\n",
    "order['EBikeEST'] = order['departureTime']+pd.to_timedelta(order['EBikeDuration'], unit='minutes')\n",
    "order['gapEBikEstimate'] = (pd.to_datetime(order['預送達時間']) - \n",
    "                            pd.to_datetime(order['EBikeEST'])) / np.timedelta64(1, 'm')"
   ]
  },
  {
   "cell_type": "code",
   "execution_count": 182,
   "metadata": {},
   "outputs": [
    {
     "data": {
      "text/plain": [
       "count    1712.000000\n",
       "mean        4.711121\n",
       "std         5.714594\n",
       "min         0.240000\n",
       "25%         1.920000\n",
       "50%         3.120000\n",
       "75%         4.860000\n",
       "max        31.200000\n",
       "Name: EBikeDuration, dtype: float64"
      ]
     },
     "execution_count": 182,
     "metadata": {},
     "output_type": "execute_result"
    }
   ],
   "source": [
    "order['EBikeDuration'].describe()"
   ]
  },
  {
   "cell_type": "code",
   "execution_count": 192,
   "metadata": {},
   "outputs": [
    {
     "data": {
      "text/plain": [
       "Text(0, 0.5, 'count')"
      ]
     },
     "execution_count": 192,
     "metadata": {},
     "output_type": "execute_result"
    },
    {
     "data": {
      "image/png": "[encoded data removed]",
      "text/plain": [
       "<Figure size 432x288 with 1 Axes>"
      ]
     },
     "metadata": {
      "needs_background": "light"
     },
     "output_type": "display_data"
    }
   ],
   "source": [
    "plt.hist(order['TripTime'],label='real trip duration',alpha=0.8)\n",
    "plt.vlines(order['TripTime'].mean(),ymin=0,ymax=1000)\n",
    "plt.hist(order['EBikeDuration'],label='estimated e-bike duration',alpha=0.8)\n",
    "plt.vlines(order['EBikeDuration'].mean(),ymin=0,ymax=1000,color='red')\n",
    "plt.legend()\n",
    "plt.xlabel('Trip duration (minutes)')\n",
    "plt.ylabel('count')"
   ]
  },
  {
   "cell_type": "code",
   "execution_count": 193,
   "metadata": {},
   "outputs": [],
   "source": [
    "order.to_csv('orderDistance0601-0603.csv',index=False)"
   ]
  },
  {
   "cell_type": "code",
   "execution_count": 194,
   "metadata": {},
   "outputs": [],
   "source": [
    "order['CombineWith'] = 0"
   ]
  },
  {
   "cell_type": "code",
   "execution_count": null,
   "metadata": {},
   "outputs": [],
   "source": [
    "for i in tqdm(range(len(order))):\n",
    "# for i in range(10):\n",
    "    if order.iloc[i]['CombineWith'] == 0:\n",
    "        extraTime = order.iloc[i]['extraTime']\n",
    "        departureTime = order.iloc[i]['departureTime']\n",
    "        Origin = order.iloc[i]['Origin']\n",
    "        Destination = order.iloc[i]['Destination']\n",
    "        TripTime = order.iloc[i]['TripTime']\n",
    "        TripLength = LineString([Origin,Destination]).length\n",
    "        speed = TripLength / TripTime\n",
    "        bufferDist = speed * extraTime\n",
    "        TotalTime1 = TripTime + extraTime\n",
    "        \n",
    "'''        dataset is sorted by order time, so ridesharing candidates have to be orders later than \n",
    "        the current selected one'''\n",
    "\n",
    "        candidate = order.iloc[i+1:]\n",
    "        candidate = candidate.loc[candidate['CombineWith'] == 0]\n",
    "        '''order ready to pick time should be earlier than order 1 departure time + order 1 extra time, \n",
    "        otherwise we will waste all the extra time on waiting for the second order'''\n",
    "        candidate = candidate.loc[((candidate['departureTime'] - departureTime) / np.timedelta64(1, 'm')) < extraTime]\n",
    "        '''trip duration between two origins and two destinations cannot be longer than order 1 extra time,\n",
    "        use buffer zone to filter'''\n",
    "        candidate['OriginIn'] = candidate['Origin'].apply(lambda x: Origin.buffer(bufferDist).intersects(x))\n",
    "        candidate['DestinationIn'] = candidate['Destination'].apply(lambda x: Destination.buffer(bufferDist).intersects(x))\n",
    "        candidate = candidate.loc[(candidate['OriginIn']==True)&(candidate['DestinationIn']==True)]\n",
    "        \n",
    "        '''4 potention path: O1-O2-D1-D2, O1-O2-D2-D1, O2-O1-D1-D2, O2-O1-D2-D1, calculate arrival time for each order,\n",
    "        if both order could be delivered before estimated time, stop calculation'''\n",
    "        if len(candidate) > 0:\n",
    "            for ind in candidate.index.tolist():\n",
    "                combined = 0\n",
    "                candidateSelect = candidate.loc[candidate.index==ind]\n",
    "                Origin2 = candidateSelect.iloc[0]['Origin']\n",
    "                Destination2 = candidateSelect.iloc[0]['Destination']\n",
    "                TripTime2 = candidateSelect.iloc[0]['TripTime']\n",
    "                extraTime2 = candidateSelect.iloc[0]['extraTime']\n",
    "                TotalTime2 = TripTime2 + extraTime2\n",
    "       \n",
    "                path1 = LineString([Origin,Origin2,Destination])\n",
    "                Order1Time = path1.length / speed\n",
    "                path2 = LineString([Origin,Origin2,Destination,Destination2])\n",
    "                Order2Time = path2.length / speed\n",
    "                \n",
    "                if Order1Time < TotalTime1 and Order2Time < TotalTime2:\n",
    "                    order.loc[order.index==ind,'CombineWith'] = i\n",
    "                    order.loc[order.index==i,'CombineWith'] = ind\n",
    "                    \n",
    "                    order.loc[order.index==i,'path'] = 'Origin1,Origin2,Destination1,Destination2'\n",
    "                    order.loc[order.index==ind,'path'] = 'Origin1,Origin2,Destination1,Destination2'\n",
    "                    \n",
    "                    combined = 1\n",
    "                else:\n",
    "                    path1 = LineString([Origin,Origin2,Destination2,Destination])\n",
    "                    Order1Time = path1.length / speed\n",
    "                    path2 = LineString([Origin,Origin2,Destination2])\n",
    "                    Order2Time = path1.length / speed\n",
    "                    if Order1Time < TotalTime1 and Order2Time < TotalTime2:\n",
    "                        order.loc[order.index==ind,'CombineWith'] = i\n",
    "                        order.loc[order.index==i,'CombineWith'] = ind\n",
    "                        order.loc[order.index==i,'path'] = 'Origin1,Origin2,Destination2,Destination1'\n",
    "                        order.loc[order.index==ind,'path'] = 'Origin1,Origin2,Destination2,Destination1'\n",
    "                        \n",
    "                        combined = 1\n",
    "                    else:\n",
    "                        path1 = LineString([Origin2,Origin,Destination])\n",
    "                        Order1Time = path1.length / speed\n",
    "                        path2 = LineString([Origin2,Origin,Destination,Destination2])\n",
    "                        Order2Time = path1.length / speed\n",
    "                        if Order1Time < TotalTime1 and Order2Time < TotalTime2:\n",
    "                            order.loc[order.index==ind,'CombineWith'] = i\n",
    "                            order.loc[order.index==i,'CombineWith'] = ind\n",
    "                            order.loc[order.index==i,'path'] = 'Origin2,Origin1,Destination1,Destination2'\n",
    "                            order.loc[order.index==ind,'path'] = 'Origin2,Origin1,Destination1,Destination2'\n",
    "                            \n",
    "                            combined = 1\n",
    "                        else:\n",
    "                            path1 = LineString([Origin2,Origin,Destination2,Destination])\n",
    "                            Order1Time = path1.length / speed\n",
    "                            path2 = LineString([Origin2,Origin,Destination2])\n",
    "                            Order2Time = path1.length / speed\n",
    "                        if Order1Time < TotalTime1 and Order2Time < TotalTime2:\n",
    "                            order.loc[order.index==ind,'CombineWith'] = i\n",
    "                            order.loc[order.index==i,'CombineWith'] = ind\n",
    "                            order.loc[order.index==i,'path'] = 'Origin2,Origin1,Destination2,Destination1'\n",
    "                            order.loc[order.index==ind,'path'] = 'Origin2,Origin1,Destination2,Destination1'\n",
    "                            \n",
    "                            combined = 1\n",
    "                if combined > 0:\n",
    "                    next\n",
    "                            \n",
    "                            "
   ]
  }
 ],
 "metadata": {
  "kernelspec": {
   "display_name": "Python 3",
   "language": "python",
   "name": "python3"
  },
  "language_info": {
   "codemirror_mode": {
    "name": "ipython",
    "version": 3
   },
   "file_extension": ".py",
   "mimetype": "text/x-python",
   "name": "python",
   "nbconvert_exporter": "python",
   "pygments_lexer": "ipython3",
   "version": "3.7.6"
  }
 },
 "nbformat": 4,
 "nbformat_minor": 4
}
