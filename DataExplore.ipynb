{
 "cells": [
  {
   "cell_type": "code",
   "execution_count": 1,
   "metadata": {},
   "outputs": [],
   "source": [
    "import pandas as pd\n",
    "import numpy as np\n",
    "import os\n",
    "import warnings\n",
    "import matplotlib.pyplot as plt\n",
    "import API\n",
    "from tqdm.notebook import tqdm as tqdm\n",
    "import json\n",
    "import requests\n",
    "import geopandas as gpd\n",
    "from shapely.geometry import Point, LineString\n",
    "warnings.filterwarnings('ignore')"
   ]
  },
  {
   "cell_type": "code",
   "execution_count": 2,
   "metadata": {},
   "outputs": [
    {
     "data": {
      "text/plain": [
       "['DMS Data (Jun-Sep2020)', 'KFC', 'Pizza Hut']"
      ]
     },
     "execution_count": 2,
     "metadata": {},
     "output_type": "execute_result"
    }
   ],
   "source": [
    "os.listdir('../1. Sales Data/')"
   ]
  },
  {
   "cell_type": "code",
   "execution_count": 3,
   "metadata": {},
   "outputs": [],
   "source": [
    "sales = pd.read_excel('../1. Sales Data/DMS Data (Jun-Sep2020)/DMS order_Jun-Sep2020 (Only store with DMS available).xlsx',\n",
    "                   encoding = \"ISO-8859-1\")"
   ]
  },
  {
   "cell_type": "code",
   "execution_count": 4,
   "metadata": {},
   "outputs": [
    {
     "data": {
      "text/html": [
       "<div>\n",
       "<style scoped>\n",
       "    .dataframe tbody tr th:only-of-type {\n",
       "        vertical-align: middle;\n",
       "    }\n",
       "\n",
       "    .dataframe tbody tr th {\n",
       "        vertical-align: top;\n",
       "    }\n",
       "\n",
       "    .dataframe thead th {\n",
       "        text-align: right;\n",
       "    }\n",
       "</style>\n",
       "<table border=\"1\" class=\"dataframe\">\n",
       "  <thead>\n",
       "    <tr style=\"text-align: right;\">\n",
       "      <th></th>\n",
       "      <th>日期</th>\n",
       "      <th>門店名稱</th>\n",
       "      <th>配送地址</th>\n",
       "      <th>下單時間</th>\n",
       "      <th>指派成功時間</th>\n",
       "      <th>騎手接單時間</th>\n",
       "      <th>到店取餐時間</th>\n",
       "      <th>取餐出發時間</th>\n",
       "      <th>訂單送達時間</th>\n",
       "      <th>預送達時間</th>\n",
       "      <th>Banner</th>\n",
       "      <th>Instant Order</th>\n",
       "      <th>收貨地址坐標</th>\n",
       "      <th>Rider</th>\n",
       "    </tr>\n",
       "  </thead>\n",
       "  <tbody>\n",
       "    <tr>\n",
       "      <th>0</th>\n",
       "      <td>2020-06-01</td>\n",
       "      <td>KFCN032</td>\n",
       "      <td>紅磡 大環道 紅磡?第二期 紅昕樓 16 樓  1</td>\n",
       "      <td>2020-06-01 12:22:00</td>\n",
       "      <td>NaT</td>\n",
       "      <td>NaT</td>\n",
       "      <td>NaT</td>\n",
       "      <td>NaT</td>\n",
       "      <td>2020-06-01 13:06:00</td>\n",
       "      <td>2020-06-01 12:42:00</td>\n",
       "      <td>KFC</td>\n",
       "      <td>True</td>\n",
       "      <td>NaN</td>\n",
       "      <td>3rdParty</td>\n",
       "    </tr>\n",
       "    <tr>\n",
       "      <th>1</th>\n",
       "      <td>2020-06-01</td>\n",
       "      <td>KFCN032</td>\n",
       "      <td>紅磡 寶其利街 121 號  城中匯 17 樓</td>\n",
       "      <td>2020-06-01 19:23:00</td>\n",
       "      <td>2020-06-02 11:30:57</td>\n",
       "      <td>2020-06-02 11:30:57</td>\n",
       "      <td>2020-06-02 11:30:57</td>\n",
       "      <td>2020-06-02 11:30:57</td>\n",
       "      <td>2020-06-02 11:30:57</td>\n",
       "      <td>2020-06-01 19:43:00</td>\n",
       "      <td>KFC</td>\n",
       "      <td>True</td>\n",
       "      <td>22.30471103465072,114.18992249816118</td>\n",
       "      <td>沒有操作完成</td>\n",
       "    </tr>\n",
       "    <tr>\n",
       "      <th>2</th>\n",
       "      <td>2020-06-01</td>\n",
       "      <td>KFCN032</td>\n",
       "      <td>紅磡 德豐街 9 號  黃埔花園9期百合苑 第四座 4 座  12 樓</td>\n",
       "      <td>2020-06-01 20:48:00</td>\n",
       "      <td>2020-06-02 11:30:57</td>\n",
       "      <td>2020-06-02 11:30:57</td>\n",
       "      <td>2020-06-02 11:30:57</td>\n",
       "      <td>2020-06-02 11:30:57</td>\n",
       "      <td>2020-06-02 11:30:57</td>\n",
       "      <td>2020-06-01 21:08:00</td>\n",
       "      <td>KFC</td>\n",
       "      <td>True</td>\n",
       "      <td>22.301425410126207,114.19534318006106</td>\n",
       "      <td>沒有操作完成</td>\n",
       "    </tr>\n",
       "    <tr>\n",
       "      <th>3</th>\n",
       "      <td>2020-06-01</td>\n",
       "      <td>KFCN032</td>\n",
       "      <td>紅磡 愛景街 海濱南岸 第一座 1 座  28 樓</td>\n",
       "      <td>2020-06-01 14:37:00</td>\n",
       "      <td>2020-06-01 14:29:33</td>\n",
       "      <td>2020-06-01 14:29:49</td>\n",
       "      <td>2020-06-01 14:46:01</td>\n",
       "      <td>2020-06-01 14:46:08</td>\n",
       "      <td>2020-06-01 15:04:47</td>\n",
       "      <td>2020-06-01 14:57:00</td>\n",
       "      <td>KFC</td>\n",
       "      <td>True</td>\n",
       "      <td>NaN</td>\n",
       "      <td>3rdParty</td>\n",
       "    </tr>\n",
       "    <tr>\n",
       "      <th>4</th>\n",
       "      <td>2020-06-01</td>\n",
       "      <td>KFCN032</td>\n",
       "      <td>紅磡 戴亞街 紅磡?第一期 紅昇樓 紅昇?座  7 樓</td>\n",
       "      <td>2020-06-01 17:10:00</td>\n",
       "      <td>2020-06-01 17:04:34</td>\n",
       "      <td>2020-06-01 17:15:13</td>\n",
       "      <td>2020-06-01 17:25:19</td>\n",
       "      <td>2020-06-01 17:25:35</td>\n",
       "      <td>2020-06-01 17:31:48</td>\n",
       "      <td>2020-06-01 17:30:00</td>\n",
       "      <td>KFC</td>\n",
       "      <td>True</td>\n",
       "      <td>NaN</td>\n",
       "      <td>3rdParty</td>\n",
       "    </tr>\n",
       "    <tr>\n",
       "      <th>...</th>\n",
       "      <td>...</td>\n",
       "      <td>...</td>\n",
       "      <td>...</td>\n",
       "      <td>...</td>\n",
       "      <td>...</td>\n",
       "      <td>...</td>\n",
       "      <td>...</td>\n",
       "      <td>...</td>\n",
       "      <td>...</td>\n",
       "      <td>...</td>\n",
       "      <td>...</td>\n",
       "      <td>...</td>\n",
       "      <td>...</td>\n",
       "      <td>...</td>\n",
       "    </tr>\n",
       "    <tr>\n",
       "      <th>324300</th>\n",
       "      <td>2020-09-30</td>\n",
       "      <td>PHD638</td>\n",
       "      <td>沙田 牛皮沙街 愉翠苑 愉齊閣 H 座  7 樓  703 單位</td>\n",
       "      <td>2020-09-30 18:25:00</td>\n",
       "      <td>2020-09-30 18:54:02</td>\n",
       "      <td>2020-09-30 18:54:02</td>\n",
       "      <td>2020-09-30 18:54:18</td>\n",
       "      <td>2020-09-30 19:04:23</td>\n",
       "      <td>2020-09-30 19:18:30</td>\n",
       "      <td>2020-09-30 19:19:49</td>\n",
       "      <td>PHD</td>\n",
       "      <td>True</td>\n",
       "      <td>22.377145121114435,114.20990885356511</td>\n",
       "      <td>Wai</td>\n",
       "    </tr>\n",
       "    <tr>\n",
       "      <th>324301</th>\n",
       "      <td>2020-09-30</td>\n",
       "      <td>PHD638</td>\n",
       "      <td>沙田 百利街 4 號  沙田第一城 第十六座 4</td>\n",
       "      <td>2020-09-30 19:46:00</td>\n",
       "      <td>2020-09-30 20:29:46</td>\n",
       "      <td>2020-09-30 20:29:46</td>\n",
       "      <td>2020-09-30 21:12:35</td>\n",
       "      <td>2020-09-30 21:12:36</td>\n",
       "      <td>2020-09-30 21:12:42</td>\n",
       "      <td>2020-09-30 21:00:28</td>\n",
       "      <td>PHD</td>\n",
       "      <td>True</td>\n",
       "      <td>22.384738429641708,114.20653361118869</td>\n",
       "      <td>Chiu</td>\n",
       "    </tr>\n",
       "    <tr>\n",
       "      <th>324302</th>\n",
       "      <td>2020-09-30</td>\n",
       "      <td>PHD638</td>\n",
       "      <td>沙田 百得街 4 號  沙田第一城 第十九座 19 座  18 樓  E 單</td>\n",
       "      <td>2020-09-30 16:56:00</td>\n",
       "      <td>2020-09-30 18:25:15</td>\n",
       "      <td>2020-09-30 18:25:15</td>\n",
       "      <td>2020-09-30 18:52:07</td>\n",
       "      <td>2020-09-30 18:52:07</td>\n",
       "      <td>2020-09-30 19:11:57</td>\n",
       "      <td>2020-09-30 19:15:00</td>\n",
       "      <td>PHD</td>\n",
       "      <td>False</td>\n",
       "      <td>22.383947464330248,114.20683361096987</td>\n",
       "      <td>Chiu</td>\n",
       "    </tr>\n",
       "    <tr>\n",
       "      <th>324303</th>\n",
       "      <td>2020-09-30</td>\n",
       "      <td>PHD638</td>\n",
       "      <td>沙田 銀城街 19 號  愉和閣 B 座  4 樓  6 單</td>\n",
       "      <td>2020-09-30 18:05:00</td>\n",
       "      <td>2020-09-30 18:06:01</td>\n",
       "      <td>2020-09-30 18:06:01</td>\n",
       "      <td>2020-09-30 18:06:12</td>\n",
       "      <td>2020-09-30 18:19:32</td>\n",
       "      <td>2020-09-30 18:52:15</td>\n",
       "      <td>2020-09-30 18:49:16</td>\n",
       "      <td>PHD</td>\n",
       "      <td>True</td>\n",
       "      <td>22.38027279238,114.20705562139293</td>\n",
       "      <td>Chiu</td>\n",
       "    </tr>\n",
       "    <tr>\n",
       "      <th>324304</th>\n",
       "      <td>2020-09-30</td>\n",
       "      <td>PHD638</td>\n",
       "      <td>沙田 長城街 5 號  沙田第一城 第二十六座 26 座  12 樓  a 單</td>\n",
       "      <td>2020-09-30 17:46:00</td>\n",
       "      <td>2020-09-30 18:55:01</td>\n",
       "      <td>2020-09-30 18:55:01</td>\n",
       "      <td>2020-09-30 18:55:13</td>\n",
       "      <td>2020-09-30 19:04:23</td>\n",
       "      <td>2020-09-30 19:40:37</td>\n",
       "      <td>2020-09-30 19:30:00</td>\n",
       "      <td>PHD</td>\n",
       "      <td>False</td>\n",
       "      <td>22.383945545007034,114.209819799551</td>\n",
       "      <td>Wai</td>\n",
       "    </tr>\n",
       "  </tbody>\n",
       "</table>\n",
       "<p>324305 rows × 14 columns</p>\n",
       "</div>"
      ],
      "text/plain": [
       "               日期     門店名稱                                     配送地址  \\\n",
       "0      2020-06-01  KFCN032                紅磡 大環道 紅磡?第二期 紅昕樓 16 樓  1   \n",
       "1      2020-06-01  KFCN032                  紅磡 寶其利街 121 號  城中匯 17 樓   \n",
       "2      2020-06-01  KFCN032      紅磡 德豐街 9 號  黃埔花園9期百合苑 第四座 4 座  12 樓   \n",
       "3      2020-06-01  KFCN032                紅磡 愛景街 海濱南岸 第一座 1 座  28 樓   \n",
       "4      2020-06-01  KFCN032             紅磡 戴亞街 紅磡?第一期 紅昇樓 紅昇?座  7 樓    \n",
       "...           ...      ...                                      ...   \n",
       "324300 2020-09-30   PHD638        沙田 牛皮沙街 愉翠苑 愉齊閣 H 座  7 樓  703 單位    \n",
       "324301 2020-09-30   PHD638                沙田 百利街 4 號  沙田第一城 第十六座 4    \n",
       "324302 2020-09-30   PHD638   沙田 百得街 4 號  沙田第一城 第十九座 19 座  18 樓  E 單   \n",
       "324303 2020-09-30   PHD638           沙田 銀城街 19 號  愉和閣 B 座  4 樓  6 單   \n",
       "324304 2020-09-30   PHD638  沙田 長城街 5 號  沙田第一城 第二十六座 26 座  12 樓  a 單   \n",
       "\n",
       "                      下單時間              指派成功時間              騎手接單時間  \\\n",
       "0      2020-06-01 12:22:00                 NaT                 NaT   \n",
       "1      2020-06-01 19:23:00 2020-06-02 11:30:57 2020-06-02 11:30:57   \n",
       "2      2020-06-01 20:48:00 2020-06-02 11:30:57 2020-06-02 11:30:57   \n",
       "3      2020-06-01 14:37:00 2020-06-01 14:29:33 2020-06-01 14:29:49   \n",
       "4      2020-06-01 17:10:00 2020-06-01 17:04:34 2020-06-01 17:15:13   \n",
       "...                    ...                 ...                 ...   \n",
       "324300 2020-09-30 18:25:00 2020-09-30 18:54:02 2020-09-30 18:54:02   \n",
       "324301 2020-09-30 19:46:00 2020-09-30 20:29:46 2020-09-30 20:29:46   \n",
       "324302 2020-09-30 16:56:00 2020-09-30 18:25:15 2020-09-30 18:25:15   \n",
       "324303 2020-09-30 18:05:00 2020-09-30 18:06:01 2020-09-30 18:06:01   \n",
       "324304 2020-09-30 17:46:00 2020-09-30 18:55:01 2020-09-30 18:55:01   \n",
       "\n",
       "                    到店取餐時間              取餐出發時間              訂單送達時間  \\\n",
       "0                      NaT                 NaT 2020-06-01 13:06:00   \n",
       "1      2020-06-02 11:30:57 2020-06-02 11:30:57 2020-06-02 11:30:57   \n",
       "2      2020-06-02 11:30:57 2020-06-02 11:30:57 2020-06-02 11:30:57   \n",
       "3      2020-06-01 14:46:01 2020-06-01 14:46:08 2020-06-01 15:04:47   \n",
       "4      2020-06-01 17:25:19 2020-06-01 17:25:35 2020-06-01 17:31:48   \n",
       "...                    ...                 ...                 ...   \n",
       "324300 2020-09-30 18:54:18 2020-09-30 19:04:23 2020-09-30 19:18:30   \n",
       "324301 2020-09-30 21:12:35 2020-09-30 21:12:36 2020-09-30 21:12:42   \n",
       "324302 2020-09-30 18:52:07 2020-09-30 18:52:07 2020-09-30 19:11:57   \n",
       "324303 2020-09-30 18:06:12 2020-09-30 18:19:32 2020-09-30 18:52:15   \n",
       "324304 2020-09-30 18:55:13 2020-09-30 19:04:23 2020-09-30 19:40:37   \n",
       "\n",
       "                     預送達時間 Banner  Instant Order  \\\n",
       "0      2020-06-01 12:42:00    KFC           True   \n",
       "1      2020-06-01 19:43:00    KFC           True   \n",
       "2      2020-06-01 21:08:00    KFC           True   \n",
       "3      2020-06-01 14:57:00    KFC           True   \n",
       "4      2020-06-01 17:30:00    KFC           True   \n",
       "...                    ...    ...            ...   \n",
       "324300 2020-09-30 19:19:49    PHD           True   \n",
       "324301 2020-09-30 21:00:28    PHD           True   \n",
       "324302 2020-09-30 19:15:00    PHD          False   \n",
       "324303 2020-09-30 18:49:16    PHD           True   \n",
       "324304 2020-09-30 19:30:00    PHD          False   \n",
       "\n",
       "                                       收貨地址坐標     Rider  \n",
       "0                                         NaN  3rdParty  \n",
       "1        22.30471103465072,114.18992249816118    沒有操作完成  \n",
       "2       22.301425410126207,114.19534318006106    沒有操作完成  \n",
       "3                                         NaN  3rdParty  \n",
       "4                                         NaN  3rdParty  \n",
       "...                                       ...       ...  \n",
       "324300  22.377145121114435,114.20990885356511       Wai  \n",
       "324301  22.384738429641708,114.20653361118869      Chiu  \n",
       "324302  22.383947464330248,114.20683361096987      Chiu  \n",
       "324303      22.38027279238,114.20705562139293      Chiu  \n",
       "324304    22.383945545007034,114.209819799551       Wai  \n",
       "\n",
       "[324305 rows x 14 columns]"
      ]
     },
     "execution_count": 4,
     "metadata": {},
     "output_type": "execute_result"
    }
   ],
   "source": [
    "sales"
   ]
  },
  {
   "cell_type": "code",
   "execution_count": 110,
   "metadata": {},
   "outputs": [
    {
     "data": {
      "text/plain": [
       "array(['KFCN032', 'KFCN047', 'KFCN080', 'KFCN103', 'KFCN122', 'KFCN133',\n",
       "       'KFCN135', 'KFCN137', 'KFCN140', 'KFCN150', 'KFCN151', 'KFCN166',\n",
       "       'KFCN173', 'PH01', 'PH152', 'PH164', 'PH202', 'PH34', 'PH39',\n",
       "       'PH48', 'PH52', 'PH54', 'PH56', 'PH57', 'PH62', 'PH64', 'PH65',\n",
       "       'PH70', 'PH71', 'PH72', 'PH75', 'PH79', 'PH82', 'PH83', 'PH84',\n",
       "       'PH86', 'PH88', 'PHD602', 'PHD606', 'PHD609', 'PHD616', 'PHD628',\n",
       "       'PHD629', 'PHD633', 'KFCN130', 'PHD618', 'PHD625', 'PHD631',\n",
       "       'PHD601', 'PHD603', 'PHD605', 'PHD610', 'PHD611', 'PHD612',\n",
       "       'PHD619', 'PHD620', 'PHD623', 'PHD624', 'PHD626', 'PHD627',\n",
       "       'PHD634', 'PHD635', 'PHD636', 'PHD637', 'PHD638', 'KFCN182',\n",
       "       'PHD621', 'KFCN045', 'KFCN050', 'KFCN141', 'KFCN145', 'KFCN148',\n",
       "       'KFCN185', 'KFCN161', 'PH15', 'PH153', 'PH24', 'PH59', 'PH05',\n",
       "       'PH10', 'PH11', 'PH23', 'PH53', 'PH69', 'KFCN005', 'KFCN079',\n",
       "       'KFCN101', 'KFCN105', 'KFCN125', 'KFCN142', 'KFCN155', 'KFCN170',\n",
       "       'KFCN171', 'KFCN177', 'KFCN188', 'PH156', 'PH19', 'PH200', 'PH210',\n",
       "       'PH27', 'PH50', 'PH63', 'PH78', 'PH09', 'PH30', 'PH51', 'PH67',\n",
       "       'PH155', 'PH157', 'PH159', 'PH16', 'PH17', 'PH208', 'PH212',\n",
       "       'PH213', 'PH22', 'PH31', 'PH32', 'PH36', 'PH38', 'PH60', 'PH66',\n",
       "       'PHD535', 'KFCN156', 'KFCN120', 'KFCN126', 'KFCN132', 'KFCN147',\n",
       "       'KFCN162', 'KFCN172', 'KFCN181', 'KFCN190', 'KFCN168', 'KFCN175',\n",
       "       'KFCN179'], dtype=object)"
      ]
     },
     "execution_count": 110,
     "metadata": {},
     "output_type": "execute_result"
    }
   ],
   "source": [
    "sales['門店名稱'].unique()"
   ]
  },
  {
   "cell_type": "code",
   "execution_count": 111,
   "metadata": {},
   "outputs": [
    {
     "data": {
      "text/plain": [
       "Index(['日期', '門店名稱', '配送地址', '下單時間', '指派成功時間', '騎手接單時間', '到店取餐時間', '取餐出發時間',\n",
       "       '訂單送達時間', '預送達時間', 'Banner', 'Instant Order', '收貨地址坐標', 'Rider'],\n",
       "      dtype='object')"
      ]
     },
     "execution_count": 111,
     "metadata": {},
     "output_type": "execute_result"
    }
   ],
   "source": [
    "sales.columns"
   ]
  },
  {
   "cell_type": "code",
   "execution_count": 112,
   "metadata": {},
   "outputs": [],
   "source": [
    "sales = sales.dropna()"
   ]
  },
  {
   "cell_type": "code",
   "execution_count": 113,
   "metadata": {},
   "outputs": [
    {
     "data": {
      "text/plain": [
       "True"
      ]
     },
     "execution_count": 113,
     "metadata": {},
     "output_type": "execute_result"
    }
   ],
   "source": [
    "sales.iloc[0,11]"
   ]
  },
  {
   "cell_type": "code",
   "execution_count": 114,
   "metadata": {},
   "outputs": [],
   "source": [
    "sales = sales.loc[sales['Rider']!='沒有操作完成']\n",
    "sales = sales.loc[sales['Instant Order']==True]"
   ]
  },
  {
   "cell_type": "code",
   "execution_count": 115,
   "metadata": {},
   "outputs": [
    {
     "data": {
      "text/plain": [
       "(225113, 14)"
      ]
     },
     "execution_count": 115,
     "metadata": {},
     "output_type": "execute_result"
    }
   ],
   "source": [
    "sales.shape"
   ]
  },
  {
   "cell_type": "code",
   "execution_count": 116,
   "metadata": {},
   "outputs": [],
   "source": [
    "for col in ['下單時間', '指派成功時間', '騎手接單時間', '到店取餐時間', '取餐出發時間',\n",
    "       '訂單送達時間', '預送達時間']:\n",
    "    sales[col] = pd.to_datetime(sales[col])"
   ]
  },
  {
   "cell_type": "code",
   "execution_count": 150,
   "metadata": {
    "scrolled": true
   },
   "outputs": [],
   "source": [
    "sales['EstimateArrivalGap'] = (sales['預送達時間'] - sales['訂單送達時間']) / np.timedelta64(1, 'm')\n",
    "sales['TripTime'] = (sales['訂單送達時間'] - sales['取餐出發時間']) / np.timedelta64(1, 'm')\n",
    "sales['TicketWaitingTime'] = (sales['指派成功時間'] - sales['下單時間']) / np.timedelta64(1, 'm') \n",
    "sales['FoodPreparationTime'] = (sales['取餐出發時間'] - sales['下單時間']) / np.timedelta64(1, 'm')\n",
    "sales['TotalWaitingTime'] = (sales['訂單送達時間'] - sales['下單時間']) / np.timedelta64(1, 'm')"
   ]
  },
  {
   "cell_type": "code",
   "execution_count": 151,
   "metadata": {},
   "outputs": [
    {
     "data": {
      "text/html": [
       "<div>\n",
       "<style scoped>\n",
       "    .dataframe tbody tr th:only-of-type {\n",
       "        vertical-align: middle;\n",
       "    }\n",
       "\n",
       "    .dataframe tbody tr th {\n",
       "        vertical-align: top;\n",
       "    }\n",
       "\n",
       "    .dataframe thead th {\n",
       "        text-align: right;\n",
       "    }\n",
       "</style>\n",
       "<table border=\"1\" class=\"dataframe\">\n",
       "  <thead>\n",
       "    <tr style=\"text-align: right;\">\n",
       "      <th></th>\n",
       "      <th>EstimateArrivalGap</th>\n",
       "      <th>TripTime</th>\n",
       "      <th>TicketWaitingTime</th>\n",
       "      <th>FoodPreparationTime</th>\n",
       "      <th>TotalWaitingTime</th>\n",
       "    </tr>\n",
       "  </thead>\n",
       "  <tbody>\n",
       "    <tr>\n",
       "      <th>count</th>\n",
       "      <td>147507.000000</td>\n",
       "      <td>147507.000000</td>\n",
       "      <td>147507.000000</td>\n",
       "      <td>147507.000000</td>\n",
       "      <td>147507.000000</td>\n",
       "    </tr>\n",
       "    <tr>\n",
       "      <th>mean</th>\n",
       "      <td>8.820699</td>\n",
       "      <td>19.137827</td>\n",
       "      <td>9.602670</td>\n",
       "      <td>20.061778</td>\n",
       "      <td>39.199605</td>\n",
       "    </tr>\n",
       "    <tr>\n",
       "      <th>std</th>\n",
       "      <td>14.975596</td>\n",
       "      <td>11.267625</td>\n",
       "      <td>8.506789</td>\n",
       "      <td>9.437608</td>\n",
       "      <td>13.429589</td>\n",
       "    </tr>\n",
       "    <tr>\n",
       "      <th>min</th>\n",
       "      <td>-59.633333</td>\n",
       "      <td>2.016667</td>\n",
       "      <td>0.016667</td>\n",
       "      <td>0.150000</td>\n",
       "      <td>2.983333</td>\n",
       "    </tr>\n",
       "    <tr>\n",
       "      <th>25%</th>\n",
       "      <td>0.050000</td>\n",
       "      <td>10.600000</td>\n",
       "      <td>2.033333</td>\n",
       "      <td>13.900000</td>\n",
       "      <td>29.266667</td>\n",
       "    </tr>\n",
       "    <tr>\n",
       "      <th>50%</th>\n",
       "      <td>8.750000</td>\n",
       "      <td>16.600000</td>\n",
       "      <td>7.016667</td>\n",
       "      <td>18.916667</td>\n",
       "      <td>37.100000</td>\n",
       "    </tr>\n",
       "    <tr>\n",
       "      <th>75%</th>\n",
       "      <td>17.516667</td>\n",
       "      <td>25.383333</td>\n",
       "      <td>16.050000</td>\n",
       "      <td>25.533333</td>\n",
       "      <td>46.883333</td>\n",
       "    </tr>\n",
       "    <tr>\n",
       "      <th>max</th>\n",
       "      <td>59.966667</td>\n",
       "      <td>59.983333</td>\n",
       "      <td>29.983333</td>\n",
       "      <td>116.516667</td>\n",
       "      <td>159.666667</td>\n",
       "    </tr>\n",
       "  </tbody>\n",
       "</table>\n",
       "</div>"
      ],
      "text/plain": [
       "       EstimateArrivalGap       TripTime  TicketWaitingTime  \\\n",
       "count       147507.000000  147507.000000      147507.000000   \n",
       "mean             8.820699      19.137827           9.602670   \n",
       "std             14.975596      11.267625           8.506789   \n",
       "min            -59.633333       2.016667           0.016667   \n",
       "25%              0.050000      10.600000           2.033333   \n",
       "50%              8.750000      16.600000           7.016667   \n",
       "75%             17.516667      25.383333          16.050000   \n",
       "max             59.966667      59.983333          29.983333   \n",
       "\n",
       "       FoodPreparationTime  TotalWaitingTime  \n",
       "count        147507.000000     147507.000000  \n",
       "mean             20.061778         39.199605  \n",
       "std               9.437608         13.429589  \n",
       "min               0.150000          2.983333  \n",
       "25%              13.900000         29.266667  \n",
       "50%              18.916667         37.100000  \n",
       "75%              25.533333         46.883333  \n",
       "max             116.516667        159.666667  "
      ]
     },
     "execution_count": 151,
     "metadata": {},
     "output_type": "execute_result"
    }
   ],
   "source": [
    "sales.describe()"
   ]
  },
  {
   "cell_type": "code",
   "execution_count": 152,
   "metadata": {},
   "outputs": [],
   "source": [
    "sales = sales.loc[(sales['TicketWaitingTime'] > 0)&(sales['TicketWaitingTime'] < 30)]\n",
    "sales = sales.loc[(sales['TripTime'] > 2)&(sales['TripTime'] < 60)]\n",
    "sales = sales.loc[(sales['EstimateArrivalGap'] > -60)&(sales['EstimateArrivalGap'] < 60)]"
   ]
  },
  {
   "cell_type": "code",
   "execution_count": 153,
   "metadata": {},
   "outputs": [
    {
     "data": {
      "text/html": [
       "<div>\n",
       "<style scoped>\n",
       "    .dataframe tbody tr th:only-of-type {\n",
       "        vertical-align: middle;\n",
       "    }\n",
       "\n",
       "    .dataframe tbody tr th {\n",
       "        vertical-align: top;\n",
       "    }\n",
       "\n",
       "    .dataframe thead th {\n",
       "        text-align: right;\n",
       "    }\n",
       "</style>\n",
       "<table border=\"1\" class=\"dataframe\">\n",
       "  <thead>\n",
       "    <tr style=\"text-align: right;\">\n",
       "      <th></th>\n",
       "      <th>EstimateArrivalGap</th>\n",
       "      <th>TripTime</th>\n",
       "      <th>TicketWaitingTime</th>\n",
       "      <th>FoodPreparationTime</th>\n",
       "      <th>TotalWaitingTime</th>\n",
       "    </tr>\n",
       "  </thead>\n",
       "  <tbody>\n",
       "    <tr>\n",
       "      <th>count</th>\n",
       "      <td>147507.000000</td>\n",
       "      <td>147507.000000</td>\n",
       "      <td>147507.000000</td>\n",
       "      <td>147507.000000</td>\n",
       "      <td>147507.000000</td>\n",
       "    </tr>\n",
       "    <tr>\n",
       "      <th>mean</th>\n",
       "      <td>8.820699</td>\n",
       "      <td>19.137827</td>\n",
       "      <td>9.602670</td>\n",
       "      <td>20.061778</td>\n",
       "      <td>39.199605</td>\n",
       "    </tr>\n",
       "    <tr>\n",
       "      <th>std</th>\n",
       "      <td>14.975596</td>\n",
       "      <td>11.267625</td>\n",
       "      <td>8.506789</td>\n",
       "      <td>9.437608</td>\n",
       "      <td>13.429589</td>\n",
       "    </tr>\n",
       "    <tr>\n",
       "      <th>min</th>\n",
       "      <td>-59.633333</td>\n",
       "      <td>2.016667</td>\n",
       "      <td>0.016667</td>\n",
       "      <td>0.150000</td>\n",
       "      <td>2.983333</td>\n",
       "    </tr>\n",
       "    <tr>\n",
       "      <th>25%</th>\n",
       "      <td>0.050000</td>\n",
       "      <td>10.600000</td>\n",
       "      <td>2.033333</td>\n",
       "      <td>13.900000</td>\n",
       "      <td>29.266667</td>\n",
       "    </tr>\n",
       "    <tr>\n",
       "      <th>50%</th>\n",
       "      <td>8.750000</td>\n",
       "      <td>16.600000</td>\n",
       "      <td>7.016667</td>\n",
       "      <td>18.916667</td>\n",
       "      <td>37.100000</td>\n",
       "    </tr>\n",
       "    <tr>\n",
       "      <th>75%</th>\n",
       "      <td>17.516667</td>\n",
       "      <td>25.383333</td>\n",
       "      <td>16.050000</td>\n",
       "      <td>25.533333</td>\n",
       "      <td>46.883333</td>\n",
       "    </tr>\n",
       "    <tr>\n",
       "      <th>max</th>\n",
       "      <td>59.966667</td>\n",
       "      <td>59.983333</td>\n",
       "      <td>29.983333</td>\n",
       "      <td>116.516667</td>\n",
       "      <td>159.666667</td>\n",
       "    </tr>\n",
       "  </tbody>\n",
       "</table>\n",
       "</div>"
      ],
      "text/plain": [
       "       EstimateArrivalGap       TripTime  TicketWaitingTime  \\\n",
       "count       147507.000000  147507.000000      147507.000000   \n",
       "mean             8.820699      19.137827           9.602670   \n",
       "std             14.975596      11.267625           8.506789   \n",
       "min            -59.633333       2.016667           0.016667   \n",
       "25%              0.050000      10.600000           2.033333   \n",
       "50%              8.750000      16.600000           7.016667   \n",
       "75%             17.516667      25.383333          16.050000   \n",
       "max             59.966667      59.983333          29.983333   \n",
       "\n",
       "       FoodPreparationTime  TotalWaitingTime  \n",
       "count        147507.000000     147507.000000  \n",
       "mean             20.061778         39.199605  \n",
       "std               9.437608         13.429589  \n",
       "min               0.150000          2.983333  \n",
       "25%              13.900000         29.266667  \n",
       "50%              18.916667         37.100000  \n",
       "75%              25.533333         46.883333  \n",
       "max             116.516667        159.666667  "
      ]
     },
     "execution_count": 153,
     "metadata": {},
     "output_type": "execute_result"
    }
   ],
   "source": [
    "sales.describe()"
   ]
  },
  {
   "cell_type": "code",
   "execution_count": 154,
   "metadata": {},
   "outputs": [
    {
     "data": {
      "image/png": "[encoded data removed]",
      "text/plain": [
       "<Figure size 432x288 with 1 Axes>"
      ]
     },
     "metadata": {
      "needs_background": "light"
     },
     "output_type": "display_data"
    }
   ],
   "source": [
    "_ = plt.hist(sales['EstimateArrivalGap'],bins=20)\n",
    "_ = plt.axvline(sales['EstimateArrivalGap'].mean(), color='red')\n",
    "# plt.title('Gap between order ')"
   ]
  },
  {
   "cell_type": "code",
   "execution_count": 155,
   "metadata": {},
   "outputs": [
    {
     "data": {
      "text/plain": [
       "0.7510558820937312"
      ]
     },
     "execution_count": 155,
     "metadata": {},
     "output_type": "execute_result"
    }
   ],
   "source": [
    "len(sales.loc[sales['EstimateArrivalGap']>0]) / len(sales)"
   ]
  },
  {
   "cell_type": "code",
   "execution_count": 157,
   "metadata": {},
   "outputs": [
    {
     "data": {
      "image/png": "[encoded data removed]",
      "text/plain": [
       "<Figure size 432x288 with 1 Axes>"
      ]
     },
     "metadata": {
      "needs_background": "light"
     },
     "output_type": "display_data"
    }
   ],
   "source": [
    "_ = plt.hist(sales['TotalWaitingTime'],bins=20)\n",
    "_ = plt.axvline(sales['TotalWaitingTime'].mean(), color='red')"
   ]
  },
  {
   "cell_type": "code",
   "execution_count": 224,
   "metadata": {},
   "outputs": [
    {
     "data": {
      "text/plain": [
       "39.199604651530436"
      ]
     },
     "execution_count": 224,
     "metadata": {},
     "output_type": "execute_result"
    }
   ],
   "source": [
    "sales['TotalWaitingTime'].mean()"
   ]
  },
  {
   "cell_type": "code",
   "execution_count": 156,
   "metadata": {},
   "outputs": [
    {
     "data": {
      "image/png": "[encoded data removed]",
      "text/plain": [
       "<Figure size 432x288 with 1 Axes>"
      ]
     },
     "metadata": {
      "needs_background": "light"
     },
     "output_type": "display_data"
    }
   ],
   "source": [
    "_ = plt.hist(sales['TripTime'],bins=20)\n",
    "_ = plt.axvline(sales['TripTime'].mean(), color='red')"
   ]
  },
  {
   "cell_type": "code",
   "execution_count": 124,
   "metadata": {},
   "outputs": [
    {
     "data": {
      "image/png": "[encoded data removed]",
      "text/plain": [
       "<Figure size 432x288 with 1 Axes>"
      ]
     },
     "metadata": {
      "needs_background": "light"
     },
     "output_type": "display_data"
    }
   ],
   "source": [
    "_ = plt.hist(sales['FoodPreparationTime'],bins=20)\n",
    "_ = plt.axvline(sales['FoodPreparationTime'].mean(), color='red')"
   ]
  },
  {
   "cell_type": "code",
   "execution_count": 158,
   "metadata": {},
   "outputs": [
    {
     "data": {
      "image/png": "[encoded data removed]",
      "text/plain": [
       "<Figure size 432x288 with 1 Axes>"
      ]
     },
     "metadata": {
      "needs_background": "light"
     },
     "output_type": "display_data"
    }
   ],
   "source": [
    "TripDurationTimeinHour = sales.groupby(sales['下單時間'].dt.hour).agg({'TotalWaitingTime':'mean'})\n",
    "_ = plt.bar(TripDurationTimeinHour.index, TripDurationTimeinHour['TotalWaitingTime'])"
   ]
  },
  {
   "cell_type": "code",
   "execution_count": 159,
   "metadata": {},
   "outputs": [
    {
     "data": {
      "image/png": "[encoded data removed]",
      "text/plain": [
       "<Figure size 432x288 with 1 Axes>"
      ]
     },
     "metadata": {
      "needs_background": "light"
     },
     "output_type": "display_data"
    }
   ],
   "source": [
    "FoodPreparationTimeinHour = sales.groupby(sales['下單時間'].dt.hour).agg({'FoodPreparationTime':'mean'})\n",
    "_ = plt.bar(FoodPreparationTimeinHour.index, FoodPreparationTimeinHour['FoodPreparationTime'])"
   ]
  },
  {
   "cell_type": "code",
   "execution_count": 160,
   "metadata": {},
   "outputs": [
    {
     "data": {
      "text/plain": [
       "Index(['日期', '門店名稱', '配送地址', '下單時間', '指派成功時間', '騎手接單時間', '到店取餐時間', '取餐出發時間',\n",
       "       '訂單送達時間', '預送達時間', 'Banner', 'Instant Order', '收貨地址坐標', 'Rider',\n",
       "       'EstimateArrivalGap', 'TripTime', 'TicketWaitingTime',\n",
       "       'FoodPreparationTime', 'TotalWaitingTime'],\n",
       "      dtype='object')"
      ]
     },
     "execution_count": 160,
     "metadata": {},
     "output_type": "execute_result"
    }
   ],
   "source": [
    "sales.columns"
   ]
  },
  {
   "cell_type": "code",
   "execution_count": 222,
   "metadata": {},
   "outputs": [],
   "source": [
    "sales['orderHour'] = sales['下單時間'].dt.hour\n",
    "peakHourinStore = sales.groupby(['門店名稱','orderHour']).agg({'配送地址':'count'}).\\\n",
    "reset_index()\n",
    "peakHourinStore = peakHourinStore.loc[peakHourinStore['配送地址']>49]\n"
   ]
  },
  {
   "cell_type": "code",
   "execution_count": 223,
   "metadata": {},
   "outputs": [
    {
     "data": {
      "image/png": "[encoded data removed]",
      "text/plain": [
       "<Figure size 432x288 with 1 Axes>"
      ]
     },
     "metadata": {
      "needs_background": "light"
     },
     "output_type": "display_data"
    }
   ],
   "source": [
    "idx = peakHourinStore.groupby(['門店名稱'])['配送地址'].transform(max) == peakHourinStore['配送地址']\n",
    "peakHourinStore['maxHour'] = idx\n",
    "peakHourinStore = peakHourinStore.loc[peakHourinStore['maxHour']==True]\n",
    "_ = plt.hist(peakHourinStore['orderHour'])"
   ]
  },
  {
   "cell_type": "code",
   "execution_count": null,
   "metadata": {},
   "outputs": [],
   "source": []
  },
  {
   "cell_type": "code",
   "execution_count": 178,
   "metadata": {},
   "outputs": [
    {
     "data": {
      "image/png": "[encoded data removed]",
      "text/plain": [
       "<Figure size 432x288 with 1 Axes>"
      ]
     },
     "metadata": {
      "needs_background": "light"
     },
     "output_type": "display_data"
    }
   ],
   "source": [
    "_ = plt.hist(sales['下單時間'].dt.hour,bins=14)"
   ]
  },
  {
   "cell_type": "code",
   "execution_count": 125,
   "metadata": {},
   "outputs": [
    {
     "data": {
      "image/png": "[encoded data removed]",
      "text/plain": [
       "<Figure size 432x288 with 1 Axes>"
      ]
     },
     "metadata": {
      "needs_background": "light"
     },
     "output_type": "display_data"
    }
   ],
   "source": [
    "_ = plt.hist(sales['騎手接單時間'].dt.hour,bins=14)"
   ]
  },
  {
   "cell_type": "code",
   "execution_count": null,
   "metadata": {},
   "outputs": [],
   "source": []
  },
  {
   "cell_type": "code",
   "execution_count": 126,
   "metadata": {},
   "outputs": [
    {
     "data": {
      "text/plain": [
       "(147507, 18)"
      ]
     },
     "execution_count": 126,
     "metadata": {},
     "output_type": "execute_result"
    }
   ],
   "source": [
    "sales.shape"
   ]
  },
  {
   "cell_type": "code",
   "execution_count": 225,
   "metadata": {},
   "outputs": [],
   "source": [
    "KFC = pd.read_excel('../2. Store location and information/KFC Store list.xlsx')\n",
    "KFC['Store'] = 'KFC' + KFC['Store']"
   ]
  },
  {
   "cell_type": "code",
   "execution_count": 226,
   "metadata": {},
   "outputs": [
    {
     "data": {
      "text/plain": [
       "'123'"
      ]
     },
     "execution_count": 226,
     "metadata": {},
     "output_type": "execute_result"
    }
   ],
   "source": [
    "'123'.zfill(2)"
   ]
  },
  {
   "cell_type": "code",
   "execution_count": 227,
   "metadata": {},
   "outputs": [
    {
     "data": {
      "text/plain": [
       "array(['KFCN103', 'KFCN122', 'KFCN151', 'PH01', 'PH152', 'PH164', 'PH202',\n",
       "       'PH39', 'PH48', 'PH52', 'PH54', 'PH56', 'PH57', 'PH62', 'PH64',\n",
       "       'PH65', 'PH70', 'PH71', 'PH72', 'PH75', 'PH79', 'PH82', 'PH83',\n",
       "       'PH84', 'PH86', 'PH88', 'PHD602', 'PHD606', 'PHD609', 'PHD616',\n",
       "       'PHD628', 'PHD629', 'PHD633', 'KFCN137', 'PH34', 'KFCN166',\n",
       "       'KFCN150', 'PHD625', 'PHD627', 'PHD635', 'KFCN182', 'PHD601',\n",
       "       'PHD603', 'PHD605', 'PHD610', 'PHD611', 'PHD612', 'PHD618',\n",
       "       'PHD619', 'PHD620', 'PHD621', 'PHD623', 'PHD624', 'PHD626',\n",
       "       'PHD631', 'PHD634', 'PHD636', 'PHD637', 'PHD638', 'KFCN080',\n",
       "       'KFCN135', 'PH59', 'PH10', 'PH11', 'PH15', 'PH23', 'PH24', 'PH53',\n",
       "       'PH69', 'KFCN101', 'KFCN079', 'PH05', 'KFCN125', 'PH153',\n",
       "       'KFCN173', 'KFCN032', 'KFCN133', 'KFCN045', 'PH19', 'PH200',\n",
       "       'PH210', 'PH63', 'PH78', 'PH09', 'PH156', 'PH30', 'PH50', 'PH51',\n",
       "       'PH67', 'PH155', 'PH208', 'PH32', 'PH36', 'PH159', 'PH16', 'PH17',\n",
       "       'PH212', 'PH213', 'PH22', 'PH31', 'PH38', 'PH60', 'PH66', 'PHD535',\n",
       "       'PH157', 'KFCN120', 'KFCN147'], dtype=object)"
      ]
     },
     "execution_count": 227,
     "metadata": {},
     "output_type": "execute_result"
    }
   ],
   "source": [
    "sales['門店名稱'].unique()"
   ]
  },
  {
   "cell_type": "code",
   "execution_count": 231,
   "metadata": {},
   "outputs": [],
   "source": [
    "PH = pd.read_excel('../2. Store location and information/PH SHOP ADDRESS.xls')\n",
    "PH['Shop'] = 'PH' + PH['Shop'].apply(lambda x: str(x).zfill(2))"
   ]
  },
  {
   "cell_type": "code",
   "execution_count": 232,
   "metadata": {},
   "outputs": [],
   "source": [
    "PHD = pd.read_excel('../2. Store location and information/PH SHOP ADDRESS.xls',sheet_name=1)\n",
    "PHD['Shop'] = 'PHD' + PHD['Shop'].apply(lambda x: str(x).zfill(2))"
   ]
  },
  {
   "cell_type": "code",
   "execution_count": 233,
   "metadata": {},
   "outputs": [],
   "source": [
    "address = KFC['Address'].values.tolist() + PHD['Address'].values.tolist() + PH['Address'].values.tolist()\n",
    "storeCode = KFC['Store'].values.tolist() + PHD['Shop'].values.tolist() + PH['Shop'].values.tolist()"
   ]
  },
  {
   "cell_type": "code",
   "execution_count": 251,
   "metadata": {},
   "outputs": [],
   "source": [
    "\n",
    "key = API.key\n",
    "f = open(\"geocoding.csv\", \"w\")\n",
    "f.write(\"storeCode,lat,lon\\n\")\n",
    "for index,location in enumerate(address):\n",
    "\n",
    "\n",
    "    f = open(\"geocoding.csv\", \"a\")\n",
    "    location = location\n",
    "    url = 'https://maps.googleapis.com/maps/api/geocode/json?address=香港'+location+'&key='+key\n",
    "    data = requests.get(url)\n",
    "    text = json.loads(data.text)\n",
    "    if text['results'] == []:\n",
    "        pass\n",
    "    else:\n",
    "        lat = str(text['results'][0]['geometry']['location']['lat'])\n",
    "        lng = str(text['results'][0]['geometry']['location']['lng'])\n",
    "        f.write(storeCode[index]+','+lat+','+lng+'\\n')\n",
    "        f.close()"
   ]
  },
  {
   "cell_type": "code",
   "execution_count": 252,
   "metadata": {},
   "outputs": [],
   "source": [
    "latlon = pd.read_csv('geocoding.csv')"
   ]
  },
  {
   "cell_type": "code",
   "execution_count": 253,
   "metadata": {},
   "outputs": [
    {
     "data": {
      "text/html": [
       "<div>\n",
       "<style scoped>\n",
       "    .dataframe tbody tr th:only-of-type {\n",
       "        vertical-align: middle;\n",
       "    }\n",
       "\n",
       "    .dataframe tbody tr th {\n",
       "        vertical-align: top;\n",
       "    }\n",
       "\n",
       "    .dataframe thead th {\n",
       "        text-align: right;\n",
       "    }\n",
       "</style>\n",
       "<table border=\"1\" class=\"dataframe\">\n",
       "  <thead>\n",
       "    <tr style=\"text-align: right;\">\n",
       "      <th></th>\n",
       "      <th>storeCode</th>\n",
       "      <th>lat</th>\n",
       "      <th>lon</th>\n",
       "    </tr>\n",
       "  </thead>\n",
       "  <tbody>\n",
       "    <tr>\n",
       "      <th>0</th>\n",
       "      <td>KFCN005</td>\n",
       "      <td>22.286214</td>\n",
       "      <td>114.153966</td>\n",
       "    </tr>\n",
       "    <tr>\n",
       "      <th>1</th>\n",
       "      <td>KFCN026</td>\n",
       "      <td>22.281572</td>\n",
       "      <td>114.157753</td>\n",
       "    </tr>\n",
       "    <tr>\n",
       "      <th>2</th>\n",
       "      <td>KFCN032</td>\n",
       "      <td>22.306068</td>\n",
       "      <td>114.190308</td>\n",
       "    </tr>\n",
       "    <tr>\n",
       "      <th>3</th>\n",
       "      <td>KFCN045</td>\n",
       "      <td>22.373829</td>\n",
       "      <td>114.116297</td>\n",
       "    </tr>\n",
       "    <tr>\n",
       "      <th>4</th>\n",
       "      <td>KFCN046</td>\n",
       "      <td>22.492880</td>\n",
       "      <td>114.139206</td>\n",
       "    </tr>\n",
       "    <tr>\n",
       "      <th>...</th>\n",
       "      <td>...</td>\n",
       "      <td>...</td>\n",
       "      <td>...</td>\n",
       "    </tr>\n",
       "    <tr>\n",
       "      <th>182</th>\n",
       "      <td>PH210</td>\n",
       "      <td>22.317643</td>\n",
       "      <td>114.236325</td>\n",
       "    </tr>\n",
       "    <tr>\n",
       "      <th>183</th>\n",
       "      <td>PH211</td>\n",
       "      <td>22.207183</td>\n",
       "      <td>113.554383</td>\n",
       "    </tr>\n",
       "    <tr>\n",
       "      <th>184</th>\n",
       "      <td>PH212</td>\n",
       "      <td>22.296527</td>\n",
       "      <td>114.239619</td>\n",
       "    </tr>\n",
       "    <tr>\n",
       "      <th>185</th>\n",
       "      <td>PH213</td>\n",
       "      <td>22.296005</td>\n",
       "      <td>113.950163</td>\n",
       "    </tr>\n",
       "    <tr>\n",
       "      <th>186</th>\n",
       "      <td>PH300</td>\n",
       "      <td>22.312371</td>\n",
       "      <td>114.225571</td>\n",
       "    </tr>\n",
       "  </tbody>\n",
       "</table>\n",
       "<p>187 rows × 3 columns</p>\n",
       "</div>"
      ],
      "text/plain": [
       "    storeCode        lat         lon\n",
       "0     KFCN005  22.286214  114.153966\n",
       "1     KFCN026  22.281572  114.157753\n",
       "2     KFCN032  22.306068  114.190308\n",
       "3     KFCN045  22.373829  114.116297\n",
       "4     KFCN046  22.492880  114.139206\n",
       "..        ...        ...         ...\n",
       "182     PH210  22.317643  114.236325\n",
       "183     PH211  22.207183  113.554383\n",
       "184     PH212  22.296527  114.239619\n",
       "185     PH213  22.296005  113.950163\n",
       "186     PH300  22.312371  114.225571\n",
       "\n",
       "[187 rows x 3 columns]"
      ]
     },
     "execution_count": 253,
     "metadata": {},
     "output_type": "execute_result"
    }
   ],
   "source": [
    "latlon"
   ]
  },
  {
   "cell_type": "code",
   "execution_count": 258,
   "metadata": {},
   "outputs": [],
   "source": [
    "sales.merge(latlon,left_on='門店名稱',right_on='storeCode').to_csv('DeliveryRecord.csv',index=False)"
   ]
  },
  {
   "cell_type": "code",
   "execution_count": null,
   "metadata": {},
   "outputs": [],
   "source": []
  },
  {
   "cell_type": "code",
   "execution_count": 31,
   "metadata": {},
   "outputs": [],
   "source": [
    "records = pd.read_csv('DeliveryRecord.csv')"
   ]
  },
  {
   "cell_type": "code",
   "execution_count": 32,
   "metadata": {},
   "outputs": [],
   "source": [
    "records['DLatLon'] = records.apply(lambda x: Point(float(x['收貨地址坐標'].split(',')[1]),\n",
    "                                                   float(x['收貨地址坐標'].split(',')[0])),axis=1)"
   ]
  },
  {
   "cell_type": "code",
   "execution_count": 33,
   "metadata": {},
   "outputs": [],
   "source": [
    "records['OLatLon'] = records.apply(lambda x: Point(float(x['lon']),float(x['lat'])),axis=1)"
   ]
  },
  {
   "cell_type": "code",
   "execution_count": 34,
   "metadata": {},
   "outputs": [],
   "source": [
    "records['geometry'] = records.apply(lambda x: LineString([x['OLatLon'],x['DLatLon']]),axis=1)"
   ]
  },
  {
   "cell_type": "code",
   "execution_count": 35,
   "metadata": {},
   "outputs": [
    {
     "data": {
      "text/plain": [
       "Index(['日期', '門店名稱', '配送地址', '下單時間', '指派成功時間', '騎手接單時間', '到店取餐時間', '取餐出發時間',\n",
       "       '訂單送達時間', '預送達時間', 'Banner', 'Instant Order', '收貨地址坐標', 'Rider',\n",
       "       'EstimateArrivalGap', 'TripTime', 'TicketWaitingTime',\n",
       "       'FoodPreparationTime', 'TotalWaitingTime', 'orderHour', 'storeCode',\n",
       "       'lat', 'lon', 'DLatLon', 'OLatLon', 'geometry'],\n",
       "      dtype='object')"
      ]
     },
     "execution_count": 35,
     "metadata": {},
     "output_type": "execute_result"
    }
   ],
   "source": [
    "records.columns"
   ]
  },
  {
   "cell_type": "code",
   "execution_count": 45,
   "metadata": {},
   "outputs": [],
   "source": [
    "records = records[['日期','下單時間','geometry','storeCode']]\n",
    "records['OrderTime'] = records['下單時間'].apply(lambda x: int(x.split(' ')[1].split(':')[0]))\n",
    "records['Month'] = records['日期'].apply(lambda x: int(x.split('-')[1]))\n",
    "records =  records.loc[records['Month']==6]\n",
    "records = gpd.GeoDataFrame(records,geometry='geometry',crs={'init': 'epsg:4326'})"
   ]
  },
  {
   "cell_type": "code",
   "execution_count": 46,
   "metadata": {},
   "outputs": [],
   "source": [
    "records.to_file('network.geojson',driver=\"GeoJSON\")"
   ]
  },
  {
   "cell_type": "code",
   "execution_count": 44,
   "metadata": {},
   "outputs": [
    {
     "data": {
      "text/plain": [
       "array(['2020-06-01', '2020-06-02', '2020-06-03', '2020-06-04',\n",
       "       '2020-06-05', '2020-06-06', '2020-06-08', '2020-06-09',\n",
       "       '2020-06-10', '2020-06-11', '2020-06-12', '2020-06-13',\n",
       "       '2020-06-15', '2020-06-17', '2020-06-18', '2020-06-19',\n",
       "       '2020-06-22', '2020-06-23', '2020-06-24', '2020-06-25',\n",
       "       '2020-06-26', '2020-06-29', '2020-06-30', '2020-07-01',\n",
       "       '2020-07-02', '2020-07-03', '2020-07-04', '2020-07-06',\n",
       "       '2020-07-07', '2020-07-08', '2020-07-09', '2020-07-10',\n",
       "       '2020-07-11', '2020-07-13', '2020-07-14', '2020-07-16',\n",
       "       '2020-07-18', '2020-07-20', '2020-07-21', '2020-07-22',\n",
       "       '2020-07-23', '2020-07-24', '2020-07-25', '2020-07-26',\n",
       "       '2020-07-27', '2020-07-28', '2020-07-29', '2020-08-02',\n",
       "       '2020-08-03', '2020-08-04', '2020-08-06', '2020-08-08',\n",
       "       '2020-08-10', '2020-08-11', '2020-08-12', '2020-08-14',\n",
       "       '2020-08-15', '2020-08-17', '2020-08-18', '2020-08-19',\n",
       "       '2020-08-20', '2020-08-21', '2020-08-22', '2020-08-24',\n",
       "       '2020-08-27', '2020-08-28', '2020-08-29', '2020-08-31',\n",
       "       '2020-09-01', '2020-09-02', '2020-09-03', '2020-09-04',\n",
       "       '2020-09-05', '2020-09-07', '2020-09-08', '2020-09-09',\n",
       "       '2020-09-10', '2020-09-11', '2020-09-12', '2020-09-14',\n",
       "       '2020-09-15', '2020-09-16', '2020-09-17', '2020-09-18',\n",
       "       '2020-09-19', '2020-09-21', '2020-09-22', '2020-09-24',\n",
       "       '2020-09-25', '2020-09-26', '2020-09-29', '2020-09-30',\n",
       "       '2020-06-14', '2020-06-16', '2020-06-20', '2020-06-21',\n",
       "       '2020-06-27', '2020-06-28', '2020-07-05', '2020-07-12',\n",
       "       '2020-07-15', '2020-07-17', '2020-07-19', '2020-07-30',\n",
       "       '2020-07-31', '2020-08-01', '2020-08-05', '2020-08-07',\n",
       "       '2020-08-09', '2020-08-13', '2020-08-23', '2020-08-25',\n",
       "       '2020-08-26', '2020-09-06', '2020-09-13', '2020-09-23',\n",
       "       '2020-09-28', '2020-08-16', '2020-08-30', '2020-09-20',\n",
       "       '2020-09-27'], dtype=object)"
      ]
     },
     "execution_count": 44,
     "metadata": {},
     "output_type": "execute_result"
    }
   ],
   "source": [
    "records['日期'].unique()"
   ]
  },
  {
   "cell_type": "code",
   "execution_count": null,
   "metadata": {},
   "outputs": [],
   "source": []
  }
 ],
 "metadata": {
  "kernelspec": {
   "display_name": "Python 3",
   "language": "python",
   "name": "python3"
  },
  "language_info": {
   "codemirror_mode": {
    "name": "ipython",
    "version": 3
   },
   "file_extension": ".py",
   "mimetype": "text/x-python",
   "name": "python",
   "nbconvert_exporter": "python",
   "pygments_lexer": "ipython3",
   "version": "3.7.6"
  }
 },
 "nbformat": 4,
 "nbformat_minor": 4
}
