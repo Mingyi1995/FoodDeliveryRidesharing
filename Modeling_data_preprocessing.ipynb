{
 "cells": [
  {
   "cell_type": "code",
   "execution_count": 1,
   "metadata": {},
   "outputs": [],
   "source": [
    "import random\n",
    "import pandas as pd\n",
    "import geopandas as gpd\n",
    "from shapely.geometry import Point, LineString\n",
    "import numpy as np\n",
    "import warnings\n",
    "from tqdm import tqdm_notebook as tqdm\n",
    "import requests\n",
    "import json\n",
    "import API\n",
    "import matplotlib.pyplot as plt\n",
    "import GoogleDistanceMatrix\n",
    "import GoogleVRP\n",
    "import routing\n",
    "pd.set_option('display.max_columns',None)\n",
    "pd.set_option('display.max_rows',None)\n",
    "warnings.filterwarnings('ignore')"
   ]
  },
  {
   "cell_type": "code",
   "execution_count": 3,
   "metadata": {},
   "outputs": [],
   "source": [
    "order = pd.read_excel('../1. Sales Data/DMS order_2-30Nov2020 (Only store with DMS available)+Transportation.xlsx')\n",
    "order = order.loc[order['Instant Order']==True]\n",
    "store = pd.read_csv('Data/StoreLocation.csv')"
   ]
  },
  {
   "cell_type": "code",
   "execution_count": 5,
   "metadata": {},
   "outputs": [],
   "source": [
    "order['orderTime'] = pd.to_datetime(order['下單時間'])\n",
    "order['arrivalTime'] = pd.to_datetime(order['訂單送達時間'])\n",
    "order['departureTime'] = pd.to_datetime(order['取餐出發時間'])\n",
    "\n",
    "order['waitingTime'] = order['arrivalTime'] - order['orderTime']\n",
    "order['tripDurationReal'] = pd.to_datetime(order['訂單送達時間']) - pd.to_datetime(order['departureTime'])\n",
    "order['tripDurationReal'] = order['tripDurationReal'].dt.seconds"
   ]
  },
  {
   "cell_type": "code",
   "execution_count": 6,
   "metadata": {},
   "outputs": [],
   "source": [
    "def get_lat_lon(x):\n",
    "    location = x['配送地址']\n",
    "    url = 'https://maps.googleapis.com/maps/api/geocode/json?address=香港'+location+'&key='+API.key\n",
    "    data = requests.get(url)\n",
    "    text = json.loads(data.text)\n",
    "    if text['results'] == []:\n",
    "        return('missing')\n",
    "    lat = str(text['results'][0]['geometry']['location']['lat'])\n",
    "    lng = str(text['results'][0]['geometry']['location']['lng'])\n",
    "    return(lat+','+lng)"
   ]
  },
  {
   "cell_type": "code",
   "execution_count": null,
   "metadata": {},
   "outputs": [],
   "source": [
    "order['DeliveryLatLon'] = order.apply(get_lat_lon,axis=1)"
   ]
  },
  {
   "cell_type": "code",
   "execution_count": null,
   "metadata": {},
   "outputs": [],
   "source": [
    "\n",
    "def tripDurationFromGoogle(x):\n",
    "    # distance matrix API\n",
    "    StoreLatLon,DeliveryLatLon = x['StoreLatLon'],x['DeliveryLatLon']\n",
    "    url = 'https://maps.googleapis.com/maps/api/distancematrix/json?units=imperial&origins='+StoreLatLon+\\\n",
    "    '&destinations='+DeliveryLatLon+'&key='+API.key\n",
    "    data = requests.get(url)\n",
    "    text = json.loads(data.text)\n",
    "    if text['rows'] != []:\n",
    "        if 'duration' in text['rows'][0]['elements'][0]:\n",
    "            \n",
    "            duration = text['rows'][0]['elements'][0]['duration']['value']\n",
    "            return duration\n",
    "    else:\n",
    "        return 'missing'"
   ]
  },
  {
   "cell_type": "code",
   "execution_count": null,
   "metadata": {},
   "outputs": [],
   "source": [
    "order = order[['日期', '門店名稱', '配送地址', '下單時間', '指派成功時間', '騎手接單時間', '到店取餐時間', '取餐出發時間',\n",
    "       '訂單送達時間', '預送達時間', 'Banner', 'Instant Order', '收貨地址坐標', 'Rider',\n",
    "       'Transportation', 'orderTime', 'arrivalTime', 'waitingTime',\n",
    "       'last取餐出發時間', 'lastRider', 'departureTime', 'tripDurationReal',\n",
    "       'DeliveryLatLon','shared']]"
   ]
  },
  {
   "cell_type": "code",
   "execution_count": null,
   "metadata": {},
   "outputs": [],
   "source": [
    "order = order.merge(store, how='left',left_on='門店名稱', right_on='storeCode')\n",
    "order['StoreLatLon'] = order['lat'].astype(str)+','+order['lon'].astype(str)"
   ]
  },
  {
   "cell_type": "code",
   "execution_count": null,
   "metadata": {},
   "outputs": [],
   "source": [
    "order['tripDurationFromGoogle'] = order.apply(lambda x:tripDurationFromGoogle(x),axis=1)"
   ]
  },
  {
   "cell_type": "code",
   "execution_count": null,
   "metadata": {},
   "outputs": [],
   "source": [
    "order['tripDurationFromGoogle'].fillna('missing',inplace=True)\n",
    "order = order.loc[order['tripDurationFromGoogle']!='missing']\n",
    "order['tripDurationFromGoogle'] = order['tripDurationFromGoogle'].astype(int)"
   ]
  },
  {
   "cell_type": "code",
   "execution_count": null,
   "metadata": {},
   "outputs": [],
   "source": [
    "order.loc[order['shared']==0]['tripDurationFromGoogle'].mean()/60"
   ]
  },
  {
   "cell_type": "code",
   "execution_count": null,
   "metadata": {},
   "outputs": [],
   "source": [
    "order.loc[order['shared']==0]['tripDurationReal'].mean()/60"
   ]
  },
  {
   "cell_type": "code",
   "execution_count": null,
   "metadata": {},
   "outputs": [],
   "source": [
    "timeParameter = (order['tripDurationReal']/60).mean() / (order['tripDurationFromGoogle']/60).mean()\n",
    "timeParameter"
   ]
  },
  {
   "cell_type": "code",
   "execution_count": null,
   "metadata": {},
   "outputs": [],
   "source": [
    "order['foodPreparationTime'] = pd.to_datetime(order['取餐出發時間']) - pd.to_datetime(order['下單時間'])"
   ]
  },
  {
   "cell_type": "code",
   "execution_count": null,
   "metadata": {},
   "outputs": [],
   "source": [
    "order.loc[order['shared']==0]['foodPreparationTime'].mean()"
   ]
  },
  {
   "cell_type": "code",
   "execution_count": null,
   "metadata": {},
   "outputs": [],
   "source": [
    "order.loc[order['shared']==1]['foodPreparationTime'].mean()"
   ]
  },
  {
   "cell_type": "code",
   "execution_count": null,
   "metadata": {},
   "outputs": [],
   "source": [
    "order.to_csv('Data/ProcessedNov30.csv',index=False)"
   ]
  }
 ],
 "metadata": {
  "kernelspec": {
   "display_name": "Python 3",
   "language": "python",
   "name": "python3"
  },
  "language_info": {
   "codemirror_mode": {
    "name": "ipython",
    "version": 3
   },
   "file_extension": ".py",
   "mimetype": "text/x-python",
   "name": "python",
   "nbconvert_exporter": "python",
   "pygments_lexer": "ipython3",
   "version": "3.7.6"
  }
 },
 "nbformat": 4,
 "nbformat_minor": 4
}
