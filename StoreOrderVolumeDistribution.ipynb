{
 "cells": [
  {
   "cell_type": "code",
   "execution_count": 124,
   "metadata": {},
   "outputs": [],
   "source": [
    "import pandas as pd\n",
    "import geopandas as gpd\n",
    "import matplotlib.pyplot as plt"
   ]
  },
  {
   "cell_type": "code",
   "execution_count": 101,
   "metadata": {},
   "outputs": [],
   "source": [
    "record = pd.read_csv('DeliveryRecord.csv')"
   ]
  },
  {
   "cell_type": "code",
   "execution_count": 102,
   "metadata": {},
   "outputs": [
    {
     "data": {
      "text/plain": [
       "98"
      ]
     },
     "execution_count": 102,
     "metadata": {},
     "output_type": "execute_result"
    }
   ],
   "source": [
    "len(record['storeCode'].unique())"
   ]
  },
  {
   "cell_type": "code",
   "execution_count": 103,
   "metadata": {},
   "outputs": [],
   "source": [
    "record['下單時間'] = record['下單時間'].apply(lambda x: x[11:13]+':01:00')\n",
    "record['下單時間'] = pd.to_datetime(record['下單時間'])"
   ]
  },
  {
   "cell_type": "code",
   "execution_count": 104,
   "metadata": {},
   "outputs": [],
   "source": [
    "storeHour = record.groupby(['storeCode','lat','lon','下單時間']).agg({'Rider':'count'}).reset_index()\n",
    "storeHour.rename(columns={'下單時間':'OrderTime'},inplace=True)"
   ]
  },
  {
   "cell_type": "code",
   "execution_count": 105,
   "metadata": {},
   "outputs": [],
   "source": [
    "maxIndex = storeHour.groupby(['storeCode']).agg({'Rider':'max'}).reset_index()\n",
    "maxIndex['peakHour'] = 1\n",
    "storeHour = storeHour.merge(maxIndex,on=['storeCode','Rider'],how='outer').fillna(0)"
   ]
  },
  {
   "cell_type": "code",
   "execution_count": 106,
   "metadata": {},
   "outputs": [
    {
     "data": {
      "text/html": [
       "<div>\n",
       "<style scoped>\n",
       "    .dataframe tbody tr th:only-of-type {\n",
       "        vertical-align: middle;\n",
       "    }\n",
       "\n",
       "    .dataframe tbody tr th {\n",
       "        vertical-align: top;\n",
       "    }\n",
       "\n",
       "    .dataframe thead th {\n",
       "        text-align: right;\n",
       "    }\n",
       "</style>\n",
       "<table border=\"1\" class=\"dataframe\">\n",
       "  <thead>\n",
       "    <tr style=\"text-align: right;\">\n",
       "      <th></th>\n",
       "      <th>storeCode</th>\n",
       "      <th>Rider</th>\n",
       "      <th>peakHour</th>\n",
       "    </tr>\n",
       "  </thead>\n",
       "  <tbody>\n",
       "    <tr>\n",
       "      <th>38</th>\n",
       "      <td>PH31</td>\n",
       "      <td>70</td>\n",
       "      <td>1</td>\n",
       "    </tr>\n",
       "  </tbody>\n",
       "</table>\n",
       "</div>"
      ],
      "text/plain": [
       "   storeCode  Rider  peakHour\n",
       "38      PH31     70         1"
      ]
     },
     "execution_count": 106,
     "metadata": {},
     "output_type": "execute_result"
    }
   ],
   "source": [
    "maxIndex.loc[maxIndex.storeCode=='PH31']"
   ]
  },
  {
   "cell_type": "code",
   "execution_count": null,
   "metadata": {},
   "outputs": [],
   "source": []
  },
  {
   "cell_type": "code",
   "execution_count": 107,
   "metadata": {},
   "outputs": [],
   "source": [
    "def findBranch(x):\n",
    "    if 'KFC' in x:\n",
    "        return 'KFC'\n",
    "    elif 'PHD' in x:\n",
    "        return 'PHD'\n",
    "    else:\n",
    "        return 'PH'\n",
    "    \n",
    "storeHour['Branch'] = storeHour['storeCode'].apply(lambda x: findBranch(x))"
   ]
  },
  {
   "cell_type": "code",
   "execution_count": 108,
   "metadata": {},
   "outputs": [
    {
     "data": {
      "text/html": [
       "<div>\n",
       "<style scoped>\n",
       "    .dataframe tbody tr th:only-of-type {\n",
       "        vertical-align: middle;\n",
       "    }\n",
       "\n",
       "    .dataframe tbody tr th {\n",
       "        vertical-align: top;\n",
       "    }\n",
       "\n",
       "    .dataframe thead th {\n",
       "        text-align: right;\n",
       "    }\n",
       "</style>\n",
       "<table border=\"1\" class=\"dataframe\">\n",
       "  <thead>\n",
       "    <tr style=\"text-align: right;\">\n",
       "      <th></th>\n",
       "      <th>storeCode</th>\n",
       "      <th>lat</th>\n",
       "      <th>lon</th>\n",
       "      <th>OrderTime</th>\n",
       "      <th>Rider</th>\n",
       "      <th>peakHour</th>\n",
       "      <th>Branch</th>\n",
       "    </tr>\n",
       "  </thead>\n",
       "  <tbody>\n",
       "    <tr>\n",
       "      <th>369</th>\n",
       "      <td>PH31</td>\n",
       "      <td>22.339911</td>\n",
       "      <td>114.155129</td>\n",
       "      <td>2020-11-02 11:01:00</td>\n",
       "      <td>8</td>\n",
       "      <td>0.0</td>\n",
       "      <td>PH</td>\n",
       "    </tr>\n",
       "    <tr>\n",
       "      <th>370</th>\n",
       "      <td>PH31</td>\n",
       "      <td>22.339911</td>\n",
       "      <td>114.155129</td>\n",
       "      <td>2020-11-02 14:01:00</td>\n",
       "      <td>8</td>\n",
       "      <td>0.0</td>\n",
       "      <td>PH</td>\n",
       "    </tr>\n",
       "    <tr>\n",
       "      <th>371</th>\n",
       "      <td>PH31</td>\n",
       "      <td>22.339911</td>\n",
       "      <td>114.155129</td>\n",
       "      <td>2020-11-02 12:01:00</td>\n",
       "      <td>13</td>\n",
       "      <td>0.0</td>\n",
       "      <td>PH</td>\n",
       "    </tr>\n",
       "    <tr>\n",
       "      <th>372</th>\n",
       "      <td>PH31</td>\n",
       "      <td>22.339911</td>\n",
       "      <td>114.155129</td>\n",
       "      <td>2020-11-02 13:01:00</td>\n",
       "      <td>16</td>\n",
       "      <td>0.0</td>\n",
       "      <td>PH</td>\n",
       "    </tr>\n",
       "    <tr>\n",
       "      <th>373</th>\n",
       "      <td>PH31</td>\n",
       "      <td>22.339911</td>\n",
       "      <td>114.155129</td>\n",
       "      <td>2020-11-02 21:01:00</td>\n",
       "      <td>16</td>\n",
       "      <td>0.0</td>\n",
       "      <td>PH</td>\n",
       "    </tr>\n",
       "    <tr>\n",
       "      <th>374</th>\n",
       "      <td>PH31</td>\n",
       "      <td>22.339911</td>\n",
       "      <td>114.155129</td>\n",
       "      <td>2020-11-02 15:01:00</td>\n",
       "      <td>5</td>\n",
       "      <td>0.0</td>\n",
       "      <td>PH</td>\n",
       "    </tr>\n",
       "    <tr>\n",
       "      <th>375</th>\n",
       "      <td>PH31</td>\n",
       "      <td>22.339911</td>\n",
       "      <td>114.155129</td>\n",
       "      <td>2020-11-02 22:01:00</td>\n",
       "      <td>5</td>\n",
       "      <td>0.0</td>\n",
       "      <td>PH</td>\n",
       "    </tr>\n",
       "    <tr>\n",
       "      <th>376</th>\n",
       "      <td>PH31</td>\n",
       "      <td>22.339911</td>\n",
       "      <td>114.155129</td>\n",
       "      <td>2020-11-02 16:01:00</td>\n",
       "      <td>10</td>\n",
       "      <td>0.0</td>\n",
       "      <td>PH</td>\n",
       "    </tr>\n",
       "    <tr>\n",
       "      <th>377</th>\n",
       "      <td>PH31</td>\n",
       "      <td>22.339911</td>\n",
       "      <td>114.155129</td>\n",
       "      <td>2020-11-02 17:01:00</td>\n",
       "      <td>45</td>\n",
       "      <td>0.0</td>\n",
       "      <td>PH</td>\n",
       "    </tr>\n",
       "    <tr>\n",
       "      <th>378</th>\n",
       "      <td>PH31</td>\n",
       "      <td>22.339911</td>\n",
       "      <td>114.155129</td>\n",
       "      <td>2020-11-02 18:01:00</td>\n",
       "      <td>70</td>\n",
       "      <td>1.0</td>\n",
       "      <td>PH</td>\n",
       "    </tr>\n",
       "    <tr>\n",
       "      <th>379</th>\n",
       "      <td>PH31</td>\n",
       "      <td>22.339911</td>\n",
       "      <td>114.155129</td>\n",
       "      <td>2020-11-02 19:01:00</td>\n",
       "      <td>47</td>\n",
       "      <td>0.0</td>\n",
       "      <td>PH</td>\n",
       "    </tr>\n",
       "    <tr>\n",
       "      <th>380</th>\n",
       "      <td>PH31</td>\n",
       "      <td>22.339911</td>\n",
       "      <td>114.155129</td>\n",
       "      <td>2020-11-02 20:01:00</td>\n",
       "      <td>24</td>\n",
       "      <td>0.0</td>\n",
       "      <td>PH</td>\n",
       "    </tr>\n",
       "  </tbody>\n",
       "</table>\n",
       "</div>"
      ],
      "text/plain": [
       "    storeCode        lat         lon           OrderTime  Rider  peakHour  \\\n",
       "369      PH31  22.339911  114.155129 2020-11-02 11:01:00      8       0.0   \n",
       "370      PH31  22.339911  114.155129 2020-11-02 14:01:00      8       0.0   \n",
       "371      PH31  22.339911  114.155129 2020-11-02 12:01:00     13       0.0   \n",
       "372      PH31  22.339911  114.155129 2020-11-02 13:01:00     16       0.0   \n",
       "373      PH31  22.339911  114.155129 2020-11-02 21:01:00     16       0.0   \n",
       "374      PH31  22.339911  114.155129 2020-11-02 15:01:00      5       0.0   \n",
       "375      PH31  22.339911  114.155129 2020-11-02 22:01:00      5       0.0   \n",
       "376      PH31  22.339911  114.155129 2020-11-02 16:01:00     10       0.0   \n",
       "377      PH31  22.339911  114.155129 2020-11-02 17:01:00     45       0.0   \n",
       "378      PH31  22.339911  114.155129 2020-11-02 18:01:00     70       1.0   \n",
       "379      PH31  22.339911  114.155129 2020-11-02 19:01:00     47       0.0   \n",
       "380      PH31  22.339911  114.155129 2020-11-02 20:01:00     24       0.0   \n",
       "\n",
       "    Branch  \n",
       "369     PH  \n",
       "370     PH  \n",
       "371     PH  \n",
       "372     PH  \n",
       "373     PH  \n",
       "374     PH  \n",
       "375     PH  \n",
       "376     PH  \n",
       "377     PH  \n",
       "378     PH  \n",
       "379     PH  \n",
       "380     PH  "
      ]
     },
     "execution_count": 108,
     "metadata": {},
     "output_type": "execute_result"
    }
   ],
   "source": [
    "storeHour.loc[storeHour.storeCode=='PH31']"
   ]
  },
  {
   "cell_type": "code",
   "execution_count": 123,
   "metadata": {},
   "outputs": [
    {
     "name": "stdout",
     "output_type": "stream",
     "text": [
      "KFC\n",
      "amount,  14\n"
     ]
    },
    {
     "data": {
      "text/html": [
       "<div>\n",
       "<style scoped>\n",
       "    .dataframe tbody tr th:only-of-type {\n",
       "        vertical-align: middle;\n",
       "    }\n",
       "\n",
       "    .dataframe tbody tr th {\n",
       "        vertical-align: top;\n",
       "    }\n",
       "\n",
       "    .dataframe thead th {\n",
       "        text-align: right;\n",
       "    }\n",
       "</style>\n",
       "<table border=\"1\" class=\"dataframe\">\n",
       "  <thead>\n",
       "    <tr style=\"text-align: right;\">\n",
       "      <th></th>\n",
       "      <th>storeCode</th>\n",
       "      <th>lat</th>\n",
       "      <th>lon</th>\n",
       "      <th>Rider</th>\n",
       "      <th>peakHour</th>\n",
       "      <th>Branch</th>\n",
       "    </tr>\n",
       "    <tr>\n",
       "      <th>OrderTime</th>\n",
       "      <th></th>\n",
       "      <th></th>\n",
       "      <th></th>\n",
       "      <th></th>\n",
       "      <th></th>\n",
       "      <th></th>\n",
       "    </tr>\n",
       "  </thead>\n",
       "  <tbody>\n",
       "    <tr>\n",
       "      <th>2020-11-02 11:01:00</th>\n",
       "      <td>3</td>\n",
       "      <td>3</td>\n",
       "      <td>3</td>\n",
       "      <td>3</td>\n",
       "      <td>3</td>\n",
       "      <td>3</td>\n",
       "    </tr>\n",
       "    <tr>\n",
       "      <th>2020-11-02 12:01:00</th>\n",
       "      <td>4</td>\n",
       "      <td>4</td>\n",
       "      <td>4</td>\n",
       "      <td>4</td>\n",
       "      <td>4</td>\n",
       "      <td>4</td>\n",
       "    </tr>\n",
       "    <tr>\n",
       "      <th>2020-11-02 13:01:00</th>\n",
       "      <td>1</td>\n",
       "      <td>1</td>\n",
       "      <td>1</td>\n",
       "      <td>1</td>\n",
       "      <td>1</td>\n",
       "      <td>1</td>\n",
       "    </tr>\n",
       "    <tr>\n",
       "      <th>2020-11-02 14:01:00</th>\n",
       "      <td>1</td>\n",
       "      <td>1</td>\n",
       "      <td>1</td>\n",
       "      <td>1</td>\n",
       "      <td>1</td>\n",
       "      <td>1</td>\n",
       "    </tr>\n",
       "    <tr>\n",
       "      <th>2020-11-02 17:01:00</th>\n",
       "      <td>1</td>\n",
       "      <td>1</td>\n",
       "      <td>1</td>\n",
       "      <td>1</td>\n",
       "      <td>1</td>\n",
       "      <td>1</td>\n",
       "    </tr>\n",
       "    <tr>\n",
       "      <th>2020-11-02 18:01:00</th>\n",
       "      <td>4</td>\n",
       "      <td>4</td>\n",
       "      <td>4</td>\n",
       "      <td>4</td>\n",
       "      <td>4</td>\n",
       "      <td>4</td>\n",
       "    </tr>\n",
       "    <tr>\n",
       "      <th>2020-11-02 19:01:00</th>\n",
       "      <td>3</td>\n",
       "      <td>3</td>\n",
       "      <td>3</td>\n",
       "      <td>3</td>\n",
       "      <td>3</td>\n",
       "      <td>3</td>\n",
       "    </tr>\n",
       "    <tr>\n",
       "      <th>2020-11-02 20:01:00</th>\n",
       "      <td>1</td>\n",
       "      <td>1</td>\n",
       "      <td>1</td>\n",
       "      <td>1</td>\n",
       "      <td>1</td>\n",
       "      <td>1</td>\n",
       "    </tr>\n",
       "  </tbody>\n",
       "</table>\n",
       "</div>"
      ],
      "text/plain": [
       "                     storeCode  lat  lon  Rider  peakHour  Branch\n",
       "OrderTime                                                        \n",
       "2020-11-02 11:01:00          3    3    3      3         3       3\n",
       "2020-11-02 12:01:00          4    4    4      4         4       4\n",
       "2020-11-02 13:01:00          1    1    1      1         1       1\n",
       "2020-11-02 14:01:00          1    1    1      1         1       1\n",
       "2020-11-02 17:01:00          1    1    1      1         1       1\n",
       "2020-11-02 18:01:00          4    4    4      4         4       4\n",
       "2020-11-02 19:01:00          3    3    3      3         3       3\n",
       "2020-11-02 20:01:00          1    1    1      1         1       1"
      ]
     },
     "execution_count": 123,
     "metadata": {},
     "output_type": "execute_result"
    }
   ],
   "source": [
    "store = 'KFC'\n",
    "print(store)\n",
    "print('amount, ', len(storeHour.loc[(storeHour['Branch']==store)]['storeCode'].unique()))\n",
    "storeHour.loc[(storeHour['Branch']==store)&(storeHour['peakHour']==1)].groupby(['OrderTime']).count()"
   ]
  },
  {
   "cell_type": "code",
   "execution_count": 128,
   "metadata": {},
   "outputs": [
    {
     "data": {
      "text/plain": [
       "<BarContainer object of 8 artists>"
      ]
     },
     "execution_count": 128,
     "metadata": {},
     "output_type": "execute_result"
    },
    {
     "data": {
      "image/png": "[encoded data removed]",
      "text/plain": [
       "<Figure size 432x288 with 1 Axes>"
      ]
     },
     "metadata": {
      "needs_background": "light"
     },
     "output_type": "display_data"
    }
   ],
   "source": [
    "kfc = storeHour.loc[(storeHour['Branch']==store)&(storeHour['peakHour']==1)].\\\n",
    "        groupby(['OrderTime']).count().reset_index()\n",
    "plt.bar(kfc['OrderTime'].dt.hour, kfc['storeCode'])"
   ]
  },
  {
   "cell_type": "code",
   "execution_count": 118,
   "metadata": {},
   "outputs": [
    {
     "name": "stdout",
     "output_type": "stream",
     "text": [
      "PHD\n",
      "amount,  26\n"
     ]
    },
    {
     "data": {
      "text/html": [
       "<div>\n",
       "<style scoped>\n",
       "    .dataframe tbody tr th:only-of-type {\n",
       "        vertical-align: middle;\n",
       "    }\n",
       "\n",
       "    .dataframe tbody tr th {\n",
       "        vertical-align: top;\n",
       "    }\n",
       "\n",
       "    .dataframe thead th {\n",
       "        text-align: right;\n",
       "    }\n",
       "</style>\n",
       "<table border=\"1\" class=\"dataframe\">\n",
       "  <thead>\n",
       "    <tr style=\"text-align: right;\">\n",
       "      <th></th>\n",
       "      <th>storeCode</th>\n",
       "      <th>lat</th>\n",
       "      <th>lon</th>\n",
       "      <th>Rider</th>\n",
       "      <th>peakHour</th>\n",
       "      <th>Branch</th>\n",
       "    </tr>\n",
       "    <tr>\n",
       "      <th>OrderTime</th>\n",
       "      <th></th>\n",
       "      <th></th>\n",
       "      <th></th>\n",
       "      <th></th>\n",
       "      <th></th>\n",
       "      <th></th>\n",
       "    </tr>\n",
       "  </thead>\n",
       "  <tbody>\n",
       "    <tr>\n",
       "      <th>2020-11-02 17:01:00</th>\n",
       "      <td>1</td>\n",
       "      <td>1</td>\n",
       "      <td>1</td>\n",
       "      <td>1</td>\n",
       "      <td>1</td>\n",
       "      <td>1</td>\n",
       "    </tr>\n",
       "    <tr>\n",
       "      <th>2020-11-02 18:01:00</th>\n",
       "      <td>25</td>\n",
       "      <td>25</td>\n",
       "      <td>25</td>\n",
       "      <td>25</td>\n",
       "      <td>25</td>\n",
       "      <td>25</td>\n",
       "    </tr>\n",
       "  </tbody>\n",
       "</table>\n",
       "</div>"
      ],
      "text/plain": [
       "                     storeCode  lat  lon  Rider  peakHour  Branch\n",
       "OrderTime                                                        \n",
       "2020-11-02 17:01:00          1    1    1      1         1       1\n",
       "2020-11-02 18:01:00         25   25   25     25        25      25"
      ]
     },
     "execution_count": 118,
     "metadata": {},
     "output_type": "execute_result"
    }
   ],
   "source": [
    "store = 'PHD'\n",
    "print(store)\n",
    "print('amount, ', len(storeHour.loc[(storeHour['Branch']==store)]['storeCode'].unique()))\n",
    "storeHour.loc[(storeHour['Branch']==store)&(storeHour['peakHour']==1)].groupby(['OrderTime']).count()"
   ]
  },
  {
   "cell_type": "code",
   "execution_count": 120,
   "metadata": {},
   "outputs": [
    {
     "name": "stdout",
     "output_type": "stream",
     "text": [
      "PH\n",
      "amount,  58\n"
     ]
    },
    {
     "data": {
      "text/html": [
       "<div>\n",
       "<style scoped>\n",
       "    .dataframe tbody tr th:only-of-type {\n",
       "        vertical-align: middle;\n",
       "    }\n",
       "\n",
       "    .dataframe tbody tr th {\n",
       "        vertical-align: top;\n",
       "    }\n",
       "\n",
       "    .dataframe thead th {\n",
       "        text-align: right;\n",
       "    }\n",
       "</style>\n",
       "<table border=\"1\" class=\"dataframe\">\n",
       "  <thead>\n",
       "    <tr style=\"text-align: right;\">\n",
       "      <th></th>\n",
       "      <th>storeCode</th>\n",
       "      <th>lat</th>\n",
       "      <th>lon</th>\n",
       "      <th>Rider</th>\n",
       "      <th>peakHour</th>\n",
       "      <th>Branch</th>\n",
       "    </tr>\n",
       "    <tr>\n",
       "      <th>OrderTime</th>\n",
       "      <th></th>\n",
       "      <th></th>\n",
       "      <th></th>\n",
       "      <th></th>\n",
       "      <th></th>\n",
       "      <th></th>\n",
       "    </tr>\n",
       "  </thead>\n",
       "  <tbody>\n",
       "    <tr>\n",
       "      <th>2020-11-02 17:01:00</th>\n",
       "      <td>7</td>\n",
       "      <td>7</td>\n",
       "      <td>7</td>\n",
       "      <td>7</td>\n",
       "      <td>7</td>\n",
       "      <td>7</td>\n",
       "    </tr>\n",
       "    <tr>\n",
       "      <th>2020-11-02 18:01:00</th>\n",
       "      <td>46</td>\n",
       "      <td>46</td>\n",
       "      <td>46</td>\n",
       "      <td>46</td>\n",
       "      <td>46</td>\n",
       "      <td>46</td>\n",
       "    </tr>\n",
       "    <tr>\n",
       "      <th>2020-11-02 19:01:00</th>\n",
       "      <td>5</td>\n",
       "      <td>5</td>\n",
       "      <td>5</td>\n",
       "      <td>5</td>\n",
       "      <td>5</td>\n",
       "      <td>5</td>\n",
       "    </tr>\n",
       "  </tbody>\n",
       "</table>\n",
       "</div>"
      ],
      "text/plain": [
       "                     storeCode  lat  lon  Rider  peakHour  Branch\n",
       "OrderTime                                                        \n",
       "2020-11-02 17:01:00          7    7    7      7         7       7\n",
       "2020-11-02 18:01:00         46   46   46     46        46      46\n",
       "2020-11-02 19:01:00          5    5    5      5         5       5"
      ]
     },
     "execution_count": 120,
     "metadata": {},
     "output_type": "execute_result"
    }
   ],
   "source": [
    "store = 'PH'\n",
    "print(store)\n",
    "print('amount, ', len(storeHour.loc[(storeHour['Branch']==store)]['storeCode'].unique()))\n",
    "storeHour.loc[(storeHour['Branch']==store)&(storeHour['peakHour']==1)].groupby(['OrderTime']).count()"
   ]
  },
  {
   "cell_type": "code",
   "execution_count": 109,
   "metadata": {},
   "outputs": [],
   "source": [
    "storeHour.to_csv('storeHour.csv',index=False)"
   ]
  },
  {
   "cell_type": "code",
   "execution_count": null,
   "metadata": {},
   "outputs": [],
   "source": []
  }
 ],
 "metadata": {
  "kernelspec": {
   "display_name": "Python 3",
   "language": "python",
   "name": "python3"
  },
  "language_info": {
   "codemirror_mode": {
    "name": "ipython",
    "version": 3
   },
   "file_extension": ".py",
   "mimetype": "text/x-python",
   "name": "python",
   "nbconvert_exporter": "python",
   "pygments_lexer": "ipython3",
   "version": "3.7.6"
  }
 },
 "nbformat": 4,
 "nbformat_minor": 4
}
