{
 "cells": [
  {
   "cell_type": "code",
   "execution_count": 1,
   "metadata": {},
   "outputs": [],
   "source": [
    "import gurobipy as gp\n",
    "from gurobipy import GRB\n",
    "import random\n",
    "import pandas as pd\n",
    "import geopandas as gpd\n",
    "from shapely.geometry import Point, LineString\n",
    "import numpy as np\n",
    "import warnings\n",
    "from tqdm import tqdm_notebook as tqdm\n",
    "import requests\n",
    "import json\n",
    "import API\n",
    "import matplotlib.pyplot as plt\n",
    "import GoogleDistanceMatrix\n",
    "import GoogleVRP\n",
    "pd.set_option('display.max_columns',None)\n",
    "warnings.filterwarnings('ignore')"
   ]
  },
  {
   "cell_type": "markdown",
   "metadata": {},
   "source": [
    "# Current shared"
   ]
  },
  {
   "cell_type": "code",
   "execution_count": 46,
   "metadata": {},
   "outputs": [],
   "source": [
    "order = pd.read_excel('../1. Sales Data/DMS order_2-6Nov2020 (Only store with DMS available)+Transportation.xlsx')\n",
    "order = order.loc[order['Instant Order']==True]\n",
    "store = pd.read_csv('Data/StoreLocation.csv')"
   ]
  },
  {
   "cell_type": "code",
   "execution_count": 236,
   "metadata": {},
   "outputs": [],
   "source": [
    "order['orderTime'] = pd.to_datetime(order['下單時間'])\n",
    "order['arrivalTime'] = pd.to_datetime(order['訂單送達時間'])\n",
    "order['departureTime'] = pd.to_datetime(order['取餐出發時間'])\n",
    "\n",
    "order['waitingTime'] = order['arrivalTime'] - order['orderTime']\n",
    "order['tripDurationReal'] = pd.to_datetime(order['訂單送達時間']) - pd.to_datetime(order['departureTime'])\n",
    "order['tripDurationReal'] = order['tripDurationReal'].dt.seconds"
   ]
  },
  {
   "cell_type": "code",
   "execution_count": 224,
   "metadata": {},
   "outputs": [
    {
     "data": {
      "text/plain": [
       "(60, 32)"
      ]
     },
     "execution_count": 224,
     "metadata": {},
     "output_type": "execute_result"
    }
   ],
   "source": [
    "order.shape"
   ]
  },
  {
   "cell_type": "code",
   "execution_count": 237,
   "metadata": {},
   "outputs": [
    {
     "data": {
      "text/plain": [
       "count                       503\n",
       "mean     0 days 00:36:09.552683\n",
       "std      0 days 00:12:28.852046\n",
       "min             0 days 00:16:02\n",
       "25%      0 days 00:27:39.500000\n",
       "50%             0 days 00:33:46\n",
       "75%             0 days 00:41:05\n",
       "max             0 days 01:33:23\n",
       "Name: waitingTime, dtype: object"
      ]
     },
     "execution_count": 237,
     "metadata": {},
     "output_type": "execute_result"
    }
   ],
   "source": [
    "order['waitingTime'].describe()"
   ]
  },
  {
   "cell_type": "code",
   "execution_count": 238,
   "metadata": {},
   "outputs": [],
   "source": [
    "order = order.sort_values(by=['取餐出發時間','Rider'])\n",
    "order['last取餐出發時間'] = order['取餐出發時間'].shift(1)\n",
    "order['lastRider'] = order['Rider'].shift(1)\n",
    "order['pre取餐出發時間'] = order['取餐出發時間'].shift(-1)\n",
    "order['preRider'] = order['Rider'].shift(-1)"
   ]
  },
  {
   "cell_type": "code",
   "execution_count": 239,
   "metadata": {},
   "outputs": [],
   "source": [
    "shared = order.loc[((order['last取餐出發時間']==order['取餐出發時間'])&(order['lastRider']==order['Rider']))|\n",
    "                   ((order['pre取餐出發時間']==order['取餐出發時間'])&(order['preRider']==order['Rider']))]\n",
    "single = order.loc[((order['last取餐出發時間']!=order['取餐出發時間'])|(order['lastRider']!=order['Rider']))|\n",
    "                   ((order['pre取餐出發時間']!=order['取餐出發時間'])|(order['preRider']!=order['Rider']))]"
   ]
  },
  {
   "cell_type": "code",
   "execution_count": 240,
   "metadata": {},
   "outputs": [
    {
     "data": {
      "text/plain": [
       "count                       138\n",
       "mean     0 days 00:42:49.384057\n",
       "std      0 days 00:14:43.388014\n",
       "min             0 days 00:20:14\n",
       "25%      0 days 00:33:24.250000\n",
       "50%      0 days 00:39:02.500000\n",
       "75%      0 days 00:47:22.500000\n",
       "max             0 days 01:33:23\n",
       "Name: waitingTime, dtype: object"
      ]
     },
     "execution_count": 240,
     "metadata": {},
     "output_type": "execute_result"
    }
   ],
   "source": [
    "shared['waitingTime'].describe()"
   ]
  },
  {
   "cell_type": "code",
   "execution_count": 241,
   "metadata": {},
   "outputs": [
    {
     "data": {
      "text/plain": [
       "count                       499\n",
       "mean     0 days 00:36:01.466933\n",
       "std      0 days 00:12:18.852885\n",
       "min             0 days 00:16:02\n",
       "25%      0 days 00:27:39.500000\n",
       "50%             0 days 00:33:43\n",
       "75%             0 days 00:40:49\n",
       "max             0 days 01:33:23\n",
       "Name: waitingTime, dtype: object"
      ]
     },
     "execution_count": 241,
     "metadata": {},
     "output_type": "execute_result"
    }
   ],
   "source": [
    "single['waitingTime'].describe()"
   ]
  },
  {
   "cell_type": "markdown",
   "metadata": {},
   "source": [
    "## data preprocessing"
   ]
  },
  {
   "cell_type": "code",
   "execution_count": 125,
   "metadata": {},
   "outputs": [],
   "source": [
    "def get_lat_lon(x):\n",
    "    location = x['配送地址']\n",
    "    url = 'https://maps.googleapis.com/maps/api/geocode/json?address=香港'+location+'&key='+API.key\n",
    "    data = requests.get(url)\n",
    "    text = json.loads(data.text)\n",
    "    if text['results'] == []:\n",
    "        return('missing')\n",
    "    lat = str(text['results'][0]['geometry']['location']['lat'])\n",
    "    lng = str(text['results'][0]['geometry']['location']['lng'])\n",
    "    return(lat+','+lng)"
   ]
  },
  {
   "cell_type": "code",
   "execution_count": 126,
   "metadata": {},
   "outputs": [],
   "source": [
    "order['DeliveryLatLon'] = order.apply(get_lat_lon,axis=1)"
   ]
  },
  {
   "cell_type": "code",
   "execution_count": 130,
   "metadata": {},
   "outputs": [],
   "source": [
    "def tripDurationFromGoogle(x):\n",
    "    StoreLatLon,DeliveryLatLon = x['StoreLatLon'],x['DeliveryLatLon']\n",
    "    url = 'https://maps.googleapis.com/maps/api/directions/json?origin='+StoreLatLon+\\\n",
    "    '&destination='+DeliveryLatLon+'&mode=driving&key='+API.key\n",
    "    data = requests.get(url)\n",
    "    text = json.loads(data.text)\n",
    "    if text['routes'] == []:\n",
    "        return 'missing'\n",
    "         \n",
    "    else:\n",
    "        duration = text['routes'][0]['legs'][0]['duration']['value']\n",
    "        return duration"
   ]
  },
  {
   "cell_type": "code",
   "execution_count": 84,
   "metadata": {},
   "outputs": [],
   "source": [
    "order = order[['日期', '門店名稱', '配送地址', '下單時間', '指派成功時間', '騎手接單時間', '到店取餐時間', '取餐出發時間',\n",
    "       '訂單送達時間', '預送達時間', 'Banner', 'Instant Order', '收貨地址坐標', 'Rider',\n",
    "       'Transportation', 'orderTime', 'arrivalTime', 'waitingTime',\n",
    "       'last取餐出發時間', 'lastRider', 'departureTime', 'tripDurationReal',\n",
    "       'DeliveryLatLon']]"
   ]
  },
  {
   "cell_type": "code",
   "execution_count": 85,
   "metadata": {},
   "outputs": [],
   "source": [
    "order = order.merge(store, how='left',left_on='門店名稱', right_on='storeCode')\n",
    "order['StoreLatLon'] = order['lat'].astype(str)+','+order['lon'].astype(str)"
   ]
  },
  {
   "cell_type": "code",
   "execution_count": 131,
   "metadata": {},
   "outputs": [],
   "source": [
    "order['tripDurationFromGoogle'] = order.apply(lambda x:tripDurationFromGoogle(x),axis=1)"
   ]
  },
  {
   "cell_type": "code",
   "execution_count": 150,
   "metadata": {},
   "outputs": [],
   "source": [
    "order = order.loc[order['tripDurationFromGoogle']!='missing']\n",
    "order['tripDurationFromGoogle'] = order['tripDurationFromGoogle'].astype(int)"
   ]
  },
  {
   "cell_type": "code",
   "execution_count": 242,
   "metadata": {},
   "outputs": [],
   "source": [
    "order['shared'] = 0\n",
    "order.loc[((order['last取餐出發時間']==order['取餐出發時間'])&(order['lastRider']==order['Rider']))|\n",
    "                   ((order['pre取餐出發時間']==order['取餐出發時間'])&(order['preRider']==order['Rider'])),'shared'] = 1"
   ]
  },
  {
   "cell_type": "code",
   "execution_count": 269,
   "metadata": {},
   "outputs": [
    {
     "data": {
      "text/plain": [
       "7.692191780821918"
      ]
     },
     "execution_count": 269,
     "metadata": {},
     "output_type": "execute_result"
    }
   ],
   "source": [
    "order.loc[order['shared']==0]['tripDurationFromGoogle'].mean()/60"
   ]
  },
  {
   "cell_type": "code",
   "execution_count": 270,
   "metadata": {},
   "outputs": [
    {
     "data": {
      "text/plain": [
       "15.16579908675799"
      ]
     },
     "execution_count": 270,
     "metadata": {},
     "output_type": "execute_result"
    }
   ],
   "source": [
    "order.loc[order['shared']==0]['tripDurationReal'].mean()/60"
   ]
  },
  {
   "cell_type": "code",
   "execution_count": 271,
   "metadata": {},
   "outputs": [
    {
     "data": {
      "text/plain": [
       "2.142449731214544"
      ]
     },
     "execution_count": 271,
     "metadata": {},
     "output_type": "execute_result"
    }
   ],
   "source": [
    "timeParameter = (order['tripDurationReal']/60).mean() / (order['tripDurationFromGoogle']/60).mean()\n",
    "timeParameter"
   ]
  },
  {
   "cell_type": "code",
   "execution_count": 211,
   "metadata": {},
   "outputs": [],
   "source": [
    "order['foodPreparationTime'] = pd.to_datetime(order['取餐出發時間']) - pd.to_datetime(order['下單時間'])"
   ]
  },
  {
   "cell_type": "code",
   "execution_count": 212,
   "metadata": {},
   "outputs": [
    {
     "data": {
      "text/plain": [
       "Timedelta('0 days 00:19:12.092592')"
      ]
     },
     "execution_count": 212,
     "metadata": {},
     "output_type": "execute_result"
    }
   ],
   "source": [
    "order.loc[order['shared']==0]['foodPreparationTime'].mean()"
   ]
  },
  {
   "cell_type": "code",
   "execution_count": 213,
   "metadata": {},
   "outputs": [
    {
     "data": {
      "text/plain": [
       "Timedelta('0 days 00:24:21.577464')"
      ]
     },
     "execution_count": 213,
     "metadata": {},
     "output_type": "execute_result"
    }
   ],
   "source": [
    "order.loc[order['shared']==1]['foodPreparationTime'].mean()"
   ]
  },
  {
   "cell_type": "code",
   "execution_count": 243,
   "metadata": {},
   "outputs": [],
   "source": [
    "order.to_csv('Data/ProcessedNov.csv',index=False)"
   ]
  },
  {
   "cell_type": "markdown",
   "metadata": {},
   "source": [
    "## modelling"
   ]
  },
  {
   "cell_type": "code",
   "execution_count": 69,
   "metadata": {},
   "outputs": [],
   "source": [
    "order = pd.read_csv('Data/ProcessedNov.csv')"
   ]
  },
  {
   "cell_type": "code",
   "execution_count": 70,
   "metadata": {},
   "outputs": [
    {
     "data": {
      "text/plain": [
       "(194, 32)"
      ]
     },
     "execution_count": 70,
     "metadata": {},
     "output_type": "execute_result"
    }
   ],
   "source": [
    "order = order.loc[order['門店名稱'].isin(['PH64','PHD606'])]\n",
    "order.shape"
   ]
  },
  {
   "cell_type": "code",
   "execution_count": 71,
   "metadata": {},
   "outputs": [
    {
     "data": {
      "text/plain": [
       "(7, 32)"
      ]
     },
     "execution_count": 71,
     "metadata": {},
     "output_type": "execute_result"
    }
   ],
   "source": [
    "order.loc[order['Rider']=='3rdParty'].shape"
   ]
  },
  {
   "cell_type": "code",
   "execution_count": 72,
   "metadata": {},
   "outputs": [],
   "source": [
    "order['foodPreparationTime'] = pd.to_datetime(order['取餐出發時間']) - pd.to_datetime(order['下單時間'])"
   ]
  },
  {
   "cell_type": "code",
   "execution_count": 73,
   "metadata": {},
   "outputs": [
    {
     "data": {
      "text/plain": [
       "Timedelta('0 days 00:17:39.373493')"
      ]
     },
     "execution_count": 73,
     "metadata": {},
     "output_type": "execute_result"
    }
   ],
   "source": [
    "order.loc[order['shared']==0]['foodPreparationTime'].mean()"
   ]
  },
  {
   "cell_type": "code",
   "execution_count": 74,
   "metadata": {},
   "outputs": [
    {
     "data": {
      "text/plain": [
       "Timedelta('0 days 00:19:36.678571')"
      ]
     },
     "execution_count": 74,
     "metadata": {},
     "output_type": "execute_result"
    }
   ],
   "source": [
    "order.loc[order['shared']==1]['foodPreparationTime'].mean()"
   ]
  },
  {
   "cell_type": "code",
   "execution_count": 75,
   "metadata": {},
   "outputs": [
    {
     "data": {
      "text/plain": [
       "Ttest_indResult(statistic=-0.9840331209381342, pvalue=0.3263376141515504)"
      ]
     },
     "execution_count": 75,
     "metadata": {},
     "output_type": "execute_result"
    }
   ],
   "source": [
    "from scipy import stats\n",
    "stats.ttest_ind(order.loc[order['shared']==0]['foodPreparationTime'].dt.seconds,\n",
    "                order.loc[order['shared']==1]['foodPreparationTime'].dt.seconds)"
   ]
  },
  {
   "cell_type": "code",
   "execution_count": 76,
   "metadata": {},
   "outputs": [],
   "source": [
    "order = order[['orderTime', 'arrivalTime', 'foodPreparationTime','waitingTime', 'departureTime', 'tripDurationReal',\n",
    "       'DeliveryLatLon', 'storeCode', 'StoreLatLon',\n",
    "       'tripDurationFromGoogle', 'shared']]"
   ]
  },
  {
   "cell_type": "code",
   "execution_count": 77,
   "metadata": {},
   "outputs": [],
   "source": [
    "order['departureTime'] = pd.to_datetime(order['departureTime'])\n",
    "order['hour'] = order['departureTime'].dt.hour\n",
    "order['min'] = order['departureTime'].dt.minute\n",
    "order['min'] = order['min'].apply(lambda x: (int(x/5)+1)*5)"
   ]
  },
  {
   "cell_type": "code",
   "execution_count": 78,
   "metadata": {},
   "outputs": [],
   "source": [
    "order['timeWindow'] = pd.Timedelta('0 days 00:50:00') - order['foodPreparationTime']\n",
    "order['timeWindow'] = order['timeWindow'].dt.seconds\n"
   ]
  },
  {
   "cell_type": "code",
   "execution_count": 79,
   "metadata": {},
   "outputs": [],
   "source": [
    "order = order.loc[order['tripDurationReal']>=order['tripDurationFromGoogle']]"
   ]
  },
  {
   "cell_type": "code",
   "execution_count": 80,
   "metadata": {},
   "outputs": [
    {
     "data": {
      "text/plain": [
       "count     162.000000\n",
       "mean     1017.302469\n",
       "std       426.882736\n",
       "min       325.000000\n",
       "25%       719.000000\n",
       "50%       965.000000\n",
       "75%      1212.000000\n",
       "max      2378.000000\n",
       "Name: tripDurationReal, dtype: float64"
      ]
     },
     "execution_count": 80,
     "metadata": {},
     "output_type": "execute_result"
    }
   ],
   "source": [
    "order.tripDurationReal.describe()"
   ]
  },
  {
   "cell_type": "code",
   "execution_count": 81,
   "metadata": {},
   "outputs": [],
   "source": [
    "order['timeParameter'] = order['tripDurationReal']/order['tripDurationFromGoogle']\n",
    "timeParameter = order.groupby(['hour','min','shared']).agg({'timeParameter':'mean'}).reset_index()\n",
    "timeParameter = timeParameter.loc[timeParameter['shared']==0]\n",
    "del timeParameter['shared']\n",
    "del order['timeParameter']"
   ]
  },
  {
   "cell_type": "code",
   "execution_count": 82,
   "metadata": {},
   "outputs": [],
   "source": [
    "order = order.merge(timeParameter,on=['hour','min'])"
   ]
  },
  {
   "cell_type": "code",
   "execution_count": 83,
   "metadata": {},
   "outputs": [
    {
     "data": {
      "text/plain": [
       "hour             16.921053\n",
       "min              33.157895\n",
       "timeParameter     2.518449\n",
       "dtype: float64"
      ]
     },
     "execution_count": 83,
     "metadata": {},
     "output_type": "execute_result"
    }
   ],
   "source": [
    "timeParameter.mean()"
   ]
  },
  {
   "cell_type": "code",
   "execution_count": 84,
   "metadata": {},
   "outputs": [],
   "source": [
    "order.loc[order['timeWindow'] < order['tripDurationReal'],'timeWindow'] = \\\n",
    "order.loc[order['timeWindow'] < order['tripDurationReal'],'tripDurationReal']"
   ]
  },
  {
   "cell_type": "code",
   "execution_count": 85,
   "metadata": {},
   "outputs": [],
   "source": [
    "rider_df = pd.read_excel('../1. Sales Data/2-6Nov - Clock in record.xls')\n",
    "rider_df['Clock in.1'] = pd.to_datetime(rider_df['Clock in.1'])\n",
    "rider_df['Date'] = rider_df['Clock in.1'].dt.day"
   ]
  },
  {
   "cell_type": "code",
   "execution_count": 86,
   "metadata": {},
   "outputs": [],
   "source": [
    "PHDLatLon = order.loc[order['storeCode']=='PHD606']['StoreLatLon'].values[0]\n",
    "PHLatLon = order.loc[order['storeCode']=='PH64']['StoreLatLon'].values[0]\n"
   ]
  },
  {
   "cell_type": "code",
   "execution_count": 87,
   "metadata": {},
   "outputs": [],
   "source": [
    "order['tripTime'] = 0\n",
    "order['rider'] = 0"
   ]
  },
  {
   "cell_type": "code",
   "execution_count": 88,
   "metadata": {},
   "outputs": [],
   "source": [
    "PHD_output = pd.DataFrame()\n",
    "PH_output = pd.DataFrame()"
   ]
  },
  {
   "cell_type": "code",
   "execution_count": 89,
   "metadata": {},
   "outputs": [
    {
     "data": {
      "text/plain": [
       "count     157.000000\n",
       "mean     1018.751592\n",
       "std       426.420096\n",
       "min       325.000000\n",
       "25%       728.000000\n",
       "50%       966.000000\n",
       "75%      1209.000000\n",
       "max      2378.000000\n",
       "Name: tripDurationReal, dtype: float64"
      ]
     },
     "execution_count": 89,
     "metadata": {},
     "output_type": "execute_result"
    }
   ],
   "source": [
    "order.tripDurationReal.describe()"
   ]
  },
  {
   "cell_type": "code",
   "execution_count": 90,
   "metadata": {},
   "outputs": [
    {
     "data": {
      "text/html": [
       "<div>\n",
       "<style scoped>\n",
       "    .dataframe tbody tr th:only-of-type {\n",
       "        vertical-align: middle;\n",
       "    }\n",
       "\n",
       "    .dataframe tbody tr th {\n",
       "        vertical-align: top;\n",
       "    }\n",
       "\n",
       "    .dataframe thead th {\n",
       "        text-align: right;\n",
       "    }\n",
       "</style>\n",
       "<table border=\"1\" class=\"dataframe\">\n",
       "  <thead>\n",
       "    <tr style=\"text-align: right;\">\n",
       "      <th></th>\n",
       "      <th>orderTime</th>\n",
       "      <th>arrivalTime</th>\n",
       "      <th>foodPreparationTime</th>\n",
       "      <th>waitingTime</th>\n",
       "      <th>departureTime</th>\n",
       "      <th>tripDurationReal</th>\n",
       "      <th>DeliveryLatLon</th>\n",
       "      <th>storeCode</th>\n",
       "      <th>StoreLatLon</th>\n",
       "      <th>tripDurationFromGoogle</th>\n",
       "      <th>shared</th>\n",
       "      <th>hour</th>\n",
       "      <th>min</th>\n",
       "      <th>timeWindow</th>\n",
       "      <th>timeParameter</th>\n",
       "      <th>tripTime</th>\n",
       "      <th>rider</th>\n",
       "    </tr>\n",
       "  </thead>\n",
       "  <tbody>\n",
       "    <tr>\n",
       "      <th>0</th>\n",
       "      <td>2020-11-02 11:22:00</td>\n",
       "      <td>2020-11-02 11:44:59</td>\n",
       "      <td>00:12:54</td>\n",
       "      <td>0 days 00:22:59.000000000</td>\n",
       "      <td>2020-11-02 11:34:54</td>\n",
       "      <td>605</td>\n",
       "      <td>22.2847577,114.1326485</td>\n",
       "      <td>PH64</td>\n",
       "      <td>22.284392699999998,114.141973</td>\n",
       "      <td>487</td>\n",
       "      <td>0</td>\n",
       "      <td>11</td>\n",
       "      <td>35</td>\n",
       "      <td>2226</td>\n",
       "      <td>1.864117</td>\n",
       "      <td>0</td>\n",
       "      <td>0</td>\n",
       "    </tr>\n",
       "    <tr>\n",
       "      <th>1</th>\n",
       "      <td>2020-11-06 11:26:00</td>\n",
       "      <td>2020-11-06 11:49:43</td>\n",
       "      <td>00:07:31</td>\n",
       "      <td>0 days 00:23:43.000000000</td>\n",
       "      <td>2020-11-06 11:33:31</td>\n",
       "      <td>972</td>\n",
       "      <td>22.2863114,114.1452516</td>\n",
       "      <td>PH64</td>\n",
       "      <td>22.284392699999998,114.141973</td>\n",
       "      <td>391</td>\n",
       "      <td>0</td>\n",
       "      <td>11</td>\n",
       "      <td>35</td>\n",
       "      <td>2549</td>\n",
       "      <td>1.864117</td>\n",
       "      <td>0</td>\n",
       "      <td>0</td>\n",
       "    </tr>\n",
       "    <tr>\n",
       "      <th>2</th>\n",
       "      <td>2020-11-02 12:15:00</td>\n",
       "      <td>2020-11-02 12:46:43</td>\n",
       "      <td>00:17:51</td>\n",
       "      <td>0 days 00:31:43.000000000</td>\n",
       "      <td>2020-11-02 12:32:51</td>\n",
       "      <td>832</td>\n",
       "      <td>22.2847577,114.1326485</td>\n",
       "      <td>PH64</td>\n",
       "      <td>22.284392699999998,114.141973</td>\n",
       "      <td>487</td>\n",
       "      <td>0</td>\n",
       "      <td>12</td>\n",
       "      <td>35</td>\n",
       "      <td>1929</td>\n",
       "      <td>1.584512</td>\n",
       "      <td>0</td>\n",
       "      <td>0</td>\n",
       "    </tr>\n",
       "    <tr>\n",
       "      <th>3</th>\n",
       "      <td>2020-11-06 11:52:00</td>\n",
       "      <td>2020-11-06 12:48:47</td>\n",
       "      <td>00:40:43</td>\n",
       "      <td>0 days 00:56:47.000000000</td>\n",
       "      <td>2020-11-06 12:32:43</td>\n",
       "      <td>964</td>\n",
       "      <td>22.2746457,114.1631178</td>\n",
       "      <td>PHD606</td>\n",
       "      <td>22.284361999999998,114.13979259999999</td>\n",
       "      <td>660</td>\n",
       "      <td>0</td>\n",
       "      <td>12</td>\n",
       "      <td>35</td>\n",
       "      <td>964</td>\n",
       "      <td>1.584512</td>\n",
       "      <td>0</td>\n",
       "      <td>0</td>\n",
       "    </tr>\n",
       "    <tr>\n",
       "      <th>4</th>\n",
       "      <td>2020-11-02 12:24:00</td>\n",
       "      <td>2020-11-02 12:50:37</td>\n",
       "      <td>00:20:01</td>\n",
       "      <td>0 days 00:26:37.000000000</td>\n",
       "      <td>2020-11-02 12:44:01</td>\n",
       "      <td>396</td>\n",
       "      <td>22.2850494,114.1377722</td>\n",
       "      <td>PH64</td>\n",
       "      <td>22.284392699999998,114.141973</td>\n",
       "      <td>214</td>\n",
       "      <td>0</td>\n",
       "      <td>12</td>\n",
       "      <td>45</td>\n",
       "      <td>1799</td>\n",
       "      <td>2.473491</td>\n",
       "      <td>0</td>\n",
       "      <td>0</td>\n",
       "    </tr>\n",
       "  </tbody>\n",
       "</table>\n",
       "</div>"
      ],
      "text/plain": [
       "             orderTime          arrivalTime foodPreparationTime  \\\n",
       "0  2020-11-02 11:22:00  2020-11-02 11:44:59            00:12:54   \n",
       "1  2020-11-06 11:26:00  2020-11-06 11:49:43            00:07:31   \n",
       "2  2020-11-02 12:15:00  2020-11-02 12:46:43            00:17:51   \n",
       "3  2020-11-06 11:52:00  2020-11-06 12:48:47            00:40:43   \n",
       "4  2020-11-02 12:24:00  2020-11-02 12:50:37            00:20:01   \n",
       "\n",
       "                 waitingTime       departureTime  tripDurationReal  \\\n",
       "0  0 days 00:22:59.000000000 2020-11-02 11:34:54               605   \n",
       "1  0 days 00:23:43.000000000 2020-11-06 11:33:31               972   \n",
       "2  0 days 00:31:43.000000000 2020-11-02 12:32:51               832   \n",
       "3  0 days 00:56:47.000000000 2020-11-06 12:32:43               964   \n",
       "4  0 days 00:26:37.000000000 2020-11-02 12:44:01               396   \n",
       "\n",
       "           DeliveryLatLon storeCode                            StoreLatLon  \\\n",
       "0  22.2847577,114.1326485      PH64          22.284392699999998,114.141973   \n",
       "1  22.2863114,114.1452516      PH64          22.284392699999998,114.141973   \n",
       "2  22.2847577,114.1326485      PH64          22.284392699999998,114.141973   \n",
       "3  22.2746457,114.1631178    PHD606  22.284361999999998,114.13979259999999   \n",
       "4  22.2850494,114.1377722      PH64          22.284392699999998,114.141973   \n",
       "\n",
       "   tripDurationFromGoogle  shared  hour  min  timeWindow  timeParameter  \\\n",
       "0                     487       0    11   35        2226       1.864117   \n",
       "1                     391       0    11   35        2549       1.864117   \n",
       "2                     487       0    12   35        1929       1.584512   \n",
       "3                     660       0    12   35         964       1.584512   \n",
       "4                     214       0    12   45        1799       2.473491   \n",
       "\n",
       "   tripTime  rider  \n",
       "0         0      0  \n",
       "1         0      0  \n",
       "2         0      0  \n",
       "3         0      0  \n",
       "4         0      0  "
      ]
     },
     "execution_count": 90,
     "metadata": {},
     "output_type": "execute_result"
    }
   ],
   "source": [
    "order.head()"
   ]
  },
  {
   "cell_type": "code",
   "execution_count": 91,
   "metadata": {},
   "outputs": [],
   "source": [
    "order['tripTime'] = 0\n",
    "order['rider'] = 0\n",
    "order['delayed'] = 0\n",
    "order['departureTimeSimulation'] = pd.to_datetime(order.orderTime).dt.date.astype(str)+' '+order['hour'].apply(lambda x:str(x).zfill(2))+\\\n",
    "                                        ':'+order['min'].apply(lambda x:str(x).zfill(2))+':00'\n",
    "PHD_output = pd.DataFrame()\n",
    "PH_output = pd.DataFrame()"
   ]
  },
  {
   "cell_type": "code",
   "execution_count": 92,
   "metadata": {},
   "outputs": [],
   "source": [
    "for day in range(2,7):\n",
    "    # reset riders\n",
    "    riders = rider_df.loc[(rider_df['Rider Store Code'].isin([64,606]))&(rider_df['Date']==day)]['Rider No.'].unique()\n",
    "    riderStatus = {}\n",
    "    for i in (riders):\n",
    "        riderStatus[i] = 0\n",
    "    for hour in range(11,24):\n",
    "        for minute in np.arange(0,60,5):\n",
    "            # update rider status at current time\n",
    "            for key in riderStatus.keys():\n",
    "                if riderStatus[key]!= 0:\n",
    "                    if riderStatus[key] <= pd.to_datetime('2020-11-0%s %s:%s:00'%(day,hour,str(minute).zfill(2))):\n",
    "                        riderStatus[key] = 0\n",
    "\n",
    "            candidate = order.loc[(pd.to_datetime(order['orderTime']).dt.day==day)&(order['hour']==hour)&(order['min']==minute)]\n",
    "            if len(candidate) > 0:\n",
    "                PHD = candidate.loc[candidate['storeCode']=='PHD606']\n",
    "                PH = candidate.loc[candidate['storeCode']=='PH64']\n",
    "                timeParameter = order.loc[(order['hour']==hour)&(order['min']==minute)]['timeParameter'].unique()[0]\n",
    "\n",
    "                if len(PHD) > 0:\n",
    "                    if len(PHD) >1:\n",
    "\n",
    "                        adderess = [PHDLatLon] + PHD['DeliveryLatLon'].values.tolist()\n",
    "                        distance_matrix = GoogleDistanceMatrix.get_distance_matrix(API.key, adderess)\n",
    "                        time_window_point = [int(i) for i in PHD['timeWindow'].values]\n",
    "                        zeros = [int(i) for i in np.zeros(len(PHD))]\n",
    "                        time_window_matrix = [(int(0),int(0))]+list(zip(zeros,time_window_point))\n",
    "                        \n",
    "            #             if no rider available, assign orders to the next slot\n",
    "                        if len([key for key in riderStatus.keys() if riderStatus[key] == 0]) > 0:\n",
    "                            total_rider = len([key for key in riderStatus.keys() if riderStatus[key] == 0])\n",
    "                            \n",
    "                            \n",
    "                            vehicle_route,vehicle_back_distance,vehicle_deliver_distance,vehicle = \\\n",
    "                            GoogleVRP.VRPTW(distance_matrix,time_window_matrix,1,total_rider)\n",
    "                            \n",
    "                            selectRider = random.sample([key for key in riderStatus.keys() \n",
    "                                                         if riderStatus[key] == 0], vehicle)\n",
    "                            \n",
    "                            departure_time = pd.to_datetime('2020-11-0%s %s:%s:00'%(day,hour,str(minute).zfill(2)))\n",
    "                            \n",
    "                            for ind,rider in enumerate(selectRider):\n",
    "                                back_time = departure_time + pd.Timedelta(vehicle_back_distance[ind], 'seconds')*timeParameter\n",
    "                                riderStatus[rider] = back_time\n",
    "                            \n",
    "                            node_deliver_sequnce = []\n",
    "                            node_deliver_time = []\n",
    "                            for vehicle_no in vehicle_route.keys():\n",
    "                                time = 0\n",
    "\n",
    "                                for ind,node in enumerate(vehicle_route[vehicle_no]):\n",
    "                                    if node == 0:\n",
    "                                        next\n",
    "                                    else:\n",
    "                                        time = distance_matrix[vehicle_route[vehicle_no][ind]-1][node]*2.2 + time\n",
    "                                        node_deliver_time += [time]\n",
    "                                        node_deliver_sequnce += [node]\n",
    "\n",
    "                            node_deliver_time_dict = dict(zip(node_deliver_sequnce,node_deliver_time))\n",
    "                            node_deliver_time_dict = {k : node_deliver_time_dict[k] for k in sorted(node_deliver_time_dict)}\n",
    "                            node_deliver_time = node_deliver_time_dict.values()\n",
    "                            \n",
    "                            PHD['tripTime'] = node_deliver_time\n",
    "                            # if only one select rider, then length does not match\n",
    "                            if len(selectRider) > 1:\n",
    "                                PHD['rider'] = selectRider\n",
    "                            else:\n",
    "                                PHD['rider'] = selectRider[0]\n",
    "\n",
    "                            PHD_output = pd.concat([PHD_output,PHD])\n",
    "                        else:\n",
    "                            order.loc[(order['hour']==hour)&(order['min']==minute)]['dalay'] = 1\n",
    "                            if minute == 55:\n",
    "                                order.loc[(order['hour']==hour)&(order['min']==minute)]['hour'] = hour+1\n",
    "                                order.loc[(order['hour']==hour)&(order['min']==minute)]['min'] = 0\n",
    "                            else:\n",
    "                                order.loc[(order['hour']==hour)&(order['min']==minute)]['min'] = minute + 5\n",
    "\n",
    "                    # only 1 order\n",
    "                    elif len(PHD) == 1:\n",
    "                        PHD['departureTimeSimulation'] = PHD['departureTime']\n",
    "                        tripDurationReal = PHD['tripDurationReal'].values[0]\n",
    "                        departure_time = PHD['departureTime'].values[0]\n",
    "                        back_time = pd.to_datetime(departure_time) + pd.Timedelta(tripDurationReal*2, 'seconds')\n",
    "                        if len([key for key in riderStatus.keys() if riderStatus[key] == 0]) > 0:\n",
    "                            selectRider = random.sample([key for key in riderStatus.keys() if riderStatus[key] == 0], 1)[0]\n",
    "                        riderStatus[selectRider] = back_time\n",
    "                        PHD['tripTime'] = tripDurationReal\n",
    "                        PHD['rider'] = selectRider\n",
    "                        PHD_output = pd.concat([PHD_output,PHD])\n",
    "                \n",
    "                if len(PH) > 0:\n",
    "                    if len(PH) >1:\n",
    "\n",
    "                        adderess = [PHLatLon] + PH['DeliveryLatLon'].values.tolist()\n",
    "                        distance_matrix = GoogleDistanceMatrix.get_distance_matrix(API.key, adderess)\n",
    "                        time_window_point = [int(i) for i in PH['timeWindow'].values]\n",
    "                        zeros = [int(i) for i in np.zeros(len(PH))]\n",
    "                        time_window_matrix = [(int(0),int(0))]+list(zip(zeros,time_window_point))\n",
    "                        \n",
    "            #             if no rider available, assign orders to the next slot\n",
    "                        if len([key for key in riderStatus.keys() if riderStatus[key] == 0]) > 0:\n",
    "                            total_rider = len([key for key in riderStatus.keys() if riderStatus[key] == 0])\n",
    "                            \n",
    "                            \n",
    "                            vehicle_route,vehicle_back_distance,vehicle_deliver_distance,vehicle = \\\n",
    "                            GoogleVRP.VRPTW(distance_matrix,time_window_matrix,1,total_rider)\n",
    "                            \n",
    "                            selectRider = random.sample([key for key in riderStatus.keys() \n",
    "                                                         if riderStatus[key] == 0], vehicle)\n",
    "                            \n",
    "                            departure_time = pd.to_datetime('2020-11-0%s %s:%s:00'%(day,hour,str(minute).zfill(2)))\n",
    "                            \n",
    "                            for ind,rider in enumerate(selectRider):\n",
    "                                back_time = departure_time + pd.Timedelta(vehicle_back_distance[ind], 'seconds')*timeParameter\n",
    "                                riderStatus[rider] = back_time\n",
    "                            \n",
    "                            node_deliver_sequnce = []\n",
    "                            node_deliver_time = []\n",
    "                            for vehicle_no in vehicle_route.keys():\n",
    "                                time = 0\n",
    "\n",
    "                                for ind,node in enumerate(vehicle_route[vehicle_no]):\n",
    "                                    if node == 0:\n",
    "                                        next\n",
    "                                    else:\n",
    "                                        time = distance_matrix[vehicle_route[vehicle_no][ind]-1][node]*2.2 + time\n",
    "                                        node_deliver_time += [time]\n",
    "                                        node_deliver_sequnce += [node]\n",
    "\n",
    "                            node_deliver_time_dict = dict(zip(node_deliver_sequnce,node_deliver_time))\n",
    "                            node_deliver_time_dict = {k : node_deliver_time_dict[k] for k in sorted(node_deliver_time_dict)}\n",
    "                            node_deliver_time = node_deliver_time_dict.values()\n",
    "                            \n",
    "                            PH['tripTime'] = node_deliver_time\n",
    "                            if len(selectRider) > 1:\n",
    "                                PH['rider'] = selectRider\n",
    "                            else:\n",
    "                                PH['rider'] = selectRider[0]\n",
    "\n",
    "                            PH_output = pd.concat([PH_output,PH])\n",
    "                        else:\n",
    "                            order.loc[(order['hour']==hour)&(order['min']==minute)]['dalay'] = 1\n",
    "                            if minute == 55:\n",
    "                                order.loc[(order['hour']==hour)&(order['min']==minute)]['hour'] = hour+1\n",
    "                                order.loc[(order['hour']==hour)&(order['min']==minute)]['min'] = 0\n",
    "                            else:\n",
    "                                order.loc[(order['hour']==hour)&(order['min']==minute)]['min'] = minute + 5\n",
    "\n",
    "                    # only 1 order\n",
    "                    elif len(PH) == 1:\n",
    "                        PH['departureTimeSimulation'] = PH['departureTime']\n",
    "                        tripDurationReal = PH['tripDurationReal'].values[0]\n",
    "                        departure_time = PH['departureTime'].values[0]\n",
    "                        back_time = pd.to_datetime(departure_time) + pd.Timedelta(tripDurationReal*2, 'seconds')\n",
    "                        if len([key for key in riderStatus.keys() if riderStatus[key] == 0]) > 0:\n",
    "                            selectRider = random.sample([key for key in riderStatus.keys() if riderStatus[key] == 0], 1)[0]\n",
    "                        riderStatus[selectRider] = back_time\n",
    "                        PH['tripTime'] = tripDurationReal\n",
    "                        PH['rider'] = selectRider\n",
    "                        PH_output = pd.concat([PH_output,PH])\n",
    "\n",
    "\n",
    "\n",
    "                "
   ]
  },
  {
   "cell_type": "code",
   "execution_count": 93,
   "metadata": {},
   "outputs": [],
   "source": [
    "PH_output['arrivalTimeSimulation'] = pd.to_datetime(PH_output['departureTimeSimulation']) +\\\n",
    "                                        pd.to_timedelta(PH_output['tripTime'],'seconds')\n",
    "PH_output['waitingTimeSimulation'] = PH_output['arrivalTimeSimulation'] - pd.to_datetime(PH_output['orderTime'])\n",
    "PH_output['waitingTimeReal'] = pd.to_datetime(PH_output['arrivalTime']) - pd.to_datetime(PH_output['orderTime'])"
   ]
  },
  {
   "cell_type": "code",
   "execution_count": 94,
   "metadata": {},
   "outputs": [
    {
     "data": {
      "text/plain": [
       "count                        67\n",
       "mean     0 days 00:37:18.376119\n",
       "std      0 days 00:12:54.671819\n",
       "min             0 days 00:17:57\n",
       "25%      0 days 00:29:50.500000\n",
       "50%             0 days 00:34:12\n",
       "75%      0 days 00:43:41.900000\n",
       "max             0 days 01:23:19\n",
       "Name: waitingTimeSimulation, dtype: object"
      ]
     },
     "execution_count": 94,
     "metadata": {},
     "output_type": "execute_result"
    }
   ],
   "source": [
    "PH_output['waitingTimeSimulation'].describe()"
   ]
  },
  {
   "cell_type": "code",
   "execution_count": 95,
   "metadata": {},
   "outputs": [
    {
     "data": {
      "text/plain": [
       "Timedelta('0 days 00:37:18.376119')"
      ]
     },
     "execution_count": 95,
     "metadata": {},
     "output_type": "execute_result"
    }
   ],
   "source": [
    "PH_output['waitingTimeSimulation'].mean()"
   ]
  },
  {
   "cell_type": "code",
   "execution_count": 96,
   "metadata": {},
   "outputs": [
    {
     "data": {
      "text/plain": [
       "Timedelta('0 days 00:35:07.313432')"
      ]
     },
     "execution_count": 96,
     "metadata": {},
     "output_type": "execute_result"
    }
   ],
   "source": [
    "PH_output['waitingTimeReal'].mean()"
   ]
  },
  {
   "cell_type": "code",
   "execution_count": 97,
   "metadata": {},
   "outputs": [
    {
     "data": {
      "text/plain": [
       "<AxesSubplot:>"
      ]
     },
     "execution_count": 97,
     "metadata": {},
     "output_type": "execute_result"
    },
    {
     "data": {
      "image/png": "[encoded data removed]",
      "text/plain": [
       "<Figure size 432x288 with 1 Axes>"
      ]
     },
     "metadata": {
      "needs_background": "light"
     },
     "output_type": "display_data"
    }
   ],
   "source": [
    "PH_output['waitingTimeSimulation'].dt.seconds.hist()"
   ]
  },
  {
   "cell_type": "code",
   "execution_count": 98,
   "metadata": {},
   "outputs": [
    {
     "data": {
      "text/plain": [
       "<AxesSubplot:>"
      ]
     },
     "execution_count": 98,
     "metadata": {},
     "output_type": "execute_result"
    },
    {
     "data": {
      "image/png": "[encoded data removed]",
      "text/plain": [
       "<Figure size 432x288 with 1 Axes>"
      ]
     },
     "metadata": {
      "needs_background": "light"
     },
     "output_type": "display_data"
    }
   ],
   "source": [
    "PH_output['waitingTimeReal'].dt.seconds.hist()"
   ]
  },
  {
   "cell_type": "code",
   "execution_count": 99,
   "metadata": {},
   "outputs": [],
   "source": [
    "\n",
    "PHD_output['arrivalTimeSimulation'] = pd.to_datetime(PHD_output['departureTimeSimulation']) +\\\n",
    "                                        pd.to_timedelta(PHD_output['tripTime'],'seconds')\n",
    "PHD_output['waitingTimeSimulation'] = PHD_output['arrivalTimeSimulation'] - pd.to_datetime(PHD_output['orderTime'])\n",
    "PHD_output['waitingTimeReal'] = pd.to_datetime(PHD_output['arrivalTime']) - pd.to_datetime(PHD_output['orderTime'])"
   ]
  },
  {
   "cell_type": "code",
   "execution_count": 100,
   "metadata": {},
   "outputs": [
    {
     "data": {
      "text/plain": [
       "Timedelta('0 days 00:33:45.391891')"
      ]
     },
     "execution_count": 100,
     "metadata": {},
     "output_type": "execute_result"
    }
   ],
   "source": [
    "PHD_output['waitingTimeSimulation'].mean()"
   ]
  },
  {
   "cell_type": "code",
   "execution_count": 101,
   "metadata": {},
   "outputs": [
    {
     "data": {
      "text/plain": [
       "Timedelta('0 days 00:31:02.013513')"
      ]
     },
     "execution_count": 101,
     "metadata": {},
     "output_type": "execute_result"
    }
   ],
   "source": [
    "PHD_output['waitingTimeReal'].mean()"
   ]
  },
  {
   "cell_type": "code",
   "execution_count": 68,
   "metadata": {},
   "outputs": [],
   "source": [
    "pd.concat([PHD_output,PH_output]).to_csv('Output/order11065min1vehAllDayStatic.csv',index=False)"
   ]
  },
  {
   "cell_type": "code",
   "execution_count": null,
   "metadata": {},
   "outputs": [],
   "source": []
  }
 ],
 "metadata": {
  "kernelspec": {
   "display_name": "Python 3",
   "language": "python",
   "name": "python3"
  },
  "language_info": {
   "codemirror_mode": {
    "name": "ipython",
    "version": 3
   },
   "file_extension": ".py",
   "mimetype": "text/x-python",
   "name": "python",
   "nbconvert_exporter": "python",
   "pygments_lexer": "ipython3",
   "version": "3.7.6"
  }
 },
 "nbformat": 4,
 "nbformat_minor": 4
}
