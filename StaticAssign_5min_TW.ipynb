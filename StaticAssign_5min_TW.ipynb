{
 "cells": [
  {
   "cell_type": "code",
   "execution_count": 1,
   "metadata": {},
   "outputs": [],
   "source": [
    "import gurobipy as gp\n",
    "from gurobipy import GRB\n",
    "import random\n",
    "import pandas as pd\n",
    "import geopandas as gpd\n",
    "from shapely.geometry import Point, LineString\n",
    "import numpy as np\n",
    "import warnings\n",
    "from tqdm import tqdm_notebook as tqdm\n",
    "import requests\n",
    "import json\n",
    "import API\n",
    "import matplotlib.pyplot as plt\n",
    "import GoogleDistanceMatrix\n",
    "import GoogleVRP\n",
    "import routing\n",
    "pd.set_option('display.max_columns',None)\n",
    "warnings.filterwarnings('ignore')"
   ]
  },
  {
   "cell_type": "markdown",
   "metadata": {},
   "source": [
    "# Current shared"
   ]
  },
  {
   "cell_type": "code",
   "execution_count": 103,
   "metadata": {},
   "outputs": [],
   "source": [
    "order = pd.read_excel('../1. Sales Data/DMS order_2-6Nov2020 (Only store with DMS available)+Transportation.xlsx')\n",
    "order = order.loc[order['Instant Order']==True]\n",
    "store = pd.read_csv('Data/StoreLocation.csv')"
   ]
  },
  {
   "cell_type": "code",
   "execution_count": 104,
   "metadata": {},
   "outputs": [],
   "source": [
    "order['orderTime'] = pd.to_datetime(order['下單時間'])\n",
    "order['arrivalTime'] = pd.to_datetime(order['訂單送達時間'])\n",
    "order['departureTime'] = pd.to_datetime(order['取餐出發時間'])\n",
    "\n",
    "order['waitingTime'] = order['arrivalTime'] - order['orderTime']\n",
    "order['tripDurationReal'] = pd.to_datetime(order['訂單送達時間']) - pd.to_datetime(order['departureTime'])\n",
    "order['tripDurationReal'] = order['tripDurationReal'].dt.seconds"
   ]
  },
  {
   "cell_type": "code",
   "execution_count": 105,
   "metadata": {},
   "outputs": [
    {
     "data": {
      "text/plain": [
       "(505, 20)"
      ]
     },
     "execution_count": 105,
     "metadata": {},
     "output_type": "execute_result"
    }
   ],
   "source": [
    "order.shape"
   ]
  },
  {
   "cell_type": "code",
   "execution_count": 106,
   "metadata": {},
   "outputs": [
    {
     "data": {
      "text/plain": [
       "count                       505\n",
       "mean     0 days 00:36:08.730693\n",
       "std      0 days 00:12:27.626481\n",
       "min             0 days 00:16:02\n",
       "25%             0 days 00:27:42\n",
       "50%             0 days 00:33:46\n",
       "75%             0 days 00:41:05\n",
       "max             0 days 01:33:23\n",
       "Name: waitingTime, dtype: object"
      ]
     },
     "execution_count": 106,
     "metadata": {},
     "output_type": "execute_result"
    }
   ],
   "source": [
    "order['waitingTime'].describe()"
   ]
  },
  {
   "cell_type": "code",
   "execution_count": 107,
   "metadata": {},
   "outputs": [],
   "source": [
    "order = order.sort_values(by=['取餐出發時間','Rider'])\n",
    "order['last取餐出發時間'] = order['取餐出發時間'].shift(1)\n",
    "order['lastRider'] = order['Rider'].shift(1)\n",
    "order['pre取餐出發時間'] = order['取餐出發時間'].shift(-1)\n",
    "order['preRider'] = order['Rider'].shift(-1)"
   ]
  },
  {
   "cell_type": "code",
   "execution_count": 108,
   "metadata": {},
   "outputs": [],
   "source": [
    "\n",
    "shared = order.loc[((order['last取餐出發時間']==order['取餐出發時間'])&(order['lastRider']==order['Rider']))|\n",
    "                   ((order['pre取餐出發時間']==order['取餐出發時間'])&(order['preRider']==order['Rider']))]\n",
    "single = order.loc[((order['last取餐出發時間']!=order['取餐出發時間'])|(order['lastRider']!=order['Rider']))|\n",
    "                   ((order['pre取餐出發時間']!=order['取餐出發時間'])|(order['preRider']!=order['Rider']))]"
   ]
  },
  {
   "cell_type": "code",
   "execution_count": 109,
   "metadata": {},
   "outputs": [
    {
     "data": {
      "text/plain": [
       "(505, 24)"
      ]
     },
     "execution_count": 109,
     "metadata": {},
     "output_type": "execute_result"
    }
   ],
   "source": [
    "order.shape"
   ]
  },
  {
   "cell_type": "code",
   "execution_count": 110,
   "metadata": {},
   "outputs": [
    {
     "data": {
      "text/plain": [
       "(140, 24)"
      ]
     },
     "execution_count": 110,
     "metadata": {},
     "output_type": "execute_result"
    }
   ],
   "source": [
    "shared.shape"
   ]
  },
  {
   "cell_type": "code",
   "execution_count": 114,
   "metadata": {},
   "outputs": [
    {
     "data": {
      "text/plain": [
       "(13, 24)"
      ]
     },
     "execution_count": 114,
     "metadata": {},
     "output_type": "execute_result"
    }
   ],
   "source": [
    "order.loc[order['Rider']=='3rdParty'].shape"
   ]
  },
  {
   "cell_type": "code",
   "execution_count": 240,
   "metadata": {},
   "outputs": [
    {
     "data": {
      "text/plain": [
       "count                       138\n",
       "mean     0 days 00:42:49.384057\n",
       "std      0 days 00:14:43.388014\n",
       "min             0 days 00:20:14\n",
       "25%      0 days 00:33:24.250000\n",
       "50%      0 days 00:39:02.500000\n",
       "75%      0 days 00:47:22.500000\n",
       "max             0 days 01:33:23\n",
       "Name: waitingTime, dtype: object"
      ]
     },
     "execution_count": 240,
     "metadata": {},
     "output_type": "execute_result"
    }
   ],
   "source": [
    "shared['waitingTime'].describe()"
   ]
  },
  {
   "cell_type": "code",
   "execution_count": 241,
   "metadata": {},
   "outputs": [
    {
     "data": {
      "text/plain": [
       "count                       499\n",
       "mean     0 days 00:36:01.466933\n",
       "std      0 days 00:12:18.852885\n",
       "min             0 days 00:16:02\n",
       "25%      0 days 00:27:39.500000\n",
       "50%             0 days 00:33:43\n",
       "75%             0 days 00:40:49\n",
       "max             0 days 01:33:23\n",
       "Name: waitingTime, dtype: object"
      ]
     },
     "execution_count": 241,
     "metadata": {},
     "output_type": "execute_result"
    }
   ],
   "source": [
    "single['waitingTime'].describe()"
   ]
  },
  {
   "cell_type": "markdown",
   "metadata": {},
   "source": [
    "## data preprocessing"
   ]
  },
  {
   "cell_type": "code",
   "execution_count": null,
   "metadata": {},
   "outputs": [],
   "source": [
    "def get_lat_lon(x):\n",
    "    location = x['配送地址']\n",
    "    url = 'https://maps.googleapis.com/maps/api/geocode/json?address=香港'+location+'&key='+API.key\n",
    "    data = requests.get(url)\n",
    "    text = json.loads(data.text)\n",
    "    if text['results'] == []:\n",
    "        return('missing')\n",
    "    lat = str(text['results'][0]['geometry']['location']['lat'])\n",
    "    lng = str(text['results'][0]['geometry']['location']['lng'])\n",
    "    return(lat+','+lng)"
   ]
  },
  {
   "cell_type": "code",
   "execution_count": null,
   "metadata": {},
   "outputs": [],
   "source": [
    "order['DeliveryLatLon'] = order.apply(get_lat_lon,axis=1)"
   ]
  },
  {
   "cell_type": "code",
   "execution_count": 4,
   "metadata": {},
   "outputs": [],
   "source": [
    "def tripDurationFromGoogle(x):\n",
    "    StoreLatLon,DeliveryLatLon = x['StoreLatLon'],x['DeliveryLatLon']\n",
    "    url = 'https://maps.googleapis.com/maps/api/directions/json?origin='+StoreLatLon+\\\n",
    "    '&destination='+DeliveryLatLon+'&mode=driving&key='+API.key\n",
    "    data = requests.get(url)\n",
    "    text = json.loads(data.text)\n",
    "    if text['routes'] == []:\n",
    "        return 'missing'\n",
    "         \n",
    "    else:\n",
    "        duration = text['routes'][0]['legs'][0]['duration']['value']\n",
    "        return duration"
   ]
  },
  {
   "cell_type": "code",
   "execution_count": null,
   "metadata": {},
   "outputs": [],
   "source": [
    "order = order[['日期', '門店名稱', '配送地址', '下單時間', '指派成功時間', '騎手接單時間', '到店取餐時間', '取餐出發時間',\n",
    "       '訂單送達時間', '預送達時間', 'Banner', 'Instant Order', '收貨地址坐標', 'Rider',\n",
    "       'Transportation', 'orderTime', 'arrivalTime', 'waitingTime',\n",
    "       'last取餐出發時間', 'lastRider', 'departureTime', 'tripDurationReal',\n",
    "       'DeliveryLatLon']]"
   ]
  },
  {
   "cell_type": "code",
   "execution_count": 85,
   "metadata": {},
   "outputs": [],
   "source": [
    "order = order.merge(store, how='left',left_on='門店名稱', right_on='storeCode')\n",
    "order['StoreLatLon'] = order['lat'].astype(str)+','+order['lon'].astype(str)"
   ]
  },
  {
   "cell_type": "code",
   "execution_count": 131,
   "metadata": {},
   "outputs": [],
   "source": [
    "order['tripDurationFromGoogle'] = order.apply(lambda x:tripDurationFromGoogle(x),axis=1)"
   ]
  },
  {
   "cell_type": "code",
   "execution_count": 150,
   "metadata": {},
   "outputs": [],
   "source": [
    "order = order.loc[order['tripDurationFromGoogle']!='missing']\n",
    "order['tripDurationFromGoogle'] = order['tripDurationFromGoogle'].astype(int)"
   ]
  },
  {
   "cell_type": "code",
   "execution_count": 242,
   "metadata": {},
   "outputs": [],
   "source": [
    "order['shared'] = 0\n",
    "order.loc[((order['last取餐出發時間']==order['取餐出發時間'])&(order['lastRider']==order['Rider']))|\n",
    "                   ((order['pre取餐出發時間']==order['取餐出發時間'])&(order['preRider']==order['Rider'])),'shared'] = 1"
   ]
  },
  {
   "cell_type": "code",
   "execution_count": 269,
   "metadata": {},
   "outputs": [
    {
     "data": {
      "text/plain": [
       "7.692191780821918"
      ]
     },
     "execution_count": 269,
     "metadata": {},
     "output_type": "execute_result"
    }
   ],
   "source": [
    "order.loc[order['shared']==0]['tripDurationFromGoogle'].mean()/60"
   ]
  },
  {
   "cell_type": "code",
   "execution_count": 270,
   "metadata": {},
   "outputs": [
    {
     "data": {
      "text/plain": [
       "15.16579908675799"
      ]
     },
     "execution_count": 270,
     "metadata": {},
     "output_type": "execute_result"
    }
   ],
   "source": [
    "order.loc[order['shared']==0]['tripDurationReal'].mean()/60"
   ]
  },
  {
   "cell_type": "code",
   "execution_count": 271,
   "metadata": {},
   "outputs": [
    {
     "data": {
      "text/plain": [
       "2.142449731214544"
      ]
     },
     "execution_count": 271,
     "metadata": {},
     "output_type": "execute_result"
    }
   ],
   "source": [
    "timeParameter = (order['tripDurationReal']/60).mean() / (order['tripDurationFromGoogle']/60).mean()\n",
    "timeParameter"
   ]
  },
  {
   "cell_type": "code",
   "execution_count": 211,
   "metadata": {},
   "outputs": [],
   "source": [
    "order['foodPreparationTime'] = pd.to_datetime(order['取餐出發時間']) - pd.to_datetime(order['下單時間'])"
   ]
  },
  {
   "cell_type": "code",
   "execution_count": 212,
   "metadata": {},
   "outputs": [
    {
     "data": {
      "text/plain": [
       "Timedelta('0 days 00:19:12.092592')"
      ]
     },
     "execution_count": 212,
     "metadata": {},
     "output_type": "execute_result"
    }
   ],
   "source": [
    "order.loc[order['shared']==0]['foodPreparationTime'].mean()"
   ]
  },
  {
   "cell_type": "code",
   "execution_count": 213,
   "metadata": {},
   "outputs": [
    {
     "data": {
      "text/plain": [
       "Timedelta('0 days 00:24:21.577464')"
      ]
     },
     "execution_count": 213,
     "metadata": {},
     "output_type": "execute_result"
    }
   ],
   "source": [
    "order.loc[order['shared']==1]['foodPreparationTime'].mean()"
   ]
  },
  {
   "cell_type": "code",
   "execution_count": 243,
   "metadata": {},
   "outputs": [],
   "source": [
    "order.to_csv('Data/ProcessedNov.csv',index=False)"
   ]
  },
  {
   "cell_type": "markdown",
   "metadata": {},
   "source": [
    "## modelling"
   ]
  },
  {
   "cell_type": "code",
   "execution_count": 69,
   "metadata": {},
   "outputs": [],
   "source": [
    "order = pd.read_csv('Data/ProcessedNov.csv')"
   ]
  },
  {
   "cell_type": "code",
   "execution_count": 70,
   "metadata": {},
   "outputs": [
    {
     "data": {
      "text/plain": [
       "(503, 32)"
      ]
     },
     "execution_count": 70,
     "metadata": {},
     "output_type": "execute_result"
    }
   ],
   "source": [
    "order.shape"
   ]
  },
  {
   "cell_type": "code",
   "execution_count": 71,
   "metadata": {},
   "outputs": [
    {
     "data": {
      "text/plain": [
       "array(['PH64', 'PH57', 'PHD629', 'PHD606'], dtype=object)"
      ]
     },
     "execution_count": 71,
     "metadata": {},
     "output_type": "execute_result"
    }
   ],
   "source": [
    "order['門店名稱'].unique()"
   ]
  },
  {
   "cell_type": "code",
   "execution_count": 72,
   "metadata": {},
   "outputs": [
    {
     "data": {
      "text/plain": [
       "(309, 32)"
      ]
     },
     "execution_count": 72,
     "metadata": {},
     "output_type": "execute_result"
    }
   ],
   "source": [
    "order = order.loc[order['門店名稱'].isin(['PH57','PHD629'])]\n",
    "order.shape"
   ]
  },
  {
   "cell_type": "code",
   "execution_count": 73,
   "metadata": {},
   "outputs": [],
   "source": [
    "order['shared'] = 0\n",
    "order.loc[(((pd.to_datetime(order['取餐出發時間'])-pd.to_datetime(order['last取餐出發時間'])).dt.seconds<5)&\n",
    "           (order['lastRider']==order['Rider']))|\n",
    "        (((pd.to_datetime(order['取餐出發時間'])-pd.to_datetime(order['pre取餐出發時間'])).dt.seconds<5)&\n",
    "         (order['preRider']==order['Rider'])),'shared'] = 1"
   ]
  },
  {
   "cell_type": "code",
   "execution_count": 74,
   "metadata": {},
   "outputs": [
    {
     "data": {
      "text/plain": [
       "(6, 32)"
      ]
     },
     "execution_count": 74,
     "metadata": {},
     "output_type": "execute_result"
    }
   ],
   "source": [
    "order.loc[order['Rider']=='3rdParty'].shape"
   ]
  },
  {
   "cell_type": "code",
   "execution_count": 75,
   "metadata": {},
   "outputs": [],
   "source": [
    "order['foodPreparationTime'] = pd.to_datetime(order['取餐出發時間']) - pd.to_datetime(order['下單時間'])"
   ]
  },
  {
   "cell_type": "code",
   "execution_count": 76,
   "metadata": {},
   "outputs": [
    {
     "data": {
      "text/plain": [
       "Timedelta('0 days 00:19:01.794736')"
      ]
     },
     "execution_count": 76,
     "metadata": {},
     "output_type": "execute_result"
    }
   ],
   "source": [
    "order.loc[order['shared']==0]['foodPreparationTime'].mean()"
   ]
  },
  {
   "cell_type": "code",
   "execution_count": 77,
   "metadata": {},
   "outputs": [
    {
     "data": {
      "text/plain": [
       "Timedelta('0 days 00:24:36.739495')"
      ]
     },
     "execution_count": 77,
     "metadata": {},
     "output_type": "execute_result"
    }
   ],
   "source": [
    "order.loc[order['shared']==1]['foodPreparationTime'].mean()"
   ]
  },
  {
   "cell_type": "code",
   "execution_count": 78,
   "metadata": {},
   "outputs": [
    {
     "data": {
      "text/plain": [
       "(119, 32)"
      ]
     },
     "execution_count": 78,
     "metadata": {},
     "output_type": "execute_result"
    }
   ],
   "source": [
    "order.loc[order['shared']==1].shape"
   ]
  },
  {
   "cell_type": "code",
   "execution_count": 81,
   "metadata": {},
   "outputs": [
    {
     "data": {
      "text/plain": [
       "8"
      ]
     },
     "execution_count": 81,
     "metadata": {},
     "output_type": "execute_result"
    }
   ],
   "source": [
    "(order['tripDurationReal'] < 60).sum()"
   ]
  },
  {
   "cell_type": "code",
   "execution_count": 82,
   "metadata": {},
   "outputs": [
    {
     "data": {
      "text/plain": [
       "43"
      ]
     },
     "execution_count": 82,
     "metadata": {},
     "output_type": "execute_result"
    }
   ],
   "source": [
    "(pd.to_timedelta(order['waitingTime']).dt.seconds>3000).sum()"
   ]
  },
  {
   "cell_type": "markdown",
   "metadata": {},
   "source": [
    "order = order.loc[order['tripDurationReal']>=order['tripDurationFromGoogle']]"
   ]
  },
  {
   "cell_type": "code",
   "execution_count": 83,
   "metadata": {},
   "outputs": [
    {
     "data": {
      "text/plain": [
       "Timedelta('0 days 00:38:20.867313')"
      ]
     },
     "execution_count": 83,
     "metadata": {},
     "output_type": "execute_result"
    }
   ],
   "source": [
    "pd.to_timedelta(order['waitingTime']).mean()"
   ]
  },
  {
   "cell_type": "code",
   "execution_count": 85,
   "metadata": {},
   "outputs": [
    {
     "data": {
      "text/plain": [
       "Ttest_indResult(statistic=-4.73728891975688, pvalue=3.3158725284262513e-06)"
      ]
     },
     "execution_count": 85,
     "metadata": {},
     "output_type": "execute_result"
    }
   ],
   "source": [
    "from scipy import stats\n",
    "stats.ttest_ind(order.loc[order['shared']==0]['foodPreparationTime'].dt.seconds,\n",
    "                order.loc[order['shared']==1]['foodPreparationTime'].dt.seconds)"
   ]
  },
  {
   "cell_type": "code",
   "execution_count": 86,
   "metadata": {},
   "outputs": [],
   "source": [
    "order = order[['orderTime', 'arrivalTime', 'foodPreparationTime','waitingTime', 'departureTime', 'tripDurationReal',\n",
    "       'DeliveryLatLon', 'storeCode', 'StoreLatLon',\n",
    "       'tripDurationFromGoogle', 'shared']]"
   ]
  },
  {
   "cell_type": "code",
   "execution_count": 87,
   "metadata": {},
   "outputs": [],
   "source": [
    "order['departureTime'] = pd.to_datetime(order['departureTime'])\n",
    "order['hour'] = order['departureTime'].dt.hour\n",
    "order['min'] = order['departureTime'].dt.minute\n",
    "order['min'] = order['min'].apply(lambda x: (int(x/5)+1)*5)"
   ]
  },
  {
   "cell_type": "code",
   "execution_count": 88,
   "metadata": {},
   "outputs": [],
   "source": [
    "order['timeWindow'] = pd.Timedelta('0 days 00:50:00') - order['foodPreparationTime']\n",
    "order['timeWindow'] = order['timeWindow'].dt.seconds\n",
    "# order['timeWindow']"
   ]
  },
  {
   "cell_type": "code",
   "execution_count": 89,
   "metadata": {},
   "outputs": [
    {
     "data": {
      "text/plain": [
       "37"
      ]
     },
     "execution_count": 89,
     "metadata": {},
     "output_type": "execute_result"
    }
   ],
   "source": [
    "(order['timeWindow'] < order['tripDurationReal']).sum()"
   ]
  },
  {
   "cell_type": "code",
   "execution_count": 90,
   "metadata": {},
   "outputs": [
    {
     "data": {
      "text/plain": [
       "count     309.000000\n",
       "mean     1030.080906\n",
       "std       606.319750\n",
       "min         2.000000\n",
       "25%       626.000000\n",
       "50%       913.000000\n",
       "75%      1377.000000\n",
       "max      5509.000000\n",
       "Name: tripDurationReal, dtype: float64"
      ]
     },
     "execution_count": 90,
     "metadata": {},
     "output_type": "execute_result"
    }
   ],
   "source": [
    "order.tripDurationReal.describe()"
   ]
  },
  {
   "cell_type": "code",
   "execution_count": 91,
   "metadata": {},
   "outputs": [],
   "source": [
    "order['timeParameter'] = order['tripDurationReal']/order['tripDurationFromGoogle']\n",
    "order['timeParameter'] = order['timeParameter'].median()\n",
    "# timeParameter = order.groupby(['hour','min','shared']).agg({'timeParameter':'min'}).reset_index()\n",
    "# timeParameter = timeParameter.loc[timeParameter['shared']==0]\n",
    "# del timeParameter['shared']\n",
    "# del order['timeParameter']"
   ]
  },
  {
   "cell_type": "code",
   "execution_count": 92,
   "metadata": {},
   "outputs": [
    {
     "data": {
      "text/plain": [
       "1.9877551020408164"
      ]
     },
     "execution_count": 92,
     "metadata": {},
     "output_type": "execute_result"
    }
   ],
   "source": [
    "order['timeParameter'].median()"
   ]
  },
  {
   "cell_type": "code",
   "execution_count": 93,
   "metadata": {},
   "outputs": [
    {
     "data": {
      "text/html": [
       "<div>\n",
       "<style scoped>\n",
       "    .dataframe tbody tr th:only-of-type {\n",
       "        vertical-align: middle;\n",
       "    }\n",
       "\n",
       "    .dataframe tbody tr th {\n",
       "        vertical-align: top;\n",
       "    }\n",
       "\n",
       "    .dataframe thead th {\n",
       "        text-align: right;\n",
       "    }\n",
       "</style>\n",
       "<table border=\"1\" class=\"dataframe\">\n",
       "  <thead>\n",
       "    <tr style=\"text-align: right;\">\n",
       "      <th></th>\n",
       "      <th>orderTime</th>\n",
       "      <th>arrivalTime</th>\n",
       "      <th>foodPreparationTime</th>\n",
       "      <th>waitingTime</th>\n",
       "      <th>departureTime</th>\n",
       "      <th>tripDurationReal</th>\n",
       "      <th>DeliveryLatLon</th>\n",
       "      <th>storeCode</th>\n",
       "      <th>StoreLatLon</th>\n",
       "      <th>tripDurationFromGoogle</th>\n",
       "      <th>shared</th>\n",
       "      <th>hour</th>\n",
       "      <th>min</th>\n",
       "      <th>timeWindow</th>\n",
       "      <th>timeParameter</th>\n",
       "    </tr>\n",
       "  </thead>\n",
       "  <tbody>\n",
       "    <tr>\n",
       "      <th>1</th>\n",
       "      <td>2020-11-02 12:10:00</td>\n",
       "      <td>2020-11-02 12:32:40</td>\n",
       "      <td>00:14:18</td>\n",
       "      <td>0 days 00:22:40.000000000</td>\n",
       "      <td>2020-11-02 12:24:18</td>\n",
       "      <td>502</td>\n",
       "      <td>22.4628057,114.0054404</td>\n",
       "      <td>PH57</td>\n",
       "      <td>22.469012,114.002131</td>\n",
       "      <td>416</td>\n",
       "      <td>0</td>\n",
       "      <td>12</td>\n",
       "      <td>25</td>\n",
       "      <td>2142</td>\n",
       "      <td>1.987755</td>\n",
       "    </tr>\n",
       "    <tr>\n",
       "      <th>320</th>\n",
       "      <td>2020-11-05 18:11:00</td>\n",
       "      <td>2020-11-05 19:07:57</td>\n",
       "      <td>00:24:23</td>\n",
       "      <td>0 days 00:56:57.000000000</td>\n",
       "      <td>2020-11-05 18:35:23</td>\n",
       "      <td>1954</td>\n",
       "      <td>22.4512595,114.0012607</td>\n",
       "      <td>PH57</td>\n",
       "      <td>22.469012,114.002131</td>\n",
       "      <td>690</td>\n",
       "      <td>1</td>\n",
       "      <td>18</td>\n",
       "      <td>40</td>\n",
       "      <td>1537</td>\n",
       "      <td>1.987755</td>\n",
       "    </tr>\n",
       "    <tr>\n",
       "      <th>319</th>\n",
       "      <td>2020-11-05 17:55:00</td>\n",
       "      <td>2020-11-05 18:35:06</td>\n",
       "      <td>00:39:58</td>\n",
       "      <td>0 days 00:40:06.000000000</td>\n",
       "      <td>2020-11-05 18:34:58</td>\n",
       "      <td>8</td>\n",
       "      <td>22.4612642,114.0061941</td>\n",
       "      <td>PH57</td>\n",
       "      <td>22.469012,114.002131</td>\n",
       "      <td>537</td>\n",
       "      <td>1</td>\n",
       "      <td>18</td>\n",
       "      <td>35</td>\n",
       "      <td>602</td>\n",
       "      <td>1.987755</td>\n",
       "    </tr>\n",
       "    <tr>\n",
       "      <th>318</th>\n",
       "      <td>2020-11-05 18:06:00</td>\n",
       "      <td>2020-11-05 18:44:31</td>\n",
       "      <td>00:28:58</td>\n",
       "      <td>0 days 00:38:31.000000000</td>\n",
       "      <td>2020-11-05 18:34:58</td>\n",
       "      <td>573</td>\n",
       "      <td>22.4603182,114.0043947</td>\n",
       "      <td>PH57</td>\n",
       "      <td>22.469012,114.002131</td>\n",
       "      <td>465</td>\n",
       "      <td>1</td>\n",
       "      <td>18</td>\n",
       "      <td>35</td>\n",
       "      <td>1262</td>\n",
       "      <td>1.987755</td>\n",
       "    </tr>\n",
       "    <tr>\n",
       "      <th>317</th>\n",
       "      <td>2020-11-05 18:13:00</td>\n",
       "      <td>2020-11-05 18:48:44</td>\n",
       "      <td>00:19:22</td>\n",
       "      <td>0 days 00:35:44.000000000</td>\n",
       "      <td>2020-11-05 18:32:22</td>\n",
       "      <td>982</td>\n",
       "      <td>22.4479376,114.0014584</td>\n",
       "      <td>PH57</td>\n",
       "      <td>22.469012,114.002131</td>\n",
       "      <td>715</td>\n",
       "      <td>0</td>\n",
       "      <td>18</td>\n",
       "      <td>35</td>\n",
       "      <td>1838</td>\n",
       "      <td>1.987755</td>\n",
       "    </tr>\n",
       "    <tr>\n",
       "      <th>...</th>\n",
       "      <td>...</td>\n",
       "      <td>...</td>\n",
       "      <td>...</td>\n",
       "      <td>...</td>\n",
       "      <td>...</td>\n",
       "      <td>...</td>\n",
       "      <td>...</td>\n",
       "      <td>...</td>\n",
       "      <td>...</td>\n",
       "      <td>...</td>\n",
       "      <td>...</td>\n",
       "      <td>...</td>\n",
       "      <td>...</td>\n",
       "      <td>...</td>\n",
       "      <td>...</td>\n",
       "    </tr>\n",
       "    <tr>\n",
       "      <th>148</th>\n",
       "      <td>2020-11-03 18:37:00</td>\n",
       "      <td>2020-11-03 19:07:07</td>\n",
       "      <td>00:22:52</td>\n",
       "      <td>0 days 00:30:07.000000000</td>\n",
       "      <td>2020-11-03 18:59:52</td>\n",
       "      <td>435</td>\n",
       "      <td>22.450921,113.99002</td>\n",
       "      <td>PH57</td>\n",
       "      <td>22.469012,114.002131</td>\n",
       "      <td>660</td>\n",
       "      <td>0</td>\n",
       "      <td>18</td>\n",
       "      <td>60</td>\n",
       "      <td>1628</td>\n",
       "      <td>1.987755</td>\n",
       "    </tr>\n",
       "    <tr>\n",
       "      <th>147</th>\n",
       "      <td>2020-11-03 18:27:00</td>\n",
       "      <td>2020-11-03 18:58:06</td>\n",
       "      <td>00:24:00</td>\n",
       "      <td>0 days 00:31:06.000000000</td>\n",
       "      <td>2020-11-03 18:51:00</td>\n",
       "      <td>426</td>\n",
       "      <td>22.4662962,113.9995999</td>\n",
       "      <td>PH57</td>\n",
       "      <td>22.469012,114.002131</td>\n",
       "      <td>293</td>\n",
       "      <td>1</td>\n",
       "      <td>18</td>\n",
       "      <td>55</td>\n",
       "      <td>1560</td>\n",
       "      <td>1.987755</td>\n",
       "    </tr>\n",
       "    <tr>\n",
       "      <th>146</th>\n",
       "      <td>2020-11-03 18:36:00</td>\n",
       "      <td>2020-11-03 19:03:24</td>\n",
       "      <td>00:15:00</td>\n",
       "      <td>0 days 00:27:24.000000000</td>\n",
       "      <td>2020-11-03 18:51:00</td>\n",
       "      <td>744</td>\n",
       "      <td>22.4666015,113.9998786</td>\n",
       "      <td>PH57</td>\n",
       "      <td>22.469012,114.002131</td>\n",
       "      <td>309</td>\n",
       "      <td>1</td>\n",
       "      <td>18</td>\n",
       "      <td>55</td>\n",
       "      <td>2100</td>\n",
       "      <td>1.987755</td>\n",
       "    </tr>\n",
       "    <tr>\n",
       "      <th>154</th>\n",
       "      <td>2020-11-03 18:55:00</td>\n",
       "      <td>2020-11-03 19:26:52</td>\n",
       "      <td>00:22:43</td>\n",
       "      <td>0 days 00:31:52.000000000</td>\n",
       "      <td>2020-11-03 19:17:43</td>\n",
       "      <td>549</td>\n",
       "      <td>22.4489561,114.0010867</td>\n",
       "      <td>PHD629</td>\n",
       "      <td>22.456107199999998,113.99848390000001</td>\n",
       "      <td>439</td>\n",
       "      <td>1</td>\n",
       "      <td>19</td>\n",
       "      <td>20</td>\n",
       "      <td>1637</td>\n",
       "      <td>1.987755</td>\n",
       "    </tr>\n",
       "    <tr>\n",
       "      <th>499</th>\n",
       "      <td>2020-11-06 21:49:00</td>\n",
       "      <td>2020-11-06 22:47:24</td>\n",
       "      <td>00:33:24</td>\n",
       "      <td>0 days 00:58:24.000000000</td>\n",
       "      <td>2020-11-06 22:22:24</td>\n",
       "      <td>1500</td>\n",
       "      <td>22.469012,114.002131</td>\n",
       "      <td>PHD629</td>\n",
       "      <td>22.456107199999998,113.99848390000001</td>\n",
       "      <td>502</td>\n",
       "      <td>0</td>\n",
       "      <td>22</td>\n",
       "      <td>25</td>\n",
       "      <td>996</td>\n",
       "      <td>1.987755</td>\n",
       "    </tr>\n",
       "  </tbody>\n",
       "</table>\n",
       "<p>309 rows × 15 columns</p>\n",
       "</div>"
      ],
      "text/plain": [
       "               orderTime          arrivalTime foodPreparationTime  \\\n",
       "1    2020-11-02 12:10:00  2020-11-02 12:32:40            00:14:18   \n",
       "320  2020-11-05 18:11:00  2020-11-05 19:07:57            00:24:23   \n",
       "319  2020-11-05 17:55:00  2020-11-05 18:35:06            00:39:58   \n",
       "318  2020-11-05 18:06:00  2020-11-05 18:44:31            00:28:58   \n",
       "317  2020-11-05 18:13:00  2020-11-05 18:48:44            00:19:22   \n",
       "..                   ...                  ...                 ...   \n",
       "148  2020-11-03 18:37:00  2020-11-03 19:07:07            00:22:52   \n",
       "147  2020-11-03 18:27:00  2020-11-03 18:58:06            00:24:00   \n",
       "146  2020-11-03 18:36:00  2020-11-03 19:03:24            00:15:00   \n",
       "154  2020-11-03 18:55:00  2020-11-03 19:26:52            00:22:43   \n",
       "499  2020-11-06 21:49:00  2020-11-06 22:47:24            00:33:24   \n",
       "\n",
       "                   waitingTime       departureTime  tripDurationReal  \\\n",
       "1    0 days 00:22:40.000000000 2020-11-02 12:24:18               502   \n",
       "320  0 days 00:56:57.000000000 2020-11-05 18:35:23              1954   \n",
       "319  0 days 00:40:06.000000000 2020-11-05 18:34:58                 8   \n",
       "318  0 days 00:38:31.000000000 2020-11-05 18:34:58               573   \n",
       "317  0 days 00:35:44.000000000 2020-11-05 18:32:22               982   \n",
       "..                         ...                 ...               ...   \n",
       "148  0 days 00:30:07.000000000 2020-11-03 18:59:52               435   \n",
       "147  0 days 00:31:06.000000000 2020-11-03 18:51:00               426   \n",
       "146  0 days 00:27:24.000000000 2020-11-03 18:51:00               744   \n",
       "154  0 days 00:31:52.000000000 2020-11-03 19:17:43               549   \n",
       "499  0 days 00:58:24.000000000 2020-11-06 22:22:24              1500   \n",
       "\n",
       "             DeliveryLatLon storeCode                            StoreLatLon  \\\n",
       "1    22.4628057,114.0054404      PH57                   22.469012,114.002131   \n",
       "320  22.4512595,114.0012607      PH57                   22.469012,114.002131   \n",
       "319  22.4612642,114.0061941      PH57                   22.469012,114.002131   \n",
       "318  22.4603182,114.0043947      PH57                   22.469012,114.002131   \n",
       "317  22.4479376,114.0014584      PH57                   22.469012,114.002131   \n",
       "..                      ...       ...                                    ...   \n",
       "148     22.450921,113.99002      PH57                   22.469012,114.002131   \n",
       "147  22.4662962,113.9995999      PH57                   22.469012,114.002131   \n",
       "146  22.4666015,113.9998786      PH57                   22.469012,114.002131   \n",
       "154  22.4489561,114.0010867    PHD629  22.456107199999998,113.99848390000001   \n",
       "499    22.469012,114.002131    PHD629  22.456107199999998,113.99848390000001   \n",
       "\n",
       "     tripDurationFromGoogle  shared  hour  min  timeWindow  timeParameter  \n",
       "1                       416       0    12   25        2142       1.987755  \n",
       "320                     690       1    18   40        1537       1.987755  \n",
       "319                     537       1    18   35         602       1.987755  \n",
       "318                     465       1    18   35        1262       1.987755  \n",
       "317                     715       0    18   35        1838       1.987755  \n",
       "..                      ...     ...   ...  ...         ...            ...  \n",
       "148                     660       0    18   60        1628       1.987755  \n",
       "147                     293       1    18   55        1560       1.987755  \n",
       "146                     309       1    18   55        2100       1.987755  \n",
       "154                     439       1    19   20        1637       1.987755  \n",
       "499                     502       0    22   25         996       1.987755  \n",
       "\n",
       "[309 rows x 15 columns]"
      ]
     },
     "execution_count": 93,
     "metadata": {},
     "output_type": "execute_result"
    }
   ],
   "source": [
    "order.sort_values(by=['timeParameter'])"
   ]
  },
  {
   "cell_type": "code",
   "execution_count": 94,
   "metadata": {},
   "outputs": [],
   "source": [
    "order['timeWindow'] = order['timeWindow'] /order['timeParameter']\n",
    "order.loc[order['timeWindow'] < order['tripDurationFromGoogle'],'timeWindow'] = \\\n",
    "order.loc[order['timeWindow'] < order['tripDurationFromGoogle'],'tripDurationFromGoogle']"
   ]
  },
  {
   "cell_type": "code",
   "execution_count": 95,
   "metadata": {},
   "outputs": [],
   "source": [
    "rider_df = pd.read_excel('../1. Sales Data/2-6Nov - Clock in record.xls')\n",
    "rider_df['Clock in.1'] = pd.to_datetime(rider_df['Clock in.1'])\n",
    "rider_df['Date'] = rider_df['Clock in.1'].dt.day"
   ]
  },
  {
   "cell_type": "code",
   "execution_count": 97,
   "metadata": {},
   "outputs": [],
   "source": [
    "PHDLatLon = order.loc[order['storeCode']=='PHD629']['StoreLatLon'].values[0]\n",
    "PHLatLon = order.loc[order['storeCode']=='PH57']['StoreLatLon'].values[0]\n"
   ]
  },
  {
   "cell_type": "code",
   "execution_count": 98,
   "metadata": {},
   "outputs": [],
   "source": [
    "order['tripTime'] = 0\n",
    "order['rider'] = 0"
   ]
  },
  {
   "cell_type": "code",
   "execution_count": 99,
   "metadata": {},
   "outputs": [],
   "source": [
    "PHD_output = pd.DataFrame()\n",
    "PH_output = pd.DataFrame()"
   ]
  },
  {
   "cell_type": "code",
   "execution_count": 100,
   "metadata": {},
   "outputs": [
    {
     "data": {
      "text/plain": [
       "count     309.000000\n",
       "mean     1030.080906\n",
       "std       606.319750\n",
       "min         2.000000\n",
       "25%       626.000000\n",
       "50%       913.000000\n",
       "75%      1377.000000\n",
       "max      5509.000000\n",
       "Name: tripDurationReal, dtype: float64"
      ]
     },
     "execution_count": 100,
     "metadata": {},
     "output_type": "execute_result"
    }
   ],
   "source": [
    "order.tripDurationReal.describe()"
   ]
  },
  {
   "cell_type": "code",
   "execution_count": 101,
   "metadata": {},
   "outputs": [],
   "source": [
    "order['tripTime'] = 0\n",
    "order['rider'] = 0\n",
    "order['delayed'] = 0\n",
    "order['departureTimeSimulation'] = pd.to_datetime(order.orderTime).dt.date.astype(str)+' '+order['hour'].apply(lambda x:str(x).zfill(2))+\\\n",
    "                                        ':'+order['min'].apply(lambda x:str(x).zfill(2))+':00'\n",
    "PHD_output = pd.DataFrame()\n",
    "PH_output = pd.DataFrame()"
   ]
  },
  {
   "cell_type": "code",
   "execution_count": null,
   "metadata": {},
   "outputs": [],
   "source": [
    "for day in range(2,7):\n",
    "    # reset riders\n",
    "    riders = rider_df.loc[(rider_df['Rider Store Code'].isin([64,606]))&(rider_df['Date']==day)]['Rider No.'].unique()\n",
    "    riderStatus = {}\n",
    "    for i in (riders):\n",
    "        riderStatus[i] = 0\n",
    "    for hour in range(11,24):\n",
    "        for minute in np.arange(0,60,5):\n",
    "            print(day,hour,minute)\n",
    "            # update rider status at current time\n",
    "            for key in riderStatus.keys():\n",
    "                if riderStatus[key]!= 0:\n",
    "                    if riderStatus[key] <= pd.to_datetime('2020-11-0%s %s:%s:00'%(day,hour,str(minute).zfill(2))):\n",
    "                        riderStatus[key] = 0\n",
    "\n",
    "            candidate = order.loc[(pd.to_datetime(order['orderTime']).dt.day==day)&(order['hour']==hour)&(order['min']==minute)]\n",
    "            if len(candidate) > 0:\n",
    "                PHD = candidate.loc[candidate['storeCode']=='PHD629']\n",
    "                PH = candidate.loc[candidate['storeCode']=='PH57']\n",
    "                timeParameter = order.loc[(order['hour']==hour)&(order['min']==minute)]['timeParameter'].unique()[0]\n",
    "                print('PHD')\n",
    "                PHD_output,riderStatus,order = routing.tripAssign(day,hour,minute,timeParameter,PHD, PHDLatLon, riderStatus,order,PHD_output)\n",
    "                print('PH')\n",
    "                PH_output,riderStatus,order = routing.tripAssign(day,hour,minute,timeParameter,PH, PHLatLon, riderStatus,order,PH_output)\n",
    "\n",
    "                "
   ]
  },
  {
   "cell_type": "code",
   "execution_count": null,
   "metadata": {},
   "outputs": [],
   "source": [
    "PH_output['arrivalTimeSimulation'] = pd.to_datetime(PH_output['departureTimeSimulation']) +\\\n",
    "                                        pd.to_timedelta(PH_output['tripTime'],'seconds')\n",
    "PH_output['waitingTimeSimulation'] = PH_output['arrivalTimeSimulation'] - pd.to_datetime(PH_output['orderTime'])\n",
    "PH_output['waitingTimeReal'] = pd.to_datetime(PH_output['arrivalTime']) - pd.to_datetime(PH_output['orderTime'])"
   ]
  },
  {
   "cell_type": "code",
   "execution_count": 32,
   "metadata": {},
   "outputs": [
    {
     "data": {
      "text/plain": [
       "count                        85\n",
       "mean     0 days 00:34:47.064954\n",
       "std      0 days 00:09:49.937074\n",
       "min             0 days 00:17:57\n",
       "25%             0 days 00:28:06\n",
       "50%             0 days 00:34:11\n",
       "75%      0 days 00:39:44.660394\n",
       "max      0 days 01:06:15.828951\n",
       "Name: waitingTimeSimulation, dtype: object"
      ]
     },
     "execution_count": 32,
     "metadata": {},
     "output_type": "execute_result"
    }
   ],
   "source": [
    "PH_output['waitingTimeSimulation'].describe()"
   ]
  },
  {
   "cell_type": "code",
   "execution_count": 33,
   "metadata": {},
   "outputs": [],
   "source": [
    "PH_output['arrivalTimeSimulation'] = pd.to_datetime(PH_output['departureTimeSimulation']) +\\\n",
    "                                        pd.to_timedelta(PH_output['tripTime'],'seconds')\n",
    "PH_output['waitingTimeSimulation'] = PH_output['arrivalTimeSimulation'] - pd.to_datetime(PH_output['orderTime'])\n",
    "PH_output['waitingTimeReal'] = pd.to_datetime(PH_output['arrivalTime']) - pd.to_datetime(PH_output['orderTime'])"
   ]
  },
  {
   "cell_type": "code",
   "execution_count": 34,
   "metadata": {},
   "outputs": [
    {
     "data": {
      "text/plain": [
       "Timedelta('0 days 00:34:47.064954')"
      ]
     },
     "execution_count": 34,
     "metadata": {},
     "output_type": "execute_result"
    }
   ],
   "source": [
    "PH_output['waitingTimeSimulation'].mean()"
   ]
  },
  {
   "cell_type": "code",
   "execution_count": 35,
   "metadata": {},
   "outputs": [
    {
     "data": {
      "text/plain": [
       "Timedelta('0 days 00:33:59.152941')"
      ]
     },
     "execution_count": 35,
     "metadata": {},
     "output_type": "execute_result"
    }
   ],
   "source": [
    "PH_output['waitingTimeReal'].mean()"
   ]
  },
  {
   "cell_type": "code",
   "execution_count": 36,
   "metadata": {},
   "outputs": [
    {
     "data": {
      "text/plain": [
       "<AxesSubplot:>"
      ]
     },
     "execution_count": 36,
     "metadata": {},
     "output_type": "execute_result"
    },
    {
     "data": {
      "image/png": "[encoded data removed]",
      "text/plain": [
       "<Figure size 432x288 with 1 Axes>"
      ]
     },
     "metadata": {
      "needs_background": "light"
     },
     "output_type": "display_data"
    }
   ],
   "source": [
    "PH_output['waitingTimeSimulation'].dt.seconds.hist()"
   ]
  },
  {
   "cell_type": "code",
   "execution_count": 37,
   "metadata": {},
   "outputs": [
    {
     "data": {
      "text/plain": [
       "<AxesSubplot:>"
      ]
     },
     "execution_count": 37,
     "metadata": {},
     "output_type": "execute_result"
    },
    {
     "data": {
      "image/png": "[encoded data removed]",
      "text/plain": [
       "<Figure size 432x288 with 1 Axes>"
      ]
     },
     "metadata": {
      "needs_background": "light"
     },
     "output_type": "display_data"
    }
   ],
   "source": [
    "PH_output['waitingTimeReal'].dt.seconds.hist()"
   ]
  },
  {
   "cell_type": "code",
   "execution_count": 38,
   "metadata": {},
   "outputs": [],
   "source": [
    "\n",
    "PHD_output['arrivalTimeSimulation'] = pd.to_datetime(PHD_output['departureTimeSimulation']) +\\\n",
    "                                        pd.to_timedelta(PHD_output['tripTime'],'seconds')\n",
    "PHD_output['waitingTimeSimulation'] = PHD_output['arrivalTimeSimulation'] - pd.to_datetime(PHD_output['orderTime'])\n",
    "PHD_output['waitingTimeReal'] = pd.to_datetime(PHD_output['arrivalTime']) - pd.to_datetime(PHD_output['orderTime'])"
   ]
  },
  {
   "cell_type": "code",
   "execution_count": 39,
   "metadata": {},
   "outputs": [
    {
     "data": {
      "text/plain": [
       "Timedelta('0 days 00:32:06.705976')"
      ]
     },
     "execution_count": 39,
     "metadata": {},
     "output_type": "execute_result"
    }
   ],
   "source": [
    "PHD_output['waitingTimeSimulation'].mean()"
   ]
  },
  {
   "cell_type": "code",
   "execution_count": 40,
   "metadata": {},
   "outputs": [
    {
     "data": {
      "text/plain": [
       "Timedelta('0 days 00:31:55.919540')"
      ]
     },
     "execution_count": 40,
     "metadata": {},
     "output_type": "execute_result"
    }
   ],
   "source": [
    "PHD_output['waitingTimeReal'].mean()"
   ]
  },
  {
   "cell_type": "code",
   "execution_count": 41,
   "metadata": {},
   "outputs": [],
   "source": [
    "pd.concat([PHD_output,PH_output]).to_csv('Output/order64_606_5min_TW.csv',index=False)"
   ]
  },
  {
   "cell_type": "code",
   "execution_count": 42,
   "metadata": {},
   "outputs": [],
   "source": [
    "output = pd.concat([PHD_output,PH_output])"
   ]
  },
  {
   "cell_type": "code",
   "execution_count": 43,
   "metadata": {},
   "outputs": [
    {
     "data": {
      "text/plain": [
       "Timedelta('0 days 00:33:25.953146')"
      ]
     },
     "execution_count": 43,
     "metadata": {},
     "output_type": "execute_result"
    }
   ],
   "source": [
    "output['waitingTimeSimulation'].mean()"
   ]
  },
  {
   "cell_type": "code",
   "execution_count": 44,
   "metadata": {},
   "outputs": [
    {
     "data": {
      "text/plain": [
       "14"
      ]
     },
     "execution_count": 44,
     "metadata": {},
     "output_type": "execute_result"
    }
   ],
   "source": [
    "(output['waitingTimeSimulation'].dt.seconds>3000).sum()"
   ]
  },
  {
   "cell_type": "code",
   "execution_count": 45,
   "metadata": {},
   "outputs": [
    {
     "data": {
      "text/html": [
       "<div>\n",
       "<style scoped>\n",
       "    .dataframe tbody tr th:only-of-type {\n",
       "        vertical-align: middle;\n",
       "    }\n",
       "\n",
       "    .dataframe tbody tr th {\n",
       "        vertical-align: top;\n",
       "    }\n",
       "\n",
       "    .dataframe thead th {\n",
       "        text-align: right;\n",
       "    }\n",
       "</style>\n",
       "<table border=\"1\" class=\"dataframe\">\n",
       "  <thead>\n",
       "    <tr style=\"text-align: right;\">\n",
       "      <th></th>\n",
       "      <th>orderTime</th>\n",
       "      <th>arrivalTime</th>\n",
       "      <th>foodPreparationTime</th>\n",
       "      <th>waitingTime</th>\n",
       "      <th>departureTime</th>\n",
       "      <th>tripDurationReal</th>\n",
       "      <th>DeliveryLatLon</th>\n",
       "      <th>storeCode</th>\n",
       "      <th>StoreLatLon</th>\n",
       "      <th>tripDurationFromGoogle</th>\n",
       "      <th>shared</th>\n",
       "      <th>hour</th>\n",
       "      <th>min</th>\n",
       "      <th>timeWindow</th>\n",
       "      <th>timeParameter</th>\n",
       "      <th>tripTime</th>\n",
       "      <th>rider</th>\n",
       "      <th>delayed</th>\n",
       "      <th>departureTimeSimulation</th>\n",
       "      <th>arrivalTimeSimulation</th>\n",
       "      <th>waitingTimeSimulation</th>\n",
       "      <th>waitingTimeReal</th>\n",
       "    </tr>\n",
       "  </thead>\n",
       "  <tbody>\n",
       "    <tr>\n",
       "      <th>198</th>\n",
       "      <td>2020-11-04 13:51:00</td>\n",
       "      <td>2020-11-04 14:42:27</td>\n",
       "      <td>00:48:57</td>\n",
       "      <td>0 days 00:51:27.000000000</td>\n",
       "      <td>2020-11-04 14:39:57</td>\n",
       "      <td>150</td>\n",
       "      <td>22.2872726,114.1501454</td>\n",
       "      <td>PHD606</td>\n",
       "      <td>22.284361999999998,114.13979259999999</td>\n",
       "      <td>634</td>\n",
       "      <td>0</td>\n",
       "      <td>14</td>\n",
       "      <td>40</td>\n",
       "      <td>634.000000</td>\n",
       "      <td>1.984182</td>\n",
       "      <td>150.000000</td>\n",
       "      <td>11151127</td>\n",
       "      <td>0</td>\n",
       "      <td>2020-11-04 14:39:57</td>\n",
       "      <td>2020-11-04 14:42:27.000000000</td>\n",
       "      <td>00:51:27</td>\n",
       "      <td>00:51:27</td>\n",
       "    </tr>\n",
       "    <tr>\n",
       "      <th>389</th>\n",
       "      <td>2020-11-06 11:29:00</td>\n",
       "      <td>2020-11-06 12:25:21</td>\n",
       "      <td>00:20:06</td>\n",
       "      <td>0 days 00:56:21.000000000</td>\n",
       "      <td>2020-11-06 11:49:06</td>\n",
       "      <td>2175</td>\n",
       "      <td>22.2746606,114.1742897</td>\n",
       "      <td>PHD606</td>\n",
       "      <td>22.284361999999998,114.13979259999999</td>\n",
       "      <td>835</td>\n",
       "      <td>0</td>\n",
       "      <td>11</td>\n",
       "      <td>50</td>\n",
       "      <td>904.150982</td>\n",
       "      <td>1.984182</td>\n",
       "      <td>2175.000000</td>\n",
       "      <td>10797055</td>\n",
       "      <td>0</td>\n",
       "      <td>2020-11-06 11:49:06</td>\n",
       "      <td>2020-11-06 12:25:21.000000000</td>\n",
       "      <td>00:56:21</td>\n",
       "      <td>00:56:21</td>\n",
       "    </tr>\n",
       "    <tr>\n",
       "      <th>391</th>\n",
       "      <td>2020-11-06 11:30:00</td>\n",
       "      <td>2020-11-06 12:23:42</td>\n",
       "      <td>00:34:59</td>\n",
       "      <td>0 days 00:53:42.000000000</td>\n",
       "      <td>2020-11-06 12:04:59</td>\n",
       "      <td>1123</td>\n",
       "      <td>22.2865433,114.1357141</td>\n",
       "      <td>PHD606</td>\n",
       "      <td>22.284361999999998,114.13979259999999</td>\n",
       "      <td>354</td>\n",
       "      <td>0</td>\n",
       "      <td>12</td>\n",
       "      <td>5</td>\n",
       "      <td>454.091435</td>\n",
       "      <td>1.984182</td>\n",
       "      <td>1123.000000</td>\n",
       "      <td>10111612</td>\n",
       "      <td>0</td>\n",
       "      <td>2020-11-06 12:04:59</td>\n",
       "      <td>2020-11-06 12:23:42.000000000</td>\n",
       "      <td>00:53:42</td>\n",
       "      <td>00:53:42</td>\n",
       "    </tr>\n",
       "    <tr>\n",
       "      <th>392</th>\n",
       "      <td>2020-11-06 11:33:00</td>\n",
       "      <td>2020-11-06 12:34:10</td>\n",
       "      <td>00:51:01</td>\n",
       "      <td>0 days 01:01:10.000000000</td>\n",
       "      <td>2020-11-06 12:24:01</td>\n",
       "      <td>609</td>\n",
       "      <td>22.2788412,114.1288841</td>\n",
       "      <td>PHD606</td>\n",
       "      <td>22.284361999999998,114.13979259999999</td>\n",
       "      <td>321</td>\n",
       "      <td>0</td>\n",
       "      <td>12</td>\n",
       "      <td>25</td>\n",
       "      <td>43513.651978</td>\n",
       "      <td>1.984182</td>\n",
       "      <td>609.000000</td>\n",
       "      <td>30071279</td>\n",
       "      <td>0</td>\n",
       "      <td>2020-11-06 12:24:01</td>\n",
       "      <td>2020-11-06 12:34:10.000000000</td>\n",
       "      <td>01:01:10</td>\n",
       "      <td>01:01:10</td>\n",
       "    </tr>\n",
       "    <tr>\n",
       "      <th>393</th>\n",
       "      <td>2020-11-06 11:52:00</td>\n",
       "      <td>2020-11-06 12:48:47</td>\n",
       "      <td>00:40:43</td>\n",
       "      <td>0 days 00:56:47.000000000</td>\n",
       "      <td>2020-11-06 12:32:43</td>\n",
       "      <td>964</td>\n",
       "      <td>22.2746457,114.1631178</td>\n",
       "      <td>PHD606</td>\n",
       "      <td>22.284361999999998,114.13979259999999</td>\n",
       "      <td>660</td>\n",
       "      <td>0</td>\n",
       "      <td>12</td>\n",
       "      <td>35</td>\n",
       "      <td>660.000000</td>\n",
       "      <td>1.984182</td>\n",
       "      <td>964.000000</td>\n",
       "      <td>11151175</td>\n",
       "      <td>0</td>\n",
       "      <td>2020-11-06 12:32:43</td>\n",
       "      <td>2020-11-06 12:48:47.000000000</td>\n",
       "      <td>00:56:47</td>\n",
       "      <td>00:56:47</td>\n",
       "    </tr>\n",
       "    <tr>\n",
       "      <th>402</th>\n",
       "      <td>2020-11-06 11:53:00</td>\n",
       "      <td>2020-11-06 13:22:23</td>\n",
       "      <td>01:23:59</td>\n",
       "      <td>0 days 01:29:23.000000000</td>\n",
       "      <td>2020-11-06 13:16:59</td>\n",
       "      <td>324</td>\n",
       "      <td>22.279945,114.1627109</td>\n",
       "      <td>PHD606</td>\n",
       "      <td>22.284361999999998,114.13979259999999</td>\n",
       "      <td>583</td>\n",
       "      <td>0</td>\n",
       "      <td>13</td>\n",
       "      <td>20</td>\n",
       "      <td>42516.767561</td>\n",
       "      <td>1.984182</td>\n",
       "      <td>324.000000</td>\n",
       "      <td>11151158</td>\n",
       "      <td>0</td>\n",
       "      <td>2020-11-06 13:16:59</td>\n",
       "      <td>2020-11-06 13:22:23.000000000</td>\n",
       "      <td>01:29:23</td>\n",
       "      <td>01:29:23</td>\n",
       "    </tr>\n",
       "    <tr>\n",
       "      <th>483</th>\n",
       "      <td>2020-11-06 19:54:00</td>\n",
       "      <td>2020-11-06 20:49:34</td>\n",
       "      <td>00:55:34</td>\n",
       "      <td>0 days 00:55:34.000000000</td>\n",
       "      <td>2020-11-06 20:49:34</td>\n",
       "      <td>0</td>\n",
       "      <td>22.2855698,114.1500525</td>\n",
       "      <td>PHD606</td>\n",
       "      <td>22.284361999999998,114.13979259999999</td>\n",
       "      <td>567</td>\n",
       "      <td>0</td>\n",
       "      <td>20</td>\n",
       "      <td>50</td>\n",
       "      <td>43376.063785</td>\n",
       "      <td>1.984182</td>\n",
       "      <td>0.000000</td>\n",
       "      <td>10111612</td>\n",
       "      <td>0</td>\n",
       "      <td>2020-11-06 20:49:34</td>\n",
       "      <td>2020-11-06 20:49:34.000000000</td>\n",
       "      <td>00:55:34</td>\n",
       "      <td>00:55:34</td>\n",
       "    </tr>\n",
       "    <tr>\n",
       "      <th>60</th>\n",
       "      <td>2020-11-02 18:48:00</td>\n",
       "      <td>2020-11-02 19:25:10</td>\n",
       "      <td>00:36:54</td>\n",
       "      <td>0 days 00:37:10.000000000</td>\n",
       "      <td>2020-11-02 19:24:54</td>\n",
       "      <td>16</td>\n",
       "      <td>22.2847577,114.1326485</td>\n",
       "      <td>PH64</td>\n",
       "      <td>22.284392699999998,114.141973</td>\n",
       "      <td>487</td>\n",
       "      <td>1</td>\n",
       "      <td>19</td>\n",
       "      <td>25</td>\n",
       "      <td>487.000000</td>\n",
       "      <td>1.984182</td>\n",
       "      <td>1453.296578</td>\n",
       "      <td>11151158</td>\n",
       "      <td>0</td>\n",
       "      <td>2020-11-02 19:25:00</td>\n",
       "      <td>2020-11-02 19:49:13.296577947</td>\n",
       "      <td>01:01:13.296577</td>\n",
       "      <td>00:37:10</td>\n",
       "    </tr>\n",
       "    <tr>\n",
       "      <th>248</th>\n",
       "      <td>2020-11-04 19:03:00</td>\n",
       "      <td>2020-11-04 19:40:35</td>\n",
       "      <td>00:27:31</td>\n",
       "      <td>0 days 00:37:35.000000000</td>\n",
       "      <td>2020-11-04 19:30:31</td>\n",
       "      <td>604</td>\n",
       "      <td>22.2766333,114.1547807</td>\n",
       "      <td>PH64</td>\n",
       "      <td>22.284392699999998,114.141973</td>\n",
       "      <td>625</td>\n",
       "      <td>1</td>\n",
       "      <td>19</td>\n",
       "      <td>35</td>\n",
       "      <td>679.877188</td>\n",
       "      <td>1.984182</td>\n",
       "      <td>1159.729109</td>\n",
       "      <td>11151127</td>\n",
       "      <td>0</td>\n",
       "      <td>2020-11-04 19:35:00</td>\n",
       "      <td>2020-11-04 19:54:19.729108923</td>\n",
       "      <td>00:51:19.729108</td>\n",
       "      <td>00:37:35</td>\n",
       "    </tr>\n",
       "    <tr>\n",
       "      <th>250</th>\n",
       "      <td>2020-11-04 18:50:00</td>\n",
       "      <td>2020-11-04 19:50:27</td>\n",
       "      <td>00:41:09</td>\n",
       "      <td>0 days 01:00:27.000000000</td>\n",
       "      <td>2020-11-04 19:31:09</td>\n",
       "      <td>1158</td>\n",
       "      <td>22.281696,114.124866</td>\n",
       "      <td>PH64</td>\n",
       "      <td>22.284392699999998,114.141973</td>\n",
       "      <td>642</td>\n",
       "      <td>1</td>\n",
       "      <td>19</td>\n",
       "      <td>35</td>\n",
       "      <td>642.000000</td>\n",
       "      <td>1.984182</td>\n",
       "      <td>1275.828952</td>\n",
       "      <td>11151158</td>\n",
       "      <td>0</td>\n",
       "      <td>2020-11-04 19:35:00</td>\n",
       "      <td>2020-11-04 19:56:15.828951991</td>\n",
       "      <td>01:06:15.828951</td>\n",
       "      <td>01:00:27</td>\n",
       "    </tr>\n",
       "    <tr>\n",
       "      <th>251</th>\n",
       "      <td>2020-11-04 19:06:00</td>\n",
       "      <td>2020-11-04 19:45:49</td>\n",
       "      <td>00:25:09</td>\n",
       "      <td>0 days 00:39:49.000000000</td>\n",
       "      <td>2020-11-04 19:31:09</td>\n",
       "      <td>880</td>\n",
       "      <td>22.2828863,114.1264594</td>\n",
       "      <td>PH64</td>\n",
       "      <td>22.284392699999998,114.141973</td>\n",
       "      <td>628</td>\n",
       "      <td>1</td>\n",
       "      <td>19</td>\n",
       "      <td>35</td>\n",
       "      <td>751.443208</td>\n",
       "      <td>1.984182</td>\n",
       "      <td>1365.828952</td>\n",
       "      <td>11151158</td>\n",
       "      <td>0</td>\n",
       "      <td>2020-11-04 19:35:00</td>\n",
       "      <td>2020-11-04 19:57:45.828951991</td>\n",
       "      <td>00:51:45.828951</td>\n",
       "      <td>00:39:49</td>\n",
       "    </tr>\n",
       "    <tr>\n",
       "      <th>324</th>\n",
       "      <td>2020-11-05 18:30:00</td>\n",
       "      <td>2020-11-05 19:07:54</td>\n",
       "      <td>00:17:46</td>\n",
       "      <td>0 days 00:37:54.000000000</td>\n",
       "      <td>2020-11-05 18:47:46</td>\n",
       "      <td>1208</td>\n",
       "      <td>22.280805,114.1257508</td>\n",
       "      <td>PH64</td>\n",
       "      <td>22.284392699999998,114.141973</td>\n",
       "      <td>713</td>\n",
       "      <td>1</td>\n",
       "      <td>18</td>\n",
       "      <td>50</td>\n",
       "      <td>974.709030</td>\n",
       "      <td>1.984182</td>\n",
       "      <td>1803.315855</td>\n",
       "      <td>30071279</td>\n",
       "      <td>0</td>\n",
       "      <td>2020-11-05 18:50:00</td>\n",
       "      <td>2020-11-05 19:20:03.315854811</td>\n",
       "      <td>00:50:03.315854</td>\n",
       "      <td>00:37:54</td>\n",
       "    </tr>\n",
       "    <tr>\n",
       "      <th>431</th>\n",
       "      <td>2020-11-06 17:48:00</td>\n",
       "      <td>2020-11-06 18:22:59</td>\n",
       "      <td>00:34:50</td>\n",
       "      <td>0 days 00:34:59.000000000</td>\n",
       "      <td>2020-11-06 18:22:50</td>\n",
       "      <td>9</td>\n",
       "      <td>22.281132,114.130041</td>\n",
       "      <td>PH64</td>\n",
       "      <td>22.284392699999998,114.141973</td>\n",
       "      <td>681</td>\n",
       "      <td>0</td>\n",
       "      <td>18</td>\n",
       "      <td>25</td>\n",
       "      <td>681.000000</td>\n",
       "      <td>1.984182</td>\n",
       "      <td>1353.212046</td>\n",
       "      <td>30071279</td>\n",
       "      <td>0</td>\n",
       "      <td>2020-11-06 18:25:00</td>\n",
       "      <td>2020-11-06 18:47:33.212045502</td>\n",
       "      <td>00:59:33.212045</td>\n",
       "      <td>00:34:59</td>\n",
       "    </tr>\n",
       "    <tr>\n",
       "      <th>437</th>\n",
       "      <td>2020-11-06 17:59:00</td>\n",
       "      <td>2020-11-06 18:46:50</td>\n",
       "      <td>00:35:42</td>\n",
       "      <td>0 days 00:47:50.000000000</td>\n",
       "      <td>2020-11-06 18:34:42</td>\n",
       "      <td>728</td>\n",
       "      <td>22.2800942,114.1290254</td>\n",
       "      <td>PH64</td>\n",
       "      <td>22.284392699999998,114.141973</td>\n",
       "      <td>449</td>\n",
       "      <td>1</td>\n",
       "      <td>18</td>\n",
       "      <td>35</td>\n",
       "      <td>449.000000</td>\n",
       "      <td>1.984182</td>\n",
       "      <td>890.897666</td>\n",
       "      <td>10797055</td>\n",
       "      <td>0</td>\n",
       "      <td>2020-11-06 18:35:00</td>\n",
       "      <td>2020-11-06 18:49:50.897666321</td>\n",
       "      <td>00:50:50.897666</td>\n",
       "      <td>00:47:50</td>\n",
       "    </tr>\n",
       "  </tbody>\n",
       "</table>\n",
       "</div>"
      ],
      "text/plain": [
       "               orderTime          arrivalTime foodPreparationTime  \\\n",
       "198  2020-11-04 13:51:00  2020-11-04 14:42:27            00:48:57   \n",
       "389  2020-11-06 11:29:00  2020-11-06 12:25:21            00:20:06   \n",
       "391  2020-11-06 11:30:00  2020-11-06 12:23:42            00:34:59   \n",
       "392  2020-11-06 11:33:00  2020-11-06 12:34:10            00:51:01   \n",
       "393  2020-11-06 11:52:00  2020-11-06 12:48:47            00:40:43   \n",
       "402  2020-11-06 11:53:00  2020-11-06 13:22:23            01:23:59   \n",
       "483  2020-11-06 19:54:00  2020-11-06 20:49:34            00:55:34   \n",
       "60   2020-11-02 18:48:00  2020-11-02 19:25:10            00:36:54   \n",
       "248  2020-11-04 19:03:00  2020-11-04 19:40:35            00:27:31   \n",
       "250  2020-11-04 18:50:00  2020-11-04 19:50:27            00:41:09   \n",
       "251  2020-11-04 19:06:00  2020-11-04 19:45:49            00:25:09   \n",
       "324  2020-11-05 18:30:00  2020-11-05 19:07:54            00:17:46   \n",
       "431  2020-11-06 17:48:00  2020-11-06 18:22:59            00:34:50   \n",
       "437  2020-11-06 17:59:00  2020-11-06 18:46:50            00:35:42   \n",
       "\n",
       "                   waitingTime       departureTime  tripDurationReal  \\\n",
       "198  0 days 00:51:27.000000000 2020-11-04 14:39:57               150   \n",
       "389  0 days 00:56:21.000000000 2020-11-06 11:49:06              2175   \n",
       "391  0 days 00:53:42.000000000 2020-11-06 12:04:59              1123   \n",
       "392  0 days 01:01:10.000000000 2020-11-06 12:24:01               609   \n",
       "393  0 days 00:56:47.000000000 2020-11-06 12:32:43               964   \n",
       "402  0 days 01:29:23.000000000 2020-11-06 13:16:59               324   \n",
       "483  0 days 00:55:34.000000000 2020-11-06 20:49:34                 0   \n",
       "60   0 days 00:37:10.000000000 2020-11-02 19:24:54                16   \n",
       "248  0 days 00:37:35.000000000 2020-11-04 19:30:31               604   \n",
       "250  0 days 01:00:27.000000000 2020-11-04 19:31:09              1158   \n",
       "251  0 days 00:39:49.000000000 2020-11-04 19:31:09               880   \n",
       "324  0 days 00:37:54.000000000 2020-11-05 18:47:46              1208   \n",
       "431  0 days 00:34:59.000000000 2020-11-06 18:22:50                 9   \n",
       "437  0 days 00:47:50.000000000 2020-11-06 18:34:42               728   \n",
       "\n",
       "             DeliveryLatLon storeCode                            StoreLatLon  \\\n",
       "198  22.2872726,114.1501454    PHD606  22.284361999999998,114.13979259999999   \n",
       "389  22.2746606,114.1742897    PHD606  22.284361999999998,114.13979259999999   \n",
       "391  22.2865433,114.1357141    PHD606  22.284361999999998,114.13979259999999   \n",
       "392  22.2788412,114.1288841    PHD606  22.284361999999998,114.13979259999999   \n",
       "393  22.2746457,114.1631178    PHD606  22.284361999999998,114.13979259999999   \n",
       "402   22.279945,114.1627109    PHD606  22.284361999999998,114.13979259999999   \n",
       "483  22.2855698,114.1500525    PHD606  22.284361999999998,114.13979259999999   \n",
       "60   22.2847577,114.1326485      PH64          22.284392699999998,114.141973   \n",
       "248  22.2766333,114.1547807      PH64          22.284392699999998,114.141973   \n",
       "250    22.281696,114.124866      PH64          22.284392699999998,114.141973   \n",
       "251  22.2828863,114.1264594      PH64          22.284392699999998,114.141973   \n",
       "324   22.280805,114.1257508      PH64          22.284392699999998,114.141973   \n",
       "431    22.281132,114.130041      PH64          22.284392699999998,114.141973   \n",
       "437  22.2800942,114.1290254      PH64          22.284392699999998,114.141973   \n",
       "\n",
       "     tripDurationFromGoogle  shared  hour  min    timeWindow  timeParameter  \\\n",
       "198                     634       0    14   40    634.000000       1.984182   \n",
       "389                     835       0    11   50    904.150982       1.984182   \n",
       "391                     354       0    12    5    454.091435       1.984182   \n",
       "392                     321       0    12   25  43513.651978       1.984182   \n",
       "393                     660       0    12   35    660.000000       1.984182   \n",
       "402                     583       0    13   20  42516.767561       1.984182   \n",
       "483                     567       0    20   50  43376.063785       1.984182   \n",
       "60                      487       1    19   25    487.000000       1.984182   \n",
       "248                     625       1    19   35    679.877188       1.984182   \n",
       "250                     642       1    19   35    642.000000       1.984182   \n",
       "251                     628       1    19   35    751.443208       1.984182   \n",
       "324                     713       1    18   50    974.709030       1.984182   \n",
       "431                     681       0    18   25    681.000000       1.984182   \n",
       "437                     449       1    18   35    449.000000       1.984182   \n",
       "\n",
       "        tripTime     rider  delayed departureTimeSimulation  \\\n",
       "198   150.000000  11151127        0     2020-11-04 14:39:57   \n",
       "389  2175.000000  10797055        0     2020-11-06 11:49:06   \n",
       "391  1123.000000  10111612        0     2020-11-06 12:04:59   \n",
       "392   609.000000  30071279        0     2020-11-06 12:24:01   \n",
       "393   964.000000  11151175        0     2020-11-06 12:32:43   \n",
       "402   324.000000  11151158        0     2020-11-06 13:16:59   \n",
       "483     0.000000  10111612        0     2020-11-06 20:49:34   \n",
       "60   1453.296578  11151158        0     2020-11-02 19:25:00   \n",
       "248  1159.729109  11151127        0     2020-11-04 19:35:00   \n",
       "250  1275.828952  11151158        0     2020-11-04 19:35:00   \n",
       "251  1365.828952  11151158        0     2020-11-04 19:35:00   \n",
       "324  1803.315855  30071279        0     2020-11-05 18:50:00   \n",
       "431  1353.212046  30071279        0     2020-11-06 18:25:00   \n",
       "437   890.897666  10797055        0     2020-11-06 18:35:00   \n",
       "\n",
       "            arrivalTimeSimulation waitingTimeSimulation waitingTimeReal  \n",
       "198 2020-11-04 14:42:27.000000000              00:51:27        00:51:27  \n",
       "389 2020-11-06 12:25:21.000000000              00:56:21        00:56:21  \n",
       "391 2020-11-06 12:23:42.000000000              00:53:42        00:53:42  \n",
       "392 2020-11-06 12:34:10.000000000              01:01:10        01:01:10  \n",
       "393 2020-11-06 12:48:47.000000000              00:56:47        00:56:47  \n",
       "402 2020-11-06 13:22:23.000000000              01:29:23        01:29:23  \n",
       "483 2020-11-06 20:49:34.000000000              00:55:34        00:55:34  \n",
       "60  2020-11-02 19:49:13.296577947       01:01:13.296577        00:37:10  \n",
       "248 2020-11-04 19:54:19.729108923       00:51:19.729108        00:37:35  \n",
       "250 2020-11-04 19:56:15.828951991       01:06:15.828951        01:00:27  \n",
       "251 2020-11-04 19:57:45.828951991       00:51:45.828951        00:39:49  \n",
       "324 2020-11-05 19:20:03.315854811       00:50:03.315854        00:37:54  \n",
       "431 2020-11-06 18:47:33.212045502       00:59:33.212045        00:34:59  \n",
       "437 2020-11-06 18:49:50.897666321       00:50:50.897666        00:47:50  "
      ]
     },
     "execution_count": 45,
     "metadata": {},
     "output_type": "execute_result"
    }
   ],
   "source": [
    "output.loc[output['waitingTimeSimulation'].dt.seconds>3000]"
   ]
  },
  {
   "cell_type": "code",
   "execution_count": 46,
   "metadata": {},
   "outputs": [],
   "source": [
    "output = output.sort_values(by=['departureTimeSimulation','rider'])\n",
    "output['last取餐出發時間'] = output['departureTimeSimulation'].shift(1)\n",
    "output['lastRider'] = output['rider'].shift(1)\n",
    "output['pre取餐出發時間'] = output['departureTimeSimulation'].shift(-1)\n",
    "output['preRider'] = output['rider'].shift(-1)\n",
    "shared = output.loc[((output['last取餐出發時間']==output['departureTimeSimulation'])&(output['lastRider']==output['rider']))|\n",
    "                   ((output['pre取餐出發時間']==output['departureTimeSimulation'])&(output['preRider']==output['rider']))]\n",
    "single = output.loc[((output['last取餐出發時間']!=output['departureTimeSimulation'])|(output['lastRider']!=output['rider']))|\n",
    "                   ((output['pre取餐出發時間']!=output['departureTimeSimulation'])|(output['preRider']!=output['rider']))]"
   ]
  },
  {
   "cell_type": "code",
   "execution_count": 47,
   "metadata": {},
   "outputs": [
    {
     "data": {
      "text/plain": [
       "(50, 26)"
      ]
     },
     "execution_count": 47,
     "metadata": {},
     "output_type": "execute_result"
    }
   ],
   "source": [
    "shared.shape"
   ]
  },
  {
   "cell_type": "code",
   "execution_count": 53,
   "metadata": {},
   "outputs": [
    {
     "data": {
      "text/plain": [
       "Timedelta('0 days 00:33:25.953146')"
      ]
     },
     "execution_count": 53,
     "metadata": {},
     "output_type": "execute_result"
    }
   ],
   "source": [
    "output.waitingTimeSimulation.mean()"
   ]
  },
  {
   "cell_type": "code",
   "execution_count": 68,
   "metadata": {},
   "outputs": [
    {
     "data": {
      "text/plain": [
       "orderTime                 2\n",
       "arrivalTime               2\n",
       "foodPreparationTime       2\n",
       "waitingTime               2\n",
       "departureTime             2\n",
       "tripDurationReal          2\n",
       "DeliveryLatLon            2\n",
       "storeCode                 2\n",
       "StoreLatLon               2\n",
       "tripDurationFromGoogle    2\n",
       "shared                    2\n",
       "hour                      2\n",
       "min                       2\n",
       "timeWindow                2\n",
       "timeParameter             2\n",
       "tripTime                  2\n",
       "delayed                   2\n",
       "arrivalTimeSimulation     2\n",
       "waitingTimeSimulation     2\n",
       "waitingTimeReal           2\n",
       "last取餐出發時間                2\n",
       "lastRider                 2\n",
       "pre取餐出發時間                 2\n",
       "preRider                  2\n",
       "dtype: int64"
      ]
     },
     "execution_count": 68,
     "metadata": {},
     "output_type": "execute_result"
    }
   ],
   "source": [
    "output.groupby(['departureTimeSimulation','rider']).count().max()"
   ]
  },
  {
   "cell_type": "code",
   "execution_count": null,
   "metadata": {},
   "outputs": [],
   "source": []
  }
 ],
 "metadata": {
  "kernelspec": {
   "display_name": "Python 3",
   "language": "python",
   "name": "python3"
  },
  "language_info": {
   "codemirror_mode": {
    "name": "ipython",
    "version": 3
   },
   "file_extension": ".py",
   "mimetype": "text/x-python",
   "name": "python",
   "nbconvert_exporter": "python",
   "pygments_lexer": "ipython3",
   "version": "3.7.6"
  }
 },
 "nbformat": 4,
 "nbformat_minor": 4
}
