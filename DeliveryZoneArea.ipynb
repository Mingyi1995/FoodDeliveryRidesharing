{
 "cells": [
  {
   "cell_type": "code",
   "execution_count": 1,
   "metadata": {},
   "outputs": [],
   "source": [
    "import pandas as pd\n",
    "import geopandas as gpd\n",
    "import os"
   ]
  },
  {
   "cell_type": "code",
   "execution_count": 132,
   "metadata": {},
   "outputs": [],
   "source": [
    "path = '../3. Delivery zone/'"
   ]
  },
  {
   "cell_type": "code",
   "execution_count": 72,
   "metadata": {},
   "outputs": [
    {
     "data": {
      "text/html": [
       "<div>\n",
       "<style scoped>\n",
       "    .dataframe tbody tr th:only-of-type {\n",
       "        vertical-align: middle;\n",
       "    }\n",
       "\n",
       "    .dataframe tbody tr th {\n",
       "        vertical-align: top;\n",
       "    }\n",
       "\n",
       "    .dataframe thead th {\n",
       "        text-align: right;\n",
       "    }\n",
       "</style>\n",
       "<table border=\"1\" class=\"dataframe\">\n",
       "  <thead>\n",
       "    <tr style=\"text-align: right;\">\n",
       "      <th></th>\n",
       "      <th>storeCode</th>\n",
       "      <th>lat</th>\n",
       "      <th>lon</th>\n",
       "    </tr>\n",
       "  </thead>\n",
       "  <tbody>\n",
       "    <tr>\n",
       "      <th>0</th>\n",
       "      <td>KFCN005</td>\n",
       "      <td>22.286214</td>\n",
       "      <td>114.153966</td>\n",
       "    </tr>\n",
       "    <tr>\n",
       "      <th>1</th>\n",
       "      <td>KFCN026</td>\n",
       "      <td>22.281572</td>\n",
       "      <td>114.157753</td>\n",
       "    </tr>\n",
       "    <tr>\n",
       "      <th>2</th>\n",
       "      <td>KFCN032</td>\n",
       "      <td>22.306068</td>\n",
       "      <td>114.190308</td>\n",
       "    </tr>\n",
       "    <tr>\n",
       "      <th>3</th>\n",
       "      <td>KFCN045</td>\n",
       "      <td>22.373829</td>\n",
       "      <td>114.116297</td>\n",
       "    </tr>\n",
       "    <tr>\n",
       "      <th>4</th>\n",
       "      <td>KFCN046</td>\n",
       "      <td>22.492880</td>\n",
       "      <td>114.139206</td>\n",
       "    </tr>\n",
       "  </tbody>\n",
       "</table>\n",
       "</div>"
      ],
      "text/plain": [
       "  storeCode        lat         lon\n",
       "0   KFCN005  22.286214  114.153966\n",
       "1   KFCN026  22.281572  114.157753\n",
       "2   KFCN032  22.306068  114.190308\n",
       "3   KFCN045  22.373829  114.116297\n",
       "4   KFCN046  22.492880  114.139206"
      ]
     },
     "execution_count": 72,
     "metadata": {},
     "output_type": "execute_result"
    }
   ],
   "source": [
    "storeBanner = pd.read_csv('../codebase/geocoding.csv')\n",
    "storeBanner.head()"
   ]
  },
  {
   "cell_type": "code",
   "execution_count": null,
   "metadata": {},
   "outputs": [],
   "source": []
  },
  {
   "cell_type": "code",
   "execution_count": 155,
   "metadata": {},
   "outputs": [],
   "source": [
    "brand = 'PHD'\n",
    "file = gpd.read_file(path+brand+'/MAP-line.shp')\n",
    "file = file.to_crs(epsg=2326)\n",
    "file['geometry'] = file.geometry.convex_hull"
   ]
  },
  {
   "cell_type": "code",
   "execution_count": 156,
   "metadata": {},
   "outputs": [],
   "source": [
    "def storeCodeMatch(x):\n",
    "    storeName = [i for i in storeCode if brand in i]\n",
    "    storeName = [i.replace(brand,'') for i in storeName]\n",
    "    for name in storeName:\n",
    "        if name in x:\n",
    "            return name"
   ]
  },
  {
   "cell_type": "code",
   "execution_count": 157,
   "metadata": {},
   "outputs": [],
   "source": [
    "storeCode = storeBanner.storeCode.unique()"
   ]
  },
  {
   "cell_type": "code",
   "execution_count": 158,
   "metadata": {},
   "outputs": [],
   "source": [
    "file['area'] = file.geometry.area\n",
    "if brand == 'KFC':\n",
    "    file['Store'] = file['Name'].apply(lambda x: storeCodeMatch(x))\n",
    "else:\n",
    "    file['Store'] = file['Name'].apply(lambda x: x.split('-')[0])"
   ]
  },
  {
   "cell_type": "code",
   "execution_count": 159,
   "metadata": {},
   "outputs": [],
   "source": [
    "file[['Name','area','Store']].to_csv('DeliverZoneArea(m2)/%s.csv'%brand,index=False)\n",
    "file = file.dissolve(by=['Store'], aggfunc='sum').reset_index()\n",
    "file[['area','Store']].to_csv('DeliverZoneArea(m2)/%sStore.csv'%brand,index=False)"
   ]
  },
  {
   "cell_type": "code",
   "execution_count": 160,
   "metadata": {},
   "outputs": [
    {
     "data": {
      "text/plain": [
       "array(['535', '601', '602', '603', '605', '606', '609', '610', '611',\n",
       "       '612', '616', '618', '619', '620', '621', '623', '624', '625',\n",
       "       '626', '627', '628', '629', '631', '633', '634', '635', '636',\n",
       "       '637', '638'], dtype=object)"
      ]
     },
     "execution_count": 160,
     "metadata": {},
     "output_type": "execute_result"
    }
   ],
   "source": [
    "file.Store.unique()"
   ]
  },
  {
   "cell_type": "code",
   "execution_count": null,
   "metadata": {},
   "outputs": [],
   "source": []
  }
 ],
 "metadata": {
  "kernelspec": {
   "display_name": "Python 3",
   "language": "python",
   "name": "python3"
  },
  "language_info": {
   "codemirror_mode": {
    "name": "ipython",
    "version": 3
   },
   "file_extension": ".py",
   "mimetype": "text/x-python",
   "name": "python",
   "nbconvert_exporter": "python",
   "pygments_lexer": "ipython3",
   "version": "3.7.6"
  }
 },
 "nbformat": 4,
 "nbformat_minor": 4
}
